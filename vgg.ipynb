{
 "cells": [
  {
   "cell_type": "code",
   "execution_count": 1,
   "metadata": {
    "collapsed": true
   },
   "outputs": [],
   "source": [
    "import numpy as np\n",
    "import pandas as pd\n",
    "import matplotlib.pyplot as plt\n",
    "%matplotlib inline"
   ]
  },
  {
   "cell_type": "code",
   "execution_count": 2,
   "metadata": {
    "collapsed": false
   },
   "outputs": [
    {
     "name": "stderr",
     "output_type": "stream",
     "text": [
      "Using gpu device 0: GeForce GTX 670 (CNMeM is disabled)\n"
     ]
    }
   ],
   "source": [
    "import lasagne\n",
    "from lasagne.layers import InputLayer, DenseLayer, DropoutLayer\n",
    "from lasagne.layers.dnn import Conv2DDNNLayer as ConvLayer\n",
    "from lasagne.layers.dnn import MaxPool2DDNNLayer as PoolLayer\n",
    "from lasagne.layers import LocalResponseNormalization2DLayer as NormLayer\n",
    "from lasagne.utils import floatX"
   ]
  },
  {
   "cell_type": "code",
   "execution_count": 3,
   "metadata": {
    "collapsed": false
   },
   "outputs": [],
   "source": [
    "import theano.tensor as T"
   ]
  },
  {
   "cell_type": "code",
   "execution_count": 4,
   "metadata": {
    "collapsed": false
   },
   "outputs": [],
   "source": [
    "input_var = T.tensor4('inputs')\n",
    "target_var = T.ivector('targets')"
   ]
  },
  {
   "cell_type": "code",
   "execution_count": 5,
   "metadata": {
    "collapsed": false
   },
   "outputs": [],
   "source": [
    "net = {}\n",
    "net['input'] = InputLayer((None, 3, 200, 200),input_var=input_var)\n",
    "net['conv1'] = ConvLayer(net['input'], num_filters=64, filter_size=5, stride=1,\n",
    "                        nonlinearity = lasagne.nonlinearities.rectify,\n",
    "                        W = lasagne.init.GlorotUniform(gain = 'relu'))\n",
    "#net['norm1'] = NormLayer(net['conv1'], alpha=0.0001) # caffe has alpha = alpha * pool_size\n",
    "net['pool1'] = PoolLayer(net['conv1'], pool_size=5, stride=5)\n",
    "net['conv2'] = ConvLayer(net['pool1'], num_filters=64, filter_size=5,\n",
    "                        nonlinearity = lasagne.nonlinearities.rectify,\n",
    "                        W = lasagne.init.GlorotUniform(gain = 'relu'))\n",
    "net['pool2'] = PoolLayer(net['conv2'], pool_size=5, stride=5)\n",
    "#net['conv3'] = ConvLayer(net['pool2'], num_filters=128, filter_size=3, pad=1)\n",
    "#net['conv4'] = ConvLayer(net['conv3'], num_filters=128, filter_size=3, pad=1)\n",
    "#net['conv5'] = ConvLayer(net['conv4'], num_filters=128, filter_size=3, pad=1)\n",
    "#net['pool5'] = PoolLayer(net['conv5'], pool_size=3, stride=3, ignore_border=False)\n",
    "net['fc6'] = DenseLayer(net['pool2'], num_units=512,\n",
    "                        nonlinearity = lasagne.nonlinearities.rectify,\n",
    "                        W = lasagne.init.GlorotUniform(gain = 'relu'))\n",
    "net['drop6'] = DropoutLayer(net['fc6'], p=0.5)\n",
    "net['fc7'] = DenseLayer(net['drop6'], num_units=256,\n",
    "                        nonlinearity = lasagne.nonlinearities.rectify,\n",
    "                        W = lasagne.init.GlorotUniform(gain = 'relu'))\n",
    "net['drop7'] = DropoutLayer(net['fc7'], p=0.5)\n",
    "net['fc8'] = DenseLayer(net['drop7'], num_units=128,\n",
    "                        nonlinearity = lasagne.nonlinearities.rectify,\n",
    "                        W = lasagne.init.GlorotUniform(gain = 'relu'))\n",
    "net['drop8'] = DropoutLayer(net['fc8'], p=0.5)\n",
    "net['fc9'] = DenseLayer(net['drop8'], num_units=2, nonlinearity=lasagne.nonlinearities.softmax)\n",
    "output_layer = net['fc9']"
   ]
  },
  {
   "cell_type": "code",
   "execution_count": 6,
   "metadata": {
    "collapsed": true
   },
   "outputs": [],
   "source": [
    "import matplotlib.image as mpimg"
   ]
  },
  {
   "cell_type": "code",
   "execution_count": 7,
   "metadata": {
    "collapsed": false
   },
   "outputs": [],
   "source": [
    "labels =  pd.read_csv('./b37d3960-6909-472b-9ce1-c33b07dbdb66.csv', index_col='id')"
   ]
  },
  {
   "cell_type": "code",
   "execution_count": 8,
   "metadata": {
    "collapsed": false
   },
   "outputs": [],
   "source": [
    "labels = labels.sort_index()"
   ]
  },
  {
   "cell_type": "code",
   "execution_count": 9,
   "metadata": {
    "collapsed": true
   },
   "outputs": [],
   "source": [
    "data = np.zeros((3969, 3, 200, 200), dtype='float32')"
   ]
  },
  {
   "cell_type": "code",
   "execution_count": 10,
   "metadata": {
    "collapsed": false
   },
   "outputs": [
    {
     "data": {
      "text/plain": [
       "Int64Index([   1,    2,    3,    4,    5,    6,    8,    9,   12,   14,\n",
       "            ...\n",
       "            4947, 4949, 4950, 4951, 4952, 4953, 4957, 4958, 4959, 4960],\n",
       "           dtype='int64', name=u'id', length=3969)"
      ]
     },
     "execution_count": 10,
     "metadata": {},
     "output_type": "execute_result"
    }
   ],
   "source": [
    "labels.index"
   ]
  },
  {
   "cell_type": "code",
   "execution_count": 11,
   "metadata": {
    "collapsed": false
   },
   "outputs": [],
   "source": [
    "k = 0\n",
    "for i in labels.index:\n",
    "    with open('./bee_images/train/'+str(i)+'.jpg', 'r') as f:\n",
    "        img = mpimg.imread(f, format='jpg')\n",
    "        img2 = np.zeros((3,200,200))\n",
    "        for j in range(3):\n",
    "            img2[j,:,:] = img[:,:,j] / np.float(256)\n",
    "        data[k] = img2.copy()\n",
    "    k += 1"
   ]
  },
  {
   "cell_type": "code",
   "execution_count": 12,
   "metadata": {
    "collapsed": true
   },
   "outputs": [],
   "source": [
    "def add_rev(data):\n",
    "    dnew = np.zeros(data.shape, dtype='float32')\n",
    "    k = 0\n",
    "    for im in data:\n",
    "        dnew[k] = im[:,:,::-1].copy()\n",
    "        k += 1\n",
    "    #print im[:,:,::-1]\n",
    "    return dnew\n",
    "\n",
    "def add_ud(data):\n",
    "    dnew = np.zeros(data.shape, dtype='float32')\n",
    "    k = 0\n",
    "    for im in data:\n",
    "        dnew[k] = im[:,::-1,:].copy()\n",
    "        k += 1\n",
    "    return dnew\n",
    "\n",
    "def add_rud(data):\n",
    "    dnew = np.zeros(data.shape, dtype='float32')\n",
    "    k = 0\n",
    "    for im in data:\n",
    "        dnew[k] = im[:,::-1,::-1].copy()\n",
    "        k += 1\n",
    "    return dnew"
   ]
  },
  {
   "cell_type": "code",
   "execution_count": 13,
   "metadata": {
    "collapsed": false
   },
   "outputs": [],
   "source": [
    "X_train, X_val = data[:3000], data[3000:]"
   ]
  },
  {
   "cell_type": "code",
   "execution_count": 14,
   "metadata": {
    "collapsed": false
   },
   "outputs": [],
   "source": [
    "X_train = np.concatenate((X_train, add_rev(X_train)))"
   ]
  },
  {
   "cell_type": "code",
   "execution_count": 15,
   "metadata": {
    "collapsed": false
   },
   "outputs": [],
   "source": [
    "y_train, y_val = labels.genus.values[:3000].astype('int32'), labels.genus.values[3000:].astype('int32')"
   ]
  },
  {
   "cell_type": "code",
   "execution_count": 16,
   "metadata": {
    "collapsed": true
   },
   "outputs": [],
   "source": [
    "y_train = np.concatenate((y_train, y_train))"
   ]
  },
  {
   "cell_type": "code",
   "execution_count": 13,
   "metadata": {
    "collapsed": true
   },
   "outputs": [],
   "source": [
    "def iterate_minibatches(inputs, targets, batchsize, shuffle=False):\n",
    "    assert len(inputs) == len(targets)\n",
    "    if shuffle:\n",
    "        indices = np.arange(len(inputs))\n",
    "        np.random.shuffle(indices)\n",
    "    for start_idx in range(0, len(inputs) - batchsize + 1, batchsize):\n",
    "        if shuffle:\n",
    "            excerpt = indices[start_idx:start_idx + batchsize]\n",
    "        else:\n",
    "            excerpt = slice(start_idx, start_idx + batchsize)\n",
    "        yield inputs[excerpt], targets[excerpt]"
   ]
  },
  {
   "cell_type": "code",
   "execution_count": 14,
   "metadata": {
    "collapsed": true
   },
   "outputs": [],
   "source": [
    "import theano"
   ]
  },
  {
   "cell_type": "code",
   "execution_count": 15,
   "metadata": {
    "collapsed": false
   },
   "outputs": [],
   "source": [
    "prediction = lasagne.layers.get_output(output_layer)\n",
    "loss = lasagne.objectives.categorical_crossentropy(prediction, target_var)\n",
    "loss = loss.mean()\n",
    "# We could add some weight decay as well here, see lasagne.regularization.\n",
    "\n",
    "# Create update expressions for training, i.e., how to modify the\n",
    "# parameters at each training step. Here, we'll use Stochastic Gradient\n",
    "# Descent (SGD) with Nesterov momentum, but Lasagne offers plenty more.\n",
    "params = lasagne.layers.get_all_params(output_layer, trainable=True)\n",
    "updates = lasagne.updates.nesterov_momentum(\n",
    "        loss, params, learning_rate=0.002, momentum=0.9)\n",
    "\n",
    "# Create a loss expression for validation/testing. The crucial difference\n",
    "# here is that we do a deterministic forward pass through the network,\n",
    "# disabling dropout layers.\n",
    "test_prediction = lasagne.layers.get_output(output_layer, deterministic=True)\n",
    "test_loss = lasagne.objectives.categorical_crossentropy(test_prediction,\n",
    "                                                        target_var)\n",
    "test_loss = test_loss.mean()\n",
    "# As a bonus, also create an expression for the classification accuracy:\n",
    "test_acc = T.mean(T.eq(T.argmax(test_prediction, axis=1), target_var),\n",
    "                  dtype=theano.config.floatX)\n",
    "\n",
    "\n",
    "# Compile a function performing a training step on a mini-batch (by giving\n",
    "# the updates dictionary) and returning the corresponding training loss:\n",
    "train_fn = theano.function([input_var, target_var], loss, updates=updates)\n",
    "\n",
    "# Compile a second function computing the validation loss and accuracy:\n",
    "val_fn = theano.function([input_var, target_var], [test_loss, test_acc])\n",
    "\n",
    "test_fn = theano.function([input_var], test_prediction)"
   ]
  },
  {
   "cell_type": "code",
   "execution_count": 16,
   "metadata": {
    "collapsed": true
   },
   "outputs": [],
   "source": [
    "import time"
   ]
  },
  {
   "cell_type": "code",
   "execution_count": 21,
   "metadata": {
    "collapsed": true
   },
   "outputs": [],
   "source": [
    "from sklearn.metrics import roc_auc_score"
   ]
  },
  {
   "cell_type": "code",
   "execution_count": 22,
   "metadata": {
    "collapsed": false,
    "scrolled": true
   },
   "outputs": [
    {
     "name": "stdout",
     "output_type": "stream",
     "text": [
      "Starting training...\n",
      "Epoch 1 of 1000 took 31.268s\n",
      "  training loss:\t\t0.549553\n",
      "  validation loss:\t\t0.541541\n",
      "  validation accuracy:\t\t77.50 %\n",
      "  validation roc auc:\t\t0.475971\n",
      "Epoch 2 of 1000 took 30.856s\n",
      "  training loss:\t\t0.522081\n",
      "  validation loss:\t\t0.535381\n",
      "  validation accuracy:\t\t77.50 %\n",
      "  validation roc auc:\t\t0.515234\n",
      "Epoch 3 of 1000 took 30.852s\n",
      "  training loss:\t\t0.511894\n",
      "  validation loss:\t\t0.529142\n",
      "  validation accuracy:\t\t77.50 %\n",
      "  validation roc auc:\t\t0.624458\n",
      "Epoch 4 of 1000 took 30.896s\n",
      "  training loss:\t\t0.502418\n",
      "  validation loss:\t\t0.519884\n",
      "  validation accuracy:\t\t77.50 %\n",
      "  validation roc auc:\t\t0.680328\n",
      "Epoch 5 of 1000 took 30.885s\n",
      "  training loss:\t\t0.492069\n",
      "  validation loss:\t\t0.504197\n",
      "  validation accuracy:\t\t77.50 %\n",
      "  validation roc auc:\t\t0.745923\n",
      "Epoch 6 of 1000 took 30.968s\n",
      "  training loss:\t\t0.480570\n",
      "  validation loss:\t\t0.491589\n",
      "  validation accuracy:\t\t77.50 %\n",
      "  validation roc auc:\t\t0.766544\n",
      "Epoch 7 of 1000 took 30.968s\n",
      "  training loss:\t\t0.466468\n",
      "  validation loss:\t\t0.470508\n",
      "  validation accuracy:\t\t77.50 %\n",
      "  validation roc auc:\t\t0.774912\n",
      "Epoch 8 of 1000 took 30.933s\n",
      "  training loss:\t\t0.448572\n",
      "  validation loss:\t\t0.458486\n",
      "  validation accuracy:\t\t77.50 %\n",
      "  validation roc auc:\t\t0.776940\n",
      "Epoch 9 of 1000 took 30.903s\n",
      "  training loss:\t\t0.440453\n",
      "  validation loss:\t\t0.428432\n",
      "  validation accuracy:\t\t77.50 %\n",
      "  validation roc auc:\t\t0.811725\n",
      "Epoch 10 of 1000 took 30.966s\n",
      "  training loss:\t\t0.420828\n",
      "  validation loss:\t\t0.418012\n",
      "  validation accuracy:\t\t77.61 %\n",
      "  validation roc auc:\t\t0.819366\n",
      "Epoch 11 of 1000 took 30.843s\n",
      "  training loss:\t\t0.411757\n",
      "  validation loss:\t\t0.401909\n",
      "  validation accuracy:\t\t78.33 %\n",
      "  validation roc auc:\t\t0.835803\n",
      "Epoch 12 of 1000 took 30.892s\n",
      "  training loss:\t\t0.403100\n",
      "  validation loss:\t\t0.392635\n",
      "  validation accuracy:\t\t79.46 %\n",
      "  validation roc auc:\t\t0.845582\n",
      "Epoch 13 of 1000 took 30.832s\n",
      "  training loss:\t\t0.397918\n",
      "  validation loss:\t\t0.388904\n",
      "  validation accuracy:\t\t79.15 %\n",
      "  validation roc auc:\t\t0.854237\n",
      "Epoch 14 of 1000 took 30.889s\n",
      "  training loss:\t\t0.383836\n",
      "  validation loss:\t\t0.383571\n",
      "  validation accuracy:\t\t81.11 %\n",
      "  validation roc auc:\t\t0.858128\n",
      "Epoch 15 of 1000 took 30.883s\n",
      "  training loss:\t\t0.379436\n",
      "  validation loss:\t\t0.394260\n",
      "  validation accuracy:\t\t82.25 %\n",
      "  validation roc auc:\t\t0.864041\n",
      "Epoch 16 of 1000 took 30.800s\n",
      "  training loss:\t\t0.379719\n",
      "  validation loss:\t\t0.358989\n",
      "  validation accuracy:\t\t84.00 %\n",
      "  validation roc auc:\t\t0.883425\n",
      "Epoch 17 of 1000 took 30.845s\n",
      "  training loss:\t\t0.361637\n",
      "  validation loss:\t\t0.343918\n",
      "  validation accuracy:\t\t84.11 %\n",
      "  validation roc auc:\t\t0.889530\n",
      "Epoch 18 of 1000 took 30.935s\n",
      "  training loss:\t\t0.353161\n",
      "  validation loss:\t\t0.336970\n",
      "  validation accuracy:\t\t84.42 %\n",
      "  validation roc auc:\t\t0.899180\n",
      "Epoch 19 of 1000 took 30.855s\n",
      "  training loss:\t\t0.348655\n",
      "  validation loss:\t\t0.363553\n",
      "  validation accuracy:\t\t83.28 %\n",
      "  validation roc auc:\t\t0.888949\n",
      "Epoch 20 of 1000 took 30.905s\n",
      "  training loss:\t\t0.344040\n",
      "  validation loss:\t\t0.343883\n",
      "  validation accuracy:\t\t83.90 %\n",
      "  validation roc auc:\t\t0.905007\n",
      "Epoch 21 of 1000 took 31.078s\n",
      "  training loss:\t\t0.330868\n",
      "  validation loss:\t\t0.335004\n",
      "  validation accuracy:\t\t84.73 %\n",
      "  validation roc auc:\t\t0.898893\n",
      "Epoch 22 of 1000 took 30.837s\n",
      "  training loss:\t\t0.330674\n",
      "  validation loss:\t\t0.333033\n",
      "  validation accuracy:\t\t84.62 %\n",
      "  validation roc auc:\t\t0.902680\n",
      "Epoch 23 of 1000 took 30.835s\n",
      "  training loss:\t\t0.318143\n",
      "  validation loss:\t\t0.314649\n",
      "  validation accuracy:\t\t85.35 %\n",
      "  validation roc auc:\t\t0.906705\n",
      "Epoch 24 of 1000 took 30.837s\n",
      "  training loss:\t\t0.315685\n",
      "  validation loss:\t\t0.326797\n",
      "  validation accuracy:\t\t85.24 %\n",
      "  validation roc auc:\t\t0.907756\n",
      "Epoch 25 of 1000 took 30.851s\n",
      "  training loss:\t\t0.306510\n",
      "  validation loss:\t\t0.322754\n",
      "  validation accuracy:\t\t84.42 %\n",
      "  validation roc auc:\t\t0.903969\n",
      "Epoch 26 of 1000 took 31.001s\n",
      "  training loss:\t\t0.301939\n",
      "  validation loss:\t\t0.311504\n",
      "  validation accuracy:\t\t84.83 %\n",
      "  validation roc auc:\t\t0.910193\n",
      "Epoch 27 of 1000 took 30.901s\n",
      "  training loss:\t\t0.295421\n",
      "  validation loss:\t\t0.320457\n",
      "  validation accuracy:\t\t84.31 %\n",
      "  validation roc auc:\t\t0.914756\n",
      "Epoch 28 of 1000 took 30.858s\n",
      "  training loss:\t\t0.288725\n",
      "  validation loss:\t\t0.312108\n",
      "  validation accuracy:\t\t85.04 %\n",
      "  validation roc auc:\t\t0.910889\n",
      "Epoch 29 of 1000 took 30.858s\n",
      "  training loss:\t\t0.284832\n",
      "  validation loss:\t\t0.300601\n",
      "  validation accuracy:\t\t84.83 %\n",
      "  validation roc auc:\t\t0.918738\n",
      "Epoch 30 of 1000 took 30.844s\n",
      "  training loss:\t\t0.282021\n",
      "  validation loss:\t\t0.314069\n",
      "  validation accuracy:\t\t85.35 %\n",
      "  validation roc auc:\t\t0.909778\n",
      "Epoch 31 of 1000 took 30.852s\n",
      "  training loss:\t\t0.272201\n",
      "  validation loss:\t\t0.310369\n",
      "  validation accuracy:\t\t85.35 %\n",
      "  validation roc auc:\t\t0.912019\n",
      "Epoch 32 of 1000 took 30.907s\n",
      "  training loss:\t\t0.272698\n",
      "  validation loss:\t\t0.301756\n",
      "  validation accuracy:\t\t86.07 %\n",
      "  validation roc auc:\t\t0.918299\n",
      "Epoch 33 of 1000 took 30.905s\n",
      "  training loss:\t\t0.263937\n",
      "  validation loss:\t\t0.293398\n",
      "  validation accuracy:\t\t85.66 %\n",
      "  validation roc auc:\t\t0.924962\n",
      "Epoch 34 of 1000 took 30.866s\n",
      "  training loss:\t\t0.256794\n",
      "  validation loss:\t\t0.337737\n",
      "  validation accuracy:\t\t85.76 %\n",
      "  validation roc auc:\t\t0.912557\n",
      "Epoch 35 of 1000 took 30.941s\n",
      "  training loss:\t\t0.253835\n",
      "  validation loss:\t\t0.312415\n",
      "  validation accuracy:\t\t85.86 %\n",
      "  validation roc auc:\t\t0.916307\n",
      "Epoch 36 of 1000 took 30.910s\n",
      "  training loss:\t\t0.240357\n",
      "  validation loss:\t\t0.310402\n",
      "  validation accuracy:\t\t85.66 %\n",
      "  validation roc auc:\t\t0.921041\n",
      "Epoch 37 of 1000 took 30.931s\n",
      "  training loss:\t\t0.242865\n",
      "  validation loss:\t\t0.324996\n",
      "  validation accuracy:\t\t84.52 %\n",
      "  validation roc auc:\t\t0.908349\n",
      "Epoch 38 of 1000 took 30.917s\n",
      "  training loss:\t\t0.230600\n",
      "  validation loss:\t\t0.320941\n",
      "  validation accuracy:\t\t85.24 %\n",
      "  validation roc auc:\t\t0.916631\n",
      "Epoch 39 of 1000 took 30.866s\n",
      "  training loss:\t\t0.225706\n",
      "  validation loss:\t\t0.307236\n",
      "  validation accuracy:\t\t85.66 %\n",
      "  validation roc auc:\t\t0.918793\n",
      "Epoch 40 of 1000 took 30.949s\n",
      "  training loss:\t\t0.217097\n",
      "  validation loss:\t\t0.321230\n",
      "  validation accuracy:\t\t85.76 %\n",
      "  validation roc auc:\t\t0.917187\n",
      "Epoch 41 of 1000 took 30.903s\n",
      "  training loss:\t\t0.219208\n",
      "  validation loss:\t\t0.309221\n",
      "  validation accuracy:\t\t86.69 %\n",
      "  validation roc auc:\t\t0.916637\n",
      "Epoch 42 of 1000 took 30.967s\n",
      "  training loss:\t\t0.206994\n",
      "  validation loss:\t\t0.307162\n",
      "  validation accuracy:\t\t85.76 %\n",
      "  validation roc auc:\t\t0.922189\n",
      "Epoch 43 of 1000 took 31.048s\n",
      "  training loss:\t\t0.209285\n",
      "  validation loss:\t\t0.297590\n",
      "  validation accuracy:\t\t87.00 %\n",
      "  validation roc auc:\t\t0.927009\n",
      "Epoch 44 of 1000 took 30.912s\n",
      "  training loss:\t\t0.191162\n",
      "  validation loss:\t\t0.307825\n",
      "  validation accuracy:\t\t87.10 %\n",
      "  validation roc auc:\t\t0.927100\n",
      "Epoch 45 of 1000 took 31.133s\n",
      "  training loss:\t\t0.188786\n",
      "  validation loss:\t\t0.322238\n",
      "  validation accuracy:\t\t86.27 %\n",
      "  validation roc auc:\t\t0.917566\n",
      "Epoch 46 of 1000 took 30.916s\n",
      "  training loss:\t\t0.178323\n",
      "  validation loss:\t\t0.329818\n",
      "  validation accuracy:\t\t87.00 %\n",
      "  validation roc auc:\t\t0.924462\n",
      "Epoch 47 of 1000 took 31.142s\n",
      "  training loss:\t\t0.166748\n",
      "  validation loss:\t\t0.350514\n",
      "  validation accuracy:\t\t86.58 %\n",
      "  validation roc auc:\t\t0.918980\n",
      "Epoch 48 of 1000 took 30.865s\n",
      "  training loss:\t\t0.169457\n",
      "  validation loss:\t\t0.358023\n",
      "  validation accuracy:\t\t86.48 %\n",
      "  validation roc auc:\t\t0.920858\n",
      "Epoch 49 of 1000 took 30.910s\n",
      "  training loss:\t\t0.155992\n",
      "  validation loss:\t\t0.304456\n",
      "  validation accuracy:\t\t87.72 %\n",
      "  validation roc auc:\t\t0.928975\n",
      "Epoch 50 of 1000 took 30.946s\n",
      "  training loss:\t\t0.146423\n",
      "  validation loss:\t\t0.347616\n",
      "  validation accuracy:\t\t85.45 %\n",
      "  validation roc auc:\t\t0.922214\n",
      "Epoch 51 of 1000 took 30.896s\n",
      "  training loss:\t\t0.145328\n",
      "  validation loss:\t\t0.348978\n",
      "  validation accuracy:\t\t86.07 %\n",
      "  validation roc auc:\t\t0.921114\n",
      "Epoch 52 of 1000 took 30.927s\n",
      "  training loss:\t\t0.148348\n",
      "  validation loss:\t\t0.353529\n",
      "  validation accuracy:\t\t87.31 %\n",
      "  validation roc auc:\t\t0.922348\n",
      "Epoch 53 of 1000 took 30.916s\n",
      "  training loss:\t\t0.129373\n",
      "  validation loss:\t\t0.384187\n",
      "  validation accuracy:\t\t85.86 %\n",
      "  validation roc auc:\t\t0.915229\n",
      "Epoch 54 of 1000 took 30.917s\n",
      "  training loss:\t\t0.126466\n",
      "  validation loss:\t\t0.399055\n",
      "  validation accuracy:\t\t86.89 %\n",
      "  validation roc auc:\t\t0.917889\n",
      "Epoch 55 of 1000 took 31.060s\n",
      "  training loss:\t\t0.119320\n",
      "  validation loss:\t\t0.415657\n",
      "  validation accuracy:\t\t87.31 %\n",
      "  validation roc auc:\t\t0.917984\n",
      "Epoch 56 of 1000 took 30.882s\n",
      "  training loss:\t\t0.108686\n",
      "  validation loss:\t\t0.406230\n",
      "  validation accuracy:\t\t85.86 %\n",
      "  validation roc auc:\t\t0.913324\n",
      "Epoch 57 of 1000 took 30.955s\n",
      "  training loss:\t\t0.110566\n",
      "  validation loss:\t\t0.405167\n",
      "  validation accuracy:\t\t85.86 %\n",
      "  validation roc auc:\t\t0.918103\n",
      "Epoch 58 of 1000 took 30.913s\n",
      "  training loss:\t\t0.100168\n",
      "  validation loss:\t\t0.428196\n",
      "  validation accuracy:\t\t86.38 %\n",
      "  validation roc auc:\t\t0.918439\n",
      "Epoch 59 of 1000 took 30.963s\n",
      "  training loss:\t\t0.088103\n",
      "  validation loss:\t\t0.408678\n",
      "  validation accuracy:\t\t86.58 %\n",
      "  validation roc auc:\t\t0.920091\n",
      "Epoch 60 of 1000 took 30.881s\n",
      "  training loss:\t\t0.087991\n",
      "  validation loss:\t\t0.425919\n",
      "  validation accuracy:\t\t87.31 %\n",
      "  validation roc auc:\t\t0.919218\n",
      "Epoch 61 of 1000 took 30.955s\n",
      "  training loss:\t\t0.086911\n",
      "  validation loss:\t\t0.445011\n",
      "  validation accuracy:\t\t85.86 %\n",
      "  validation roc auc:\t\t0.916793\n",
      "Epoch 62 of 1000 took 30.882s\n",
      "  training loss:\t\t0.082121\n",
      "  validation loss:\t\t0.495665\n",
      "  validation accuracy:\t\t85.96 %\n",
      "  validation roc auc:\t\t0.921096\n",
      "Epoch 63 of 1000 took 30.976s\n",
      "  training loss:\t\t0.078210\n",
      "  validation loss:\t\t0.510482\n",
      "  validation accuracy:\t\t86.89 %\n",
      "  validation roc auc:\t\t0.917969\n",
      "Epoch 64 of 1000 took 30.896s\n",
      "  training loss:\t\t0.076632\n",
      "  validation loss:\t\t0.449496\n",
      "  validation accuracy:\t\t87.41 %\n",
      "  validation roc auc:\t\t0.923478\n",
      "Epoch 65 of 1000 took 30.876s\n",
      "  training loss:\t\t0.068586\n",
      "  validation loss:\t\t0.478565\n",
      "  validation accuracy:\t\t88.24 %\n",
      "  validation roc auc:\t\t0.921124\n",
      "Epoch 66 of 1000 took 30.929s\n",
      "  training loss:\t\t0.068043\n",
      "  validation loss:\t\t0.473325\n",
      "  validation accuracy:\t\t87.51 %\n",
      "  validation roc auc:\t\t0.918891\n",
      "Epoch 67 of 1000 took 30.996s\n",
      "  training loss:\t\t0.060220\n",
      "  validation loss:\t\t0.466161\n",
      "  validation accuracy:\t\t88.34 %\n",
      "  validation roc auc:\t\t0.918903\n",
      "Epoch 68 of 1000 took 30.898s\n",
      "  training loss:\t\t0.055208\n",
      "  validation loss:\t\t0.463787\n",
      "  validation accuracy:\t\t88.13 %\n",
      "  validation roc auc:\t\t0.924061\n",
      "Epoch 69 of 1000 took 31.018s\n",
      "  training loss:\t\t0.056183\n",
      "  validation loss:\t\t0.446318\n",
      "  validation accuracy:\t\t86.89 %\n",
      "  validation roc auc:\t\t0.919829\n",
      "Epoch 70 of 1000 took 31.115s\n",
      "  training loss:\t\t0.054348\n",
      "  validation loss:\t\t0.508643\n",
      "  validation accuracy:\t\t88.24 %\n",
      "  validation roc auc:\t\t0.922577\n",
      "Epoch 71 of 1000 took 30.880s\n",
      "  training loss:\t\t0.054602\n",
      "  validation loss:\t\t0.532163\n",
      "  validation accuracy:\t\t88.96 %\n",
      "  validation roc auc:\t\t0.924339\n",
      "Epoch 72 of 1000 took 31.013s\n",
      "  training loss:\t\t0.036319\n",
      "  validation loss:\t\t0.489959\n",
      "  validation accuracy:\t\t87.31 %\n",
      "  validation roc auc:\t\t0.922736\n",
      "Epoch 73 of 1000 took 31.076s\n",
      "  training loss:\t\t0.042179\n",
      "  validation loss:\t\t0.507445\n",
      "  validation accuracy:\t\t87.72 %\n",
      "  validation roc auc:\t\t0.922764\n",
      "Epoch 74 of 1000 took 30.902s\n",
      "  training loss:\t\t0.035696\n",
      "  validation loss:\t\t0.643439\n",
      "  validation accuracy:\t\t86.48 %\n",
      "  validation roc auc:\t\t0.916567\n",
      "Epoch 75 of 1000 took 30.931s\n",
      "  training loss:\t\t0.038323\n",
      "  validation loss:\t\t0.587143\n",
      "  validation accuracy:\t\t87.00 %\n",
      "  validation roc auc:\t\t0.921609\n",
      "Epoch 76 of 1000 took 30.922s\n",
      "  training loss:\t\t0.050616\n",
      "  validation loss:\t\t0.532873\n",
      "  validation accuracy:\t\t87.20 %\n",
      "  validation roc auc:\t\t0.922706\n",
      "Epoch 77 of 1000 took 30.946s\n",
      "  training loss:\t\t0.039762\n",
      "  validation loss:\t\t0.533213\n",
      "  validation accuracy:\t\t87.00 %\n",
      "  validation roc auc:\t\t0.913727\n",
      "Epoch 78 of 1000 took 30.948s\n",
      "  training loss:\t\t0.042639\n",
      "  validation loss:\t\t0.552302\n",
      "  validation accuracy:\t\t86.69 %\n",
      "  validation roc auc:\t\t0.916433\n",
      "Epoch 79 of 1000 took 30.902s\n",
      "  training loss:\t\t0.037565\n",
      "  validation loss:\t\t0.631253\n",
      "  validation accuracy:\t\t86.27 %\n",
      "  validation roc auc:\t\t0.918354\n",
      "Epoch 80 of 1000 took 30.919s\n",
      "  training loss:\t\t0.029120\n",
      "  validation loss:\t\t0.766994\n",
      "  validation accuracy:\t\t86.58 %\n",
      "  validation roc auc:\t\t0.914924\n",
      "Epoch 81 of 1000 took 30.971s\n",
      "  training loss:\t\t0.036610\n",
      "  validation loss:\t\t0.557583\n",
      "  validation accuracy:\t\t87.62 %\n",
      "  validation roc auc:\t\t0.920482\n",
      "Epoch 82 of 1000 took 31.071s\n",
      "  training loss:\t\t0.033217\n",
      "  validation loss:\t\t0.575831\n",
      "  validation accuracy:\t\t87.82 %\n",
      "  validation roc auc:\t\t0.920690\n",
      "Epoch 83 of 1000 took 31.034s\n",
      "  training loss:\t\t0.033082\n",
      "  validation loss:\t\t0.589195\n",
      "  validation accuracy:\t\t87.20 %\n",
      "  validation roc auc:\t\t0.916338\n"
     ]
    },
    {
     "ename": "KeyboardInterrupt",
     "evalue": "",
     "output_type": "error",
     "traceback": [
      "\u001b[1;31m---------------------------------------------------------------------------\u001b[0m",
      "\u001b[1;31mKeyboardInterrupt\u001b[0m                         Traceback (most recent call last)",
      "\u001b[1;32m<ipython-input-22-5b289682ecbc>\u001b[0m in \u001b[0;36m<module>\u001b[1;34m()\u001b[0m\n\u001b[0;32m     12\u001b[0m     \u001b[1;32mfor\u001b[0m \u001b[0mbatch\u001b[0m \u001b[1;32min\u001b[0m \u001b[0miterate_minibatches\u001b[0m\u001b[1;33m(\u001b[0m\u001b[0mX_train\u001b[0m\u001b[1;33m,\u001b[0m \u001b[0my_train\u001b[0m\u001b[1;33m,\u001b[0m \u001b[0mbatchsize\u001b[0m\u001b[1;33m,\u001b[0m \u001b[0mshuffle\u001b[0m\u001b[1;33m=\u001b[0m\u001b[0mTrue\u001b[0m\u001b[1;33m)\u001b[0m\u001b[1;33m:\u001b[0m\u001b[1;33m\u001b[0m\u001b[0m\n\u001b[0;32m     13\u001b[0m         \u001b[0minputs\u001b[0m\u001b[1;33m,\u001b[0m \u001b[0mtargets\u001b[0m \u001b[1;33m=\u001b[0m \u001b[0mbatch\u001b[0m\u001b[1;33m\u001b[0m\u001b[0m\n\u001b[1;32m---> 14\u001b[1;33m         \u001b[0mtrain_err\u001b[0m \u001b[1;33m+=\u001b[0m \u001b[0mtrain_fn\u001b[0m\u001b[1;33m(\u001b[0m\u001b[0minputs\u001b[0m\u001b[1;33m,\u001b[0m \u001b[0mtargets\u001b[0m\u001b[1;33m)\u001b[0m\u001b[1;33m\u001b[0m\u001b[0m\n\u001b[0m\u001b[0;32m     15\u001b[0m         \u001b[0mtrain_batches\u001b[0m \u001b[1;33m+=\u001b[0m \u001b[1;36m1\u001b[0m\u001b[1;33m\u001b[0m\u001b[0m\n\u001b[0;32m     16\u001b[0m \u001b[1;33m\u001b[0m\u001b[0m\n",
      "\u001b[1;32m/home/libfun/.virtualenvs/main/local/lib/python2.7/site-packages/theano/compile/function_module.pyc\u001b[0m in \u001b[0;36m__call__\u001b[1;34m(self, *args, **kwargs)\u001b[0m\n\u001b[0;32m    857\u001b[0m         \u001b[0mt0_fn\u001b[0m \u001b[1;33m=\u001b[0m \u001b[0mtime\u001b[0m\u001b[1;33m.\u001b[0m\u001b[0mtime\u001b[0m\u001b[1;33m(\u001b[0m\u001b[1;33m)\u001b[0m\u001b[1;33m\u001b[0m\u001b[0m\n\u001b[0;32m    858\u001b[0m         \u001b[1;32mtry\u001b[0m\u001b[1;33m:\u001b[0m\u001b[1;33m\u001b[0m\u001b[0m\n\u001b[1;32m--> 859\u001b[1;33m             \u001b[0moutputs\u001b[0m \u001b[1;33m=\u001b[0m \u001b[0mself\u001b[0m\u001b[1;33m.\u001b[0m\u001b[0mfn\u001b[0m\u001b[1;33m(\u001b[0m\u001b[1;33m)\u001b[0m\u001b[1;33m\u001b[0m\u001b[0m\n\u001b[0m\u001b[0;32m    860\u001b[0m         \u001b[1;32mexcept\u001b[0m \u001b[0mException\u001b[0m\u001b[1;33m:\u001b[0m\u001b[1;33m\u001b[0m\u001b[0m\n\u001b[0;32m    861\u001b[0m             \u001b[1;32mif\u001b[0m \u001b[0mhasattr\u001b[0m\u001b[1;33m(\u001b[0m\u001b[0mself\u001b[0m\u001b[1;33m.\u001b[0m\u001b[0mfn\u001b[0m\u001b[1;33m,\u001b[0m \u001b[1;34m'position_of_error'\u001b[0m\u001b[1;33m)\u001b[0m\u001b[1;33m:\u001b[0m\u001b[1;33m\u001b[0m\u001b[0m\n",
      "\u001b[1;31mKeyboardInterrupt\u001b[0m: "
     ]
    }
   ],
   "source": [
    "num_epochs = 1000\n",
    "batchsize = 50\n",
    "\n",
    "# Finally, launch the training loop.\n",
    "print(\"Starting training...\")\n",
    "# We iterate over epochs:\n",
    "for epoch in range(num_epochs):\n",
    "    # In each epoch, we do a full pass over the training data:\n",
    "    train_err = 0\n",
    "    train_batches = 0\n",
    "    start_time = time.time()\n",
    "    for batch in iterate_minibatches(X_train, y_train, batchsize, shuffle=True):\n",
    "        inputs, targets = batch\n",
    "        train_err += train_fn(inputs, targets)\n",
    "        train_batches += 1\n",
    "\n",
    "    # And a full pass over the validation data:\n",
    "    val_err = 0\n",
    "    val_acc = 0\n",
    "    val_batches = 0\n",
    "    val_pred = []\n",
    "    for batch in iterate_minibatches(X_val, y_val, 1, shuffle=False):\n",
    "        inputs, targets = batch\n",
    "        err, acc = val_fn(inputs, targets)\n",
    "        vals = test_fn(inputs)[:,1]\n",
    "        vals2 = test_fn(inputs[:,:,::-1].reshape((1,3,200,200)))[:,1]\n",
    "        val_pred.append((vals + vals2)/2.0)\n",
    "        val_err += err\n",
    "        val_acc += acc\n",
    "        val_batches += 1\n",
    "\n",
    "    # Then we print the results for this epoch:\n",
    "    print(\"Epoch {} of {} took {:.3f}s\".format(\n",
    "        epoch + 1, num_epochs, time.time() - start_time))\n",
    "    print(\"  training loss:\\t\\t{:.6f}\".format(train_err / train_batches))\n",
    "    print(\"  validation loss:\\t\\t{:.6f}\".format(val_err / val_batches))\n",
    "    print(\"  validation accuracy:\\t\\t{:.2f} %\".format(\n",
    "        val_acc / val_batches * 100))\n",
    "    print(\"  validation roc auc:\\t\\t{:.6f}\".format(roc_auc_score(y_val, val_pred)))"
   ]
  },
  {
   "cell_type": "code",
   "execution_count": 17,
   "metadata": {
    "collapsed": true
   },
   "outputs": [],
   "source": [
    "X_train = data\n",
    "y_train = labels.genus.values.astype('int32')"
   ]
  },
  {
   "cell_type": "code",
   "execution_count": 18,
   "metadata": {
    "collapsed": true
   },
   "outputs": [],
   "source": [
    "X_train = np.concatenate((X_train, add_rev(X_train)))"
   ]
  },
  {
   "cell_type": "code",
   "execution_count": 19,
   "metadata": {
    "collapsed": true
   },
   "outputs": [],
   "source": [
    "y_train = np.concatenate((y_train, y_train))"
   ]
  },
  {
   "cell_type": "code",
   "execution_count": 21,
   "metadata": {
    "collapsed": false
   },
   "outputs": [],
   "source": [
    "tst = pd.read_csv('./SubmissionFormat.csv')"
   ]
  },
  {
   "cell_type": "code",
   "execution_count": 22,
   "metadata": {
    "collapsed": true
   },
   "outputs": [],
   "source": [
    "test_data = np.zeros((992, 3, 200, 200), dtype='float32')"
   ]
  },
  {
   "cell_type": "code",
   "execution_count": 23,
   "metadata": {
    "collapsed": false
   },
   "outputs": [],
   "source": [
    "k = 0\n",
    "for i in tst.id.values:\n",
    "    with open('./bee_images/test/'+str(i)+'.jpg', 'r') as f:\n",
    "        img = mpimg.imread(f, format='jpg')\n",
    "        img2 = np.zeros((3,200,200))\n",
    "        for j in range(3):\n",
    "            img2[j,:,:] = img[:,:,j] / np.float(256)\n",
    "        test_data[k] = img2.copy()\n",
    "    k += 1"
   ]
  },
  {
   "cell_type": "code",
   "execution_count": 20,
   "metadata": {
    "collapsed": false,
    "scrolled": true
   },
   "outputs": [
    {
     "name": "stdout",
     "output_type": "stream",
     "text": [
      "Starting training...\n",
      "Epoch 1 of 70 took 36.066s\n",
      "  training loss:\t\t0.552750\n",
      "Epoch 2 of 70 took 34.740s\n",
      "  training loss:\t\t0.521457\n",
      "Epoch 3 of 70 took 34.789s\n",
      "  training loss:\t\t0.503541\n",
      "Epoch 4 of 70 took 34.714s\n",
      "  training loss:\t\t0.484057\n",
      "Epoch 5 of 70 took 34.700s\n",
      "  training loss:\t\t0.462768\n",
      "Epoch 6 of 70 took 34.715s\n",
      "  training loss:\t\t0.436101\n",
      "Epoch 7 of 70 took 34.733s\n",
      "  training loss:\t\t0.419772\n",
      "Epoch 8 of 70 took 34.712s\n",
      "  training loss:\t\t0.402784\n",
      "Epoch 9 of 70 took 34.852s\n",
      "  training loss:\t\t0.390068\n",
      "Epoch 10 of 70 took 34.949s\n",
      "  training loss:\t\t0.376610\n",
      "Epoch 11 of 70 took 34.673s\n",
      "  training loss:\t\t0.372387\n",
      "Epoch 12 of 70 took 34.660s\n",
      "  training loss:\t\t0.359605\n",
      "Epoch 13 of 70 took 34.671s\n",
      "  training loss:\t\t0.354523\n",
      "Epoch 14 of 70 took 34.649s\n",
      "  training loss:\t\t0.342144\n",
      "Epoch 15 of 70 took 34.641s\n",
      "  training loss:\t\t0.337800\n",
      "Epoch 16 of 70 took 34.682s\n",
      "  training loss:\t\t0.332209\n",
      "Epoch 17 of 70 took 34.919s\n",
      "  training loss:\t\t0.327020\n",
      "Epoch 18 of 70 took 35.009s\n",
      "  training loss:\t\t0.316604\n",
      "Epoch 19 of 70 took 34.730s\n",
      "  training loss:\t\t0.310127\n",
      "Epoch 20 of 70 took 34.671s\n",
      "  training loss:\t\t0.308235\n",
      "Epoch 21 of 70 took 34.686s\n",
      "  training loss:\t\t0.295490\n",
      "Epoch 22 of 70 took 34.687s\n",
      "  training loss:\t\t0.290927\n",
      "Epoch 23 of 70 took 34.680s\n",
      "  training loss:\t\t0.290698\n",
      "Epoch 24 of 70 took 34.692s\n",
      "  training loss:\t\t0.283879\n",
      "Epoch 25 of 70 took 34.653s\n",
      "  training loss:\t\t0.277875\n",
      "Epoch 26 of 70 took 34.658s\n",
      "  training loss:\t\t0.275450\n",
      "Epoch 27 of 70 took 34.666s\n",
      "  training loss:\t\t0.260531\n",
      "Epoch 28 of 70 took 34.699s\n",
      "  training loss:\t\t0.265763\n",
      "Epoch 29 of 70 took 35.003s\n",
      "  training loss:\t\t0.256056\n",
      "Epoch 30 of 70 took 34.880s\n",
      "  training loss:\t\t0.254589\n",
      "Epoch 31 of 70 took 34.701s\n",
      "  training loss:\t\t0.246140\n",
      "Epoch 32 of 70 took 34.687s\n",
      "  training loss:\t\t0.237880\n",
      "Epoch 33 of 70 took 34.694s\n",
      "  training loss:\t\t0.230808\n",
      "Epoch 34 of 70 took 34.706s\n",
      "  training loss:\t\t0.231480\n",
      "Epoch 35 of 70 took 34.696s\n",
      "  training loss:\t\t0.221381\n",
      "Epoch 36 of 70 took 34.706s\n",
      "  training loss:\t\t0.215971\n",
      "Epoch 37 of 70 took 34.697s\n",
      "  training loss:\t\t0.213277\n",
      "Epoch 38 of 70 took 34.684s\n",
      "  training loss:\t\t0.205385\n",
      "Epoch 39 of 70 took 34.683s\n",
      "  training loss:\t\t0.198757\n",
      "Epoch 40 of 70 took 34.765s\n",
      "  training loss:\t\t0.203894\n",
      "Epoch 41 of 70 took 35.058s\n",
      "  training loss:\t\t0.175741\n",
      "Epoch 42 of 70 took 34.709s\n",
      "  training loss:\t\t0.176589\n",
      "Epoch 43 of 70 took 34.713s\n",
      "  training loss:\t\t0.172329\n",
      "Epoch 44 of 70 took 34.705s\n",
      "  training loss:\t\t0.169382\n",
      "Epoch 45 of 70 took 34.725s\n",
      "  training loss:\t\t0.163845\n",
      "Epoch 46 of 70 took 34.694s\n",
      "  training loss:\t\t0.153925\n",
      "Epoch 47 of 70 took 34.740s\n",
      "  training loss:\t\t0.156354\n",
      "Epoch 48 of 70 took 34.695s\n",
      "  training loss:\t\t0.145934\n",
      "Epoch 49 of 70 took 34.706s\n",
      "  training loss:\t\t0.134367\n",
      "Epoch 50 of 70 took 34.685s\n",
      "  training loss:\t\t0.129397\n",
      "Epoch 51 of 70 took 34.729s\n",
      "  training loss:\t\t0.125505\n",
      "Epoch 52 of 70 took 34.709s\n",
      "  training loss:\t\t0.116714\n",
      "Epoch 53 of 70 took 34.705s\n",
      "  training loss:\t\t0.112096\n",
      "Epoch 54 of 70 took 34.978s\n",
      "  training loss:\t\t0.101572\n",
      "Epoch 55 of 70 took 34.707s\n",
      "  training loss:\t\t0.094424\n",
      "Epoch 56 of 70 took 34.700s\n",
      "  training loss:\t\t0.091331\n",
      "Epoch 57 of 70 took 34.698s\n",
      "  training loss:\t\t0.094246\n",
      "Epoch 58 of 70 took 34.871s\n",
      "  training loss:\t\t0.083081\n",
      "Epoch 59 of 70 took 34.728s\n",
      "  training loss:\t\t0.077740\n",
      "Epoch 60 of 70 took 34.679s\n",
      "  training loss:\t\t0.075582\n",
      "Epoch 61 of 70 took 34.713s\n",
      "  training loss:\t\t0.071792\n",
      "Epoch 62 of 70 took 34.678s\n",
      "  training loss:\t\t0.071738\n",
      "Epoch 63 of 70 took 34.693s\n",
      "  training loss:\t\t0.066530\n",
      "Epoch 64 of 70 took 34.710s\n",
      "  training loss:\t\t0.063887\n",
      "Epoch 65 of 70 took 34.706s\n",
      "  training loss:\t\t0.056561\n",
      "Epoch 66 of 70 took 34.991s\n",
      "  training loss:\t\t0.060791\n",
      "Epoch 67 of 70 took 34.701s\n",
      "  training loss:\t\t0.057072\n",
      "Epoch 68 of 70 took 34.713s\n",
      "  training loss:\t\t0.046421\n",
      "Epoch 69 of 70 took 34.825s\n",
      "  training loss:\t\t0.047016\n",
      "Epoch 70 of 70 took 34.715s\n",
      "  training loss:\t\t0.048956\n"
     ]
    }
   ],
   "source": [
    "num_epochs = 70\n",
    "\n",
    "# Finally, launch the training loop.\n",
    "print(\"Starting training...\")\n",
    "# We iterate over epochs:\n",
    "for epoch in range(num_epochs):\n",
    "    # In each epoch, we do a full pass over the training data:\n",
    "    train_err = 0\n",
    "    train_batches = 0\n",
    "    start_time = time.time()\n",
    "    for batch in iterate_minibatches(X_train, y_train, 50, shuffle=True):\n",
    "        inputs, targets = batch\n",
    "        train_err += train_fn(inputs, targets)\n",
    "        train_batches += 1\n",
    "\n",
    "    # Then we print the results for this epoch:\n",
    "    print(\"Epoch {} of {} took {:.3f}s\".format(\n",
    "        epoch + 1, num_epochs, time.time() - start_time))\n",
    "    print(\"  training loss:\\t\\t{:.6f}\".format(train_err / train_batches))"
   ]
  },
  {
   "cell_type": "code",
   "execution_count": 24,
   "metadata": {
    "collapsed": true
   },
   "outputs": [],
   "source": [
    "def iterate_testbatches(inputs, batchsize, shuffle=False):\n",
    "    assert len(inputs)\n",
    "    for start_idx in range(0, len(inputs) - batchsize + 1, batchsize):\n",
    "        if shuffle:\n",
    "            excerpt = indices[start_idx:start_idx + batchsize]\n",
    "        else:\n",
    "            excerpt = slice(start_idx, start_idx + batchsize)\n",
    "        yield inputs[excerpt]"
   ]
  },
  {
   "cell_type": "code",
   "execution_count": 24,
   "metadata": {
    "collapsed": false
   },
   "outputs": [],
   "source": [
    "ans = []\n",
    "for t in test_data:\n",
    "    vals = test_fn(t.reshape((1,3,200,200)))\n",
    "    vals2 = test_fn(t[:,:,::-1].reshape((1,3,200,200)))\n",
    "    ans.append((vals[:,1] + vals2[:,1])/2.0)"
   ]
  },
  {
   "cell_type": "code",
   "execution_count": 25,
   "metadata": {
    "collapsed": false,
    "scrolled": true
   },
   "outputs": [],
   "source": [
    "res = np.array(ans).reshape(992)"
   ]
  },
  {
   "cell_type": "code",
   "execution_count": 26,
   "metadata": {
    "collapsed": false
   },
   "outputs": [],
   "source": [
    "tst.genus = res.copy()"
   ]
  },
  {
   "cell_type": "code",
   "execution_count": 27,
   "metadata": {
    "collapsed": false
   },
   "outputs": [],
   "source": [
    "tst.to_csv('./fifth.csv', index = False)"
   ]
  },
  {
   "cell_type": "code",
   "execution_count": null,
   "metadata": {
    "collapsed": true
   },
   "outputs": [],
   "source": []
  }
 ],
 "metadata": {
  "kernelspec": {
   "display_name": "Python 2",
   "language": "python",
   "name": "python2"
  },
  "language_info": {
   "codemirror_mode": {
    "name": "ipython",
    "version": 2
   },
   "file_extension": ".py",
   "mimetype": "text/x-python",
   "name": "python",
   "nbconvert_exporter": "python",
   "pygments_lexer": "ipython2",
   "version": "2.7.6"
  }
 },
 "nbformat": 4,
 "nbformat_minor": 0
}
