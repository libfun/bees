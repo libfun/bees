{
 "cells": [
  {
   "cell_type": "code",
   "execution_count": 1,
   "metadata": {
    "collapsed": true
   },
   "outputs": [],
   "source": [
    "import numpy as np\n",
    "import pandas as pd\n",
    "import matplotlib.pyplot as plt\n",
    "%matplotlib inline"
   ]
  },
  {
   "cell_type": "code",
   "execution_count": 2,
   "metadata": {
    "collapsed": false
   },
   "outputs": [
    {
     "name": "stderr",
     "output_type": "stream",
     "text": [
      "Using gpu device 0: GeForce GTX 670 (CNMeM is disabled)\n"
     ]
    }
   ],
   "source": [
    "import lasagne\n",
    "from lasagne.layers import InputLayer, DenseLayer, DropoutLayer\n",
    "from lasagne.layers.dnn import Conv2DDNNLayer as ConvLayer\n",
    "from lasagne.layers.dnn import MaxPool2DDNNLayer as PoolLayer\n",
    "from lasagne.layers import LocalResponseNormalization2DLayer as NormLayer\n",
    "from lasagne.utils import floatX"
   ]
  },
  {
   "cell_type": "code",
   "execution_count": 3,
   "metadata": {
    "collapsed": false
   },
   "outputs": [],
   "source": [
    "import theano.tensor as T"
   ]
  },
  {
   "cell_type": "code",
   "execution_count": 4,
   "metadata": {
    "collapsed": false
   },
   "outputs": [],
   "source": [
    "input_var = T.tensor4('inputs')\n",
    "target_var = T.ivector('targets')"
   ]
  },
  {
   "cell_type": "code",
   "execution_count": 5,
   "metadata": {
    "collapsed": false
   },
   "outputs": [],
   "source": [
    "net = {}\n",
    "net['input'] = InputLayer((None, 3, 200, 200),input_var=input_var)\n",
    "net['conv1'] = ConvLayer(net['input'], num_filters=64, filter_size=5, stride=1,\n",
    "                        nonlinearity = lasagne.nonlinearities.rectify)\n",
    "#net['norm1'] = NormLayer(net['conv1'], alpha=0.0001) # caffe has alpha = alpha * pool_size\n",
    "net['pool1'] = PoolLayer(net['conv1'], pool_size=5, stride=5)\n",
    "net['conv2'] = ConvLayer(net['pool1'], num_filters=64, filter_size=5,\n",
    "                        nonlinearity = lasagne.nonlinearities.rectify)\n",
    "net['pool2'] = PoolLayer(net['conv2'], pool_size=5, stride=5)\n",
    "#net['conv3'] = ConvLayer(net['pool2'], num_filters=128, filter_size=3, pad=1)\n",
    "#net['conv4'] = ConvLayer(net['conv3'], num_filters=128, filter_size=3, pad=1)\n",
    "#net['conv5'] = ConvLayer(net['conv4'], num_filters=128, filter_size=3, pad=1)\n",
    "#net['pool5'] = PoolLayer(net['conv5'], pool_size=3, stride=3, ignore_border=False)\n",
    "net['fc6'] = DenseLayer(net['pool2'], num_units=512,\n",
    "                        nonlinearity = lasagne.nonlinearities.rectify)\n",
    "net['drop6'] = DropoutLayer(net['fc6'], p=0.5)\n",
    "net['fc7'] = DenseLayer(net['drop6'], num_units=256,\n",
    "                        nonlinearity = lasagne.nonlinearities.rectify)\n",
    "net['drop7'] = DropoutLayer(net['fc7'], p=0.5)\n",
    "net['fc8'] = DenseLayer(net['drop7'], num_units=64,\n",
    "                        nonlinearity = lasagne.nonlinearities.rectify)\n",
    "net['drop8'] = DropoutLayer(net['fc8'], p=0.5)\n",
    "net['fc9'] = DenseLayer(net['drop8'], num_units=2, nonlinearity=lasagne.nonlinearities.softmax)\n",
    "output_layer = net['fc9']"
   ]
  },
  {
   "cell_type": "code",
   "execution_count": 6,
   "metadata": {
    "collapsed": true
   },
   "outputs": [],
   "source": [
    "import matplotlib.image as mpimg"
   ]
  },
  {
   "cell_type": "code",
   "execution_count": 7,
   "metadata": {
    "collapsed": false
   },
   "outputs": [],
   "source": [
    "labels =  pd.read_csv('./b37d3960-6909-472b-9ce1-c33b07dbdb66.csv', index_col='id')"
   ]
  },
  {
   "cell_type": "code",
   "execution_count": 8,
   "metadata": {
    "collapsed": false
   },
   "outputs": [],
   "source": [
    "labels = labels.sort_index()"
   ]
  },
  {
   "cell_type": "code",
   "execution_count": 9,
   "metadata": {
    "collapsed": true
   },
   "outputs": [],
   "source": [
    "data = np.zeros((3969, 3, 200, 200), dtype='float32')"
   ]
  },
  {
   "cell_type": "code",
   "execution_count": 10,
   "metadata": {
    "collapsed": false
   },
   "outputs": [
    {
     "data": {
      "text/plain": [
       "Int64Index([   1,    2,    3,    4,    5,    6,    8,    9,   12,   14,\n",
       "            ...\n",
       "            4947, 4949, 4950, 4951, 4952, 4953, 4957, 4958, 4959, 4960],\n",
       "           dtype='int64', name=u'id', length=3969)"
      ]
     },
     "execution_count": 10,
     "metadata": {},
     "output_type": "execute_result"
    }
   ],
   "source": [
    "labels.index"
   ]
  },
  {
   "cell_type": "code",
   "execution_count": 11,
   "metadata": {
    "collapsed": false
   },
   "outputs": [],
   "source": [
    "k = 0\n",
    "for i in labels.index:\n",
    "    with open('./bee_images/train/'+str(i)+'.jpg', 'r') as f:\n",
    "        img = mpimg.imread(f, format='jpg')\n",
    "        img2 = np.zeros((3,200,200))\n",
    "        for j in range(3):\n",
    "            img2[j,:,:] = img[:,:,j] / np.float(256)\n",
    "        data[k] = img2.copy()\n",
    "    k += 1"
   ]
  },
  {
   "cell_type": "code",
   "execution_count": 12,
   "metadata": {
    "collapsed": true
   },
   "outputs": [],
   "source": [
    "def add_rev(data):\n",
    "    dnew = np.zeros(data.shape, dtype='float32')\n",
    "    k = 0\n",
    "    for im in data:\n",
    "        dnew[k] = im[:,:,::-1].copy()\n",
    "        k += 1\n",
    "    #print im[:,:,::-1]\n",
    "    return dnew\n",
    "\n",
    "def add_ud(data):\n",
    "    dnew = np.zeros(data.shape, dtype='float32')\n",
    "    k = 0\n",
    "    for im in data:\n",
    "        dnew[k] = im[:,::-1,:].copy()\n",
    "        k += 1\n",
    "    return dnew\n",
    "\n",
    "def add_rud(data):\n",
    "    dnew = np.zeros(data.shape, dtype='float32')\n",
    "    k = 0\n",
    "    for im in data:\n",
    "        dnew[k] = im[:,::-1,::-1].copy()\n",
    "        k += 1\n",
    "    return dnew"
   ]
  },
  {
   "cell_type": "code",
   "execution_count": 13,
   "metadata": {
    "collapsed": false
   },
   "outputs": [],
   "source": [
    "X_train, X_val = data[:3000], data[3000:]"
   ]
  },
  {
   "cell_type": "code",
   "execution_count": 14,
   "metadata": {
    "collapsed": false
   },
   "outputs": [],
   "source": [
    "X_train = np.concatenate((X_train, add_rev(X_train)))"
   ]
  },
  {
   "cell_type": "code",
   "execution_count": 15,
   "metadata": {
    "collapsed": false
   },
   "outputs": [],
   "source": [
    "y_train, y_val = labels.genus.values[:3000].astype('int32'), labels.genus.values[3000:].astype('int32')"
   ]
  },
  {
   "cell_type": "code",
   "execution_count": 16,
   "metadata": {
    "collapsed": true
   },
   "outputs": [],
   "source": [
    "y_train = np.concatenate((y_train, y_train))"
   ]
  },
  {
   "cell_type": "code",
   "execution_count": 13,
   "metadata": {
    "collapsed": true
   },
   "outputs": [],
   "source": [
    "def iterate_minibatches(inputs, targets, batchsize, shuffle=False):\n",
    "    assert len(inputs) == len(targets)\n",
    "    if shuffle:\n",
    "        indices = np.arange(len(inputs))\n",
    "        np.random.shuffle(indices)\n",
    "    for start_idx in range(0, len(inputs) - batchsize + 1, batchsize):\n",
    "        if shuffle:\n",
    "            excerpt = indices[start_idx:start_idx + batchsize]\n",
    "        else:\n",
    "            excerpt = slice(start_idx, start_idx + batchsize)\n",
    "        yield inputs[excerpt], targets[excerpt]"
   ]
  },
  {
   "cell_type": "code",
   "execution_count": 14,
   "metadata": {
    "collapsed": true
   },
   "outputs": [],
   "source": [
    "import theano"
   ]
  },
  {
   "cell_type": "code",
   "execution_count": 15,
   "metadata": {
    "collapsed": false
   },
   "outputs": [],
   "source": [
    "prediction = lasagne.layers.get_output(output_layer)\n",
    "loss = lasagne.objectives.categorical_crossentropy(prediction, target_var)\n",
    "loss = loss.mean()\n",
    "# We could add some weight decay as well here, see lasagne.regularization.\n",
    "\n",
    "# Create update expressions for training, i.e., how to modify the\n",
    "# parameters at each training step. Here, we'll use Stochastic Gradient\n",
    "# Descent (SGD) with Nesterov momentum, but Lasagne offers plenty more.\n",
    "params = lasagne.layers.get_all_params(output_layer, trainable=True)\n",
    "updates = lasagne.updates.nesterov_momentum(\n",
    "        loss, params, learning_rate=0.002, momentum=0.9)\n",
    "\n",
    "# Create a loss expression for validation/testing. The crucial difference\n",
    "# here is that we do a deterministic forward pass through the network,\n",
    "# disabling dropout layers.\n",
    "test_prediction = lasagne.layers.get_output(output_layer, deterministic=True)\n",
    "test_loss = lasagne.objectives.categorical_crossentropy(test_prediction,\n",
    "                                                        target_var)\n",
    "test_loss = test_loss.mean()\n",
    "# As a bonus, also create an expression for the classification accuracy:\n",
    "test_acc = T.mean(T.eq(T.argmax(test_prediction, axis=1), target_var),\n",
    "                  dtype=theano.config.floatX)\n",
    "\n",
    "\n",
    "# Compile a function performing a training step on a mini-batch (by giving\n",
    "# the updates dictionary) and returning the corresponding training loss:\n",
    "train_fn = theano.function([input_var, target_var], loss, updates=updates)\n",
    "\n",
    "# Compile a second function computing the validation loss and accuracy:\n",
    "val_fn = theano.function([input_var, target_var], [test_loss, test_acc])\n",
    "\n",
    "test_fn = theano.function([input_var], test_prediction)"
   ]
  },
  {
   "cell_type": "code",
   "execution_count": 16,
   "metadata": {
    "collapsed": true
   },
   "outputs": [],
   "source": [
    "import time"
   ]
  },
  {
   "cell_type": "code",
   "execution_count": 21,
   "metadata": {
    "collapsed": false,
    "scrolled": true
   },
   "outputs": [
    {
     "name": "stdout",
     "output_type": "stream",
     "text": [
      "Starting training...\n",
      "Epoch 1 of 1000 took 29.062s\n",
      "  training loss:\t\t0.540663\n",
      "  validation loss:\t\t0.535070\n",
      "  validation accuracy:\t\t77.50 %\n",
      "Epoch 2 of 1000 took 29.045s\n",
      "  training loss:\t\t0.523094\n",
      "  validation loss:\t\t0.532241\n",
      "  validation accuracy:\t\t77.50 %\n",
      "Epoch 3 of 1000 took 29.025s\n",
      "  training loss:\t\t0.512196\n",
      "  validation loss:\t\t0.528031\n",
      "  validation accuracy:\t\t77.50 %\n",
      "Epoch 4 of 1000 took 29.062s\n",
      "  training loss:\t\t0.504657\n",
      "  validation loss:\t\t0.527730\n",
      "  validation accuracy:\t\t77.50 %\n",
      "Epoch 5 of 1000 took 29.018s\n",
      "  training loss:\t\t0.500190\n",
      "  validation loss:\t\t0.518361\n",
      "  validation accuracy:\t\t77.50 %\n",
      "Epoch 6 of 1000 took 29.098s\n",
      "  training loss:\t\t0.491219\n",
      "  validation loss:\t\t0.512244\n",
      "  validation accuracy:\t\t77.50 %\n",
      "Epoch 7 of 1000 took 29.003s\n",
      "  training loss:\t\t0.482430\n",
      "  validation loss:\t\t0.496166\n",
      "  validation accuracy:\t\t77.50 %\n",
      "Epoch 8 of 1000 took 29.136s\n",
      "  training loss:\t\t0.472475\n",
      "  validation loss:\t\t0.481338\n",
      "  validation accuracy:\t\t77.50 %\n",
      "Epoch 9 of 1000 took 29.169s\n",
      "  training loss:\t\t0.454444\n",
      "  validation loss:\t\t0.474727\n",
      "  validation accuracy:\t\t77.50 %\n",
      "Epoch 10 of 1000 took 29.141s\n",
      "  training loss:\t\t0.445256\n",
      "  validation loss:\t\t0.446859\n",
      "  validation accuracy:\t\t77.50 %\n",
      "Epoch 11 of 1000 took 29.239s\n",
      "  training loss:\t\t0.430294\n",
      "  validation loss:\t\t0.432053\n",
      "  validation accuracy:\t\t77.50 %\n",
      "Epoch 12 of 1000 took 29.296s\n",
      "  training loss:\t\t0.425450\n",
      "  validation loss:\t\t0.423839\n",
      "  validation accuracy:\t\t77.71 %\n",
      "Epoch 13 of 1000 took 29.188s\n",
      "  training loss:\t\t0.413712\n",
      "  validation loss:\t\t0.427350\n",
      "  validation accuracy:\t\t77.61 %\n",
      "Epoch 14 of 1000 took 28.971s\n",
      "  training loss:\t\t0.407050\n",
      "  validation loss:\t\t0.407830\n",
      "  validation accuracy:\t\t78.02 %\n",
      "Epoch 15 of 1000 took 28.956s\n",
      "  training loss:\t\t0.405197\n",
      "  validation loss:\t\t0.401779\n",
      "  validation accuracy:\t\t77.81 %\n",
      "Epoch 16 of 1000 took 28.941s\n",
      "  training loss:\t\t0.393395\n",
      "  validation loss:\t\t0.390462\n",
      "  validation accuracy:\t\t78.74 %\n",
      "Epoch 17 of 1000 took 28.917s\n",
      "  training loss:\t\t0.389930\n",
      "  validation loss:\t\t0.380333\n",
      "  validation accuracy:\t\t80.50 %\n",
      "Epoch 18 of 1000 took 28.932s\n",
      "  training loss:\t\t0.382874\n",
      "  validation loss:\t\t0.380380\n",
      "  validation accuracy:\t\t80.60 %\n",
      "Epoch 19 of 1000 took 28.915s\n",
      "  training loss:\t\t0.371717\n",
      "  validation loss:\t\t0.387850\n",
      "  validation accuracy:\t\t81.53 %\n",
      "Epoch 20 of 1000 took 29.028s\n",
      "  training loss:\t\t0.363728\n",
      "  validation loss:\t\t0.353279\n",
      "  validation accuracy:\t\t82.66 %\n",
      "Epoch 21 of 1000 took 29.150s\n",
      "  training loss:\t\t0.353175\n",
      "  validation loss:\t\t0.345568\n",
      "  validation accuracy:\t\t84.11 %\n",
      "Epoch 22 of 1000 took 28.977s\n",
      "  training loss:\t\t0.343331\n",
      "  validation loss:\t\t0.329109\n",
      "  validation accuracy:\t\t85.24 %\n",
      "Epoch 23 of 1000 took 29.069s\n",
      "  training loss:\t\t0.341978\n",
      "  validation loss:\t\t0.326721\n",
      "  validation accuracy:\t\t84.93 %\n",
      "Epoch 24 of 1000 took 29.220s\n",
      "  training loss:\t\t0.334002\n",
      "  validation loss:\t\t0.317106\n",
      "  validation accuracy:\t\t85.76 %\n",
      "Epoch 25 of 1000 took 28.971s\n",
      "  training loss:\t\t0.321927\n",
      "  validation loss:\t\t0.405614\n",
      "  validation accuracy:\t\t82.46 %\n",
      "Epoch 26 of 1000 took 28.870s\n",
      "  training loss:\t\t0.318916\n",
      "  validation loss:\t\t0.332967\n",
      "  validation accuracy:\t\t85.14 %\n",
      "Epoch 27 of 1000 took 28.878s\n",
      "  training loss:\t\t0.317900\n",
      "  validation loss:\t\t0.316054\n",
      "  validation accuracy:\t\t85.45 %\n",
      "Epoch 28 of 1000 took 28.924s\n",
      "  training loss:\t\t0.302908\n",
      "  validation loss:\t\t0.313698\n",
      "  validation accuracy:\t\t85.55 %\n",
      "Epoch 29 of 1000 took 29.032s\n",
      "  training loss:\t\t0.302212\n",
      "  validation loss:\t\t0.301702\n",
      "  validation accuracy:\t\t86.48 %\n",
      "Epoch 30 of 1000 took 28.849s\n",
      "  training loss:\t\t0.289252\n",
      "  validation loss:\t\t0.296931\n",
      "  validation accuracy:\t\t87.10 %\n",
      "Epoch 31 of 1000 took 28.878s\n",
      "  training loss:\t\t0.281676\n",
      "  validation loss:\t\t0.309609\n",
      "  validation accuracy:\t\t86.38 %\n",
      "Epoch 32 of 1000 took 28.884s\n",
      "  training loss:\t\t0.277150\n",
      "  validation loss:\t\t0.343442\n",
      "  validation accuracy:\t\t85.35 %\n",
      "Epoch 33 of 1000 took 28.863s\n",
      "  training loss:\t\t0.275025\n",
      "  validation loss:\t\t0.299329\n",
      "  validation accuracy:\t\t86.27 %\n",
      "Epoch 34 of 1000 took 28.873s\n",
      "  training loss:\t\t0.262469\n",
      "  validation loss:\t\t0.325594\n",
      "  validation accuracy:\t\t86.69 %\n",
      "Epoch 35 of 1000 took 28.935s\n",
      "  training loss:\t\t0.261717\n",
      "  validation loss:\t\t0.318545\n",
      "  validation accuracy:\t\t86.58 %\n",
      "Epoch 36 of 1000 took 28.931s\n",
      "  training loss:\t\t0.255460\n",
      "  validation loss:\t\t0.333217\n",
      "  validation accuracy:\t\t86.27 %\n",
      "Epoch 37 of 1000 took 28.869s\n",
      "  training loss:\t\t0.251376\n",
      "  validation loss:\t\t0.309942\n",
      "  validation accuracy:\t\t86.58 %\n",
      "Epoch 38 of 1000 took 28.903s\n",
      "  training loss:\t\t0.238032\n",
      "  validation loss:\t\t0.307882\n",
      "  validation accuracy:\t\t86.38 %\n",
      "Epoch 39 of 1000 took 28.937s\n",
      "  training loss:\t\t0.229952\n",
      "  validation loss:\t\t0.314380\n",
      "  validation accuracy:\t\t85.14 %\n",
      "Epoch 40 of 1000 took 28.939s\n",
      "  training loss:\t\t0.220960\n",
      "  validation loss:\t\t0.325840\n",
      "  validation accuracy:\t\t86.69 %\n",
      "Epoch 41 of 1000 took 28.883s\n",
      "  training loss:\t\t0.210336\n",
      "  validation loss:\t\t0.331890\n",
      "  validation accuracy:\t\t85.96 %\n",
      "Epoch 42 of 1000 took 28.950s\n",
      "  training loss:\t\t0.200207\n",
      "  validation loss:\t\t0.319412\n",
      "  validation accuracy:\t\t86.27 %\n",
      "Epoch 43 of 1000 took 28.913s\n",
      "  training loss:\t\t0.200615\n",
      "  validation loss:\t\t0.324258\n",
      "  validation accuracy:\t\t86.69 %\n",
      "Epoch 44 of 1000 took 28.856s\n",
      "  training loss:\t\t0.185616\n",
      "  validation loss:\t\t0.323346\n",
      "  validation accuracy:\t\t86.38 %\n",
      "Epoch 45 of 1000 took 28.918s\n",
      "  training loss:\t\t0.181011\n",
      "  validation loss:\t\t0.341719\n",
      "  validation accuracy:\t\t86.89 %\n",
      "Epoch 46 of 1000 took 28.882s\n",
      "  training loss:\t\t0.172340\n",
      "  validation loss:\t\t0.330484\n",
      "  validation accuracy:\t\t85.55 %\n",
      "Epoch 47 of 1000 took 28.984s\n",
      "  training loss:\t\t0.159332\n",
      "  validation loss:\t\t0.345591\n",
      "  validation accuracy:\t\t87.00 %\n"
     ]
    },
    {
     "ename": "KeyboardInterrupt",
     "evalue": "",
     "output_type": "error",
     "traceback": [
      "\u001b[1;31m---------------------------------------------------------------------------\u001b[0m",
      "\u001b[1;31mKeyboardInterrupt\u001b[0m                         Traceback (most recent call last)",
      "\u001b[1;32m<ipython-input-21-860497b87d4d>\u001b[0m in \u001b[0;36m<module>\u001b[1;34m()\u001b[0m\n\u001b[0;32m     12\u001b[0m     \u001b[1;32mfor\u001b[0m \u001b[0mbatch\u001b[0m \u001b[1;32min\u001b[0m \u001b[0miterate_minibatches\u001b[0m\u001b[1;33m(\u001b[0m\u001b[0mX_train\u001b[0m\u001b[1;33m,\u001b[0m \u001b[0my_train\u001b[0m\u001b[1;33m,\u001b[0m \u001b[0mbatchsize\u001b[0m\u001b[1;33m,\u001b[0m \u001b[0mshuffle\u001b[0m\u001b[1;33m=\u001b[0m\u001b[0mTrue\u001b[0m\u001b[1;33m)\u001b[0m\u001b[1;33m:\u001b[0m\u001b[1;33m\u001b[0m\u001b[0m\n\u001b[0;32m     13\u001b[0m         \u001b[0minputs\u001b[0m\u001b[1;33m,\u001b[0m \u001b[0mtargets\u001b[0m \u001b[1;33m=\u001b[0m \u001b[0mbatch\u001b[0m\u001b[1;33m\u001b[0m\u001b[0m\n\u001b[1;32m---> 14\u001b[1;33m         \u001b[0mtrain_err\u001b[0m \u001b[1;33m+=\u001b[0m \u001b[0mtrain_fn\u001b[0m\u001b[1;33m(\u001b[0m\u001b[0minputs\u001b[0m\u001b[1;33m,\u001b[0m \u001b[0mtargets\u001b[0m\u001b[1;33m)\u001b[0m\u001b[1;33m\u001b[0m\u001b[0m\n\u001b[0m\u001b[0;32m     15\u001b[0m         \u001b[0mtrain_batches\u001b[0m \u001b[1;33m+=\u001b[0m \u001b[1;36m1\u001b[0m\u001b[1;33m\u001b[0m\u001b[0m\n\u001b[0;32m     16\u001b[0m \u001b[1;33m\u001b[0m\u001b[0m\n",
      "\u001b[1;32m/home/libfun/.virtualenvs/main/local/lib/python2.7/site-packages/theano/compile/function_module.pyc\u001b[0m in \u001b[0;36m__call__\u001b[1;34m(self, *args, **kwargs)\u001b[0m\n\u001b[0;32m    857\u001b[0m         \u001b[0mt0_fn\u001b[0m \u001b[1;33m=\u001b[0m \u001b[0mtime\u001b[0m\u001b[1;33m.\u001b[0m\u001b[0mtime\u001b[0m\u001b[1;33m(\u001b[0m\u001b[1;33m)\u001b[0m\u001b[1;33m\u001b[0m\u001b[0m\n\u001b[0;32m    858\u001b[0m         \u001b[1;32mtry\u001b[0m\u001b[1;33m:\u001b[0m\u001b[1;33m\u001b[0m\u001b[0m\n\u001b[1;32m--> 859\u001b[1;33m             \u001b[0moutputs\u001b[0m \u001b[1;33m=\u001b[0m \u001b[0mself\u001b[0m\u001b[1;33m.\u001b[0m\u001b[0mfn\u001b[0m\u001b[1;33m(\u001b[0m\u001b[1;33m)\u001b[0m\u001b[1;33m\u001b[0m\u001b[0m\n\u001b[0m\u001b[0;32m    860\u001b[0m         \u001b[1;32mexcept\u001b[0m \u001b[0mException\u001b[0m\u001b[1;33m:\u001b[0m\u001b[1;33m\u001b[0m\u001b[0m\n\u001b[0;32m    861\u001b[0m             \u001b[1;32mif\u001b[0m \u001b[0mhasattr\u001b[0m\u001b[1;33m(\u001b[0m\u001b[0mself\u001b[0m\u001b[1;33m.\u001b[0m\u001b[0mfn\u001b[0m\u001b[1;33m,\u001b[0m \u001b[1;34m'position_of_error'\u001b[0m\u001b[1;33m)\u001b[0m\u001b[1;33m:\u001b[0m\u001b[1;33m\u001b[0m\u001b[0m\n",
      "\u001b[1;31mKeyboardInterrupt\u001b[0m: "
     ]
    }
   ],
   "source": [
    "num_epochs = 1000\n",
    "batchsize = 50\n",
    "\n",
    "# Finally, launch the training loop.\n",
    "print(\"Starting training...\")\n",
    "# We iterate over epochs:\n",
    "for epoch in range(num_epochs):\n",
    "    # In each epoch, we do a full pass over the training data:\n",
    "    train_err = 0\n",
    "    train_batches = 0\n",
    "    start_time = time.time()\n",
    "    for batch in iterate_minibatches(X_train, y_train, batchsize, shuffle=True):\n",
    "        inputs, targets = batch\n",
    "        train_err += train_fn(inputs, targets)\n",
    "        train_batches += 1\n",
    "\n",
    "    # And a full pass over the validation data:\n",
    "    val_err = 0\n",
    "    val_acc = 0\n",
    "    val_batches = 0\n",
    "    for batch in iterate_minibatches(X_val, y_val, 1, shuffle=False):\n",
    "        inputs, targets = batch\n",
    "        err, acc = val_fn(inputs, targets)\n",
    "        val_err += err\n",
    "        val_acc += acc\n",
    "        val_batches += 1\n",
    "\n",
    "    # Then we print the results for this epoch:\n",
    "    print(\"Epoch {} of {} took {:.3f}s\".format(\n",
    "        epoch + 1, num_epochs, time.time() - start_time))\n",
    "    print(\"  training loss:\\t\\t{:.6f}\".format(train_err / train_batches))\n",
    "    print(\"  validation loss:\\t\\t{:.6f}\".format(val_err / val_batches))\n",
    "    print(\"  validation accuracy:\\t\\t{:.2f} %\".format(\n",
    "        val_acc / val_batches * 100))"
   ]
  },
  {
   "cell_type": "code",
   "execution_count": 17,
   "metadata": {
    "collapsed": true
   },
   "outputs": [],
   "source": [
    "X_train = data\n",
    "y_train = labels.genus.values.astype('int32')"
   ]
  },
  {
   "cell_type": "code",
   "execution_count": 18,
   "metadata": {
    "collapsed": true
   },
   "outputs": [],
   "source": [
    "X_train = np.concatenate((X_train, add_rev(X_train)))"
   ]
  },
  {
   "cell_type": "code",
   "execution_count": 19,
   "metadata": {
    "collapsed": true
   },
   "outputs": [],
   "source": [
    "y_train = np.concatenate((y_train, y_train))"
   ]
  },
  {
   "cell_type": "code",
   "execution_count": 20,
   "metadata": {
    "collapsed": false
   },
   "outputs": [],
   "source": [
    "tst = pd.read_csv('./SubmissionFormat.csv')"
   ]
  },
  {
   "cell_type": "code",
   "execution_count": 22,
   "metadata": {
    "collapsed": true
   },
   "outputs": [],
   "source": [
    "test_data = np.zeros((992, 3, 200, 200), dtype='float32')"
   ]
  },
  {
   "cell_type": "code",
   "execution_count": 23,
   "metadata": {
    "collapsed": false
   },
   "outputs": [],
   "source": [
    "k = 0\n",
    "for i in tst.id.values:\n",
    "    with open('./bee_images/test/'+str(i)+'.jpg', 'r') as f:\n",
    "        img = mpimg.imread(f, format='jpg')\n",
    "        img2 = np.zeros((3,200,200))\n",
    "        for j in range(3):\n",
    "            img2[j,:,:] = img[:,:,j] / np.float(256)\n",
    "        test_data[k] = img2.copy()\n",
    "    k += 1"
   ]
  },
  {
   "cell_type": "code",
   "execution_count": 21,
   "metadata": {
    "collapsed": false
   },
   "outputs": [
    {
     "name": "stdout",
     "output_type": "stream",
     "text": [
      "Starting training...\n",
      "Epoch 1 of 30 took 36.797s\n",
      "  training loss:\t\t0.541783\n",
      "Epoch 2 of 30 took 35.248s\n",
      "  training loss:\t\t0.524894\n",
      "Epoch 3 of 30 took 35.223s\n",
      "  training loss:\t\t0.512466\n",
      "Epoch 4 of 30 took 34.992s\n",
      "  training loss:\t\t0.506625\n",
      "Epoch 5 of 30 took 34.996s\n",
      "  training loss:\t\t0.494774\n",
      "Epoch 6 of 30 took 34.945s\n",
      "  training loss:\t\t0.484159\n",
      "Epoch 7 of 30 took 34.966s\n",
      "  training loss:\t\t0.460485\n",
      "Epoch 8 of 30 took 34.941s\n",
      "  training loss:\t\t0.434591\n",
      "Epoch 9 of 30 took 34.870s\n",
      "  training loss:\t\t0.425599\n",
      "Epoch 10 of 30 took 34.771s\n",
      "  training loss:\t\t0.409182\n",
      "Epoch 11 of 30 took 34.775s\n",
      "  training loss:\t\t0.393525\n",
      "Epoch 12 of 30 took 34.816s\n",
      "  training loss:\t\t0.376791\n",
      "Epoch 13 of 30 took 34.944s\n",
      "  training loss:\t\t0.367757\n",
      "Epoch 14 of 30 took 34.784s\n",
      "  training loss:\t\t0.356380\n",
      "Epoch 15 of 30 took 34.756s\n",
      "  training loss:\t\t0.349472\n",
      "Epoch 16 of 30 took 34.775s\n",
      "  training loss:\t\t0.341199\n",
      "Epoch 17 of 30 took 34.761s\n",
      "  training loss:\t\t0.330030\n",
      "Epoch 18 of 30 took 34.802s\n",
      "  training loss:\t\t0.326126\n",
      "Epoch 19 of 30 took 34.782s\n",
      "  training loss:\t\t0.314709\n",
      "Epoch 20 of 30 took 34.809s\n",
      "  training loss:\t\t0.304360\n",
      "Epoch 21 of 30 took 34.781s\n",
      "  training loss:\t\t0.298952\n",
      "Epoch 22 of 30 took 34.809s\n",
      "  training loss:\t\t0.296926\n",
      "Epoch 23 of 30 took 34.762s\n",
      "  training loss:\t\t0.283587\n",
      "Epoch 24 of 30 took 34.762s\n",
      "  training loss:\t\t0.275948\n",
      "Epoch 25 of 30 took 34.786s\n",
      "  training loss:\t\t0.276397\n",
      "Epoch 26 of 30 took 34.808s\n",
      "  training loss:\t\t0.266925\n",
      "Epoch 27 of 30 took 34.777s\n",
      "  training loss:\t\t0.249080\n",
      "Epoch 28 of 30 took 34.785s\n",
      "  training loss:\t\t0.240937\n",
      "Epoch 29 of 30 took 35.007s\n",
      "  training loss:\t\t0.238824\n",
      "Epoch 30 of 30 took 34.765s\n",
      "  training loss:\t\t0.229477\n"
     ]
    }
   ],
   "source": [
    "num_epochs = 30\n",
    "\n",
    "# Finally, launch the training loop.\n",
    "print(\"Starting training...\")\n",
    "# We iterate over epochs:\n",
    "for epoch in range(num_epochs):\n",
    "    # In each epoch, we do a full pass over the training data:\n",
    "    train_err = 0\n",
    "    train_batches = 0\n",
    "    start_time = time.time()\n",
    "    for batch in iterate_minibatches(X_train, y_train, 50, shuffle=True):\n",
    "        inputs, targets = batch\n",
    "        train_err += train_fn(inputs, targets)\n",
    "        train_batches += 1\n",
    "\n",
    "    # Then we print the results for this epoch:\n",
    "    print(\"Epoch {} of {} took {:.3f}s\".format(\n",
    "        epoch + 1, num_epochs, time.time() - start_time))\n",
    "    print(\"  training loss:\\t\\t{:.6f}\".format(train_err / train_batches))"
   ]
  },
  {
   "cell_type": "code",
   "execution_count": 24,
   "metadata": {
    "collapsed": true
   },
   "outputs": [],
   "source": [
    "def iterate_testbatches(inputs, batchsize, shuffle=False):\n",
    "    assert len(inputs)\n",
    "    for start_idx in range(0, len(inputs) - batchsize + 1, batchsize):\n",
    "        if shuffle:\n",
    "            excerpt = indices[start_idx:start_idx + batchsize]\n",
    "        else:\n",
    "            excerpt = slice(start_idx, start_idx + batchsize)\n",
    "        yield inputs[excerpt]"
   ]
  },
  {
   "cell_type": "code",
   "execution_count": 26,
   "metadata": {
    "collapsed": false
   },
   "outputs": [],
   "source": [
    "ans = []\n",
    "for t in test_data:\n",
    "    vals = test_fn(t.reshape((1,3,200,200)))\n",
    "    vals2 = test_fn(t[:,:,::-1].reshape((1,3,200,200)))\n",
    "    ans.append((vals[:,1] + vals2[:,1])/2.0)"
   ]
  },
  {
   "cell_type": "code",
   "execution_count": 27,
   "metadata": {
    "collapsed": false,
    "scrolled": true
   },
   "outputs": [],
   "source": [
    "res = np.array(ans).reshape(992)"
   ]
  },
  {
   "cell_type": "code",
   "execution_count": 28,
   "metadata": {
    "collapsed": false
   },
   "outputs": [],
   "source": [
    "tst.genus = res.copy()"
   ]
  },
  {
   "cell_type": "code",
   "execution_count": 29,
   "metadata": {
    "collapsed": false
   },
   "outputs": [],
   "source": [
    "tst.to_csv('./fourth.csv', index = False)"
   ]
  },
  {
   "cell_type": "code",
   "execution_count": null,
   "metadata": {
    "collapsed": true
   },
   "outputs": [],
   "source": []
  }
 ],
 "metadata": {
  "kernelspec": {
   "display_name": "Python 2",
   "language": "python",
   "name": "python2"
  },
  "language_info": {
   "codemirror_mode": {
    "name": "ipython",
    "version": 2
   },
   "file_extension": ".py",
   "mimetype": "text/x-python",
   "name": "python",
   "nbconvert_exporter": "python",
   "pygments_lexer": "ipython2",
   "version": "2.7.6"
  }
 },
 "nbformat": 4,
 "nbformat_minor": 0
}
