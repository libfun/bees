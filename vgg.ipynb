{
 "cells": [
  {
   "cell_type": "code",
   "execution_count": 1,
   "metadata": {
    "collapsed": true
   },
   "outputs": [],
   "source": [
    "import numpy as np\n",
    "import pandas as pd\n",
    "import matplotlib.pyplot as plt\n",
    "%matplotlib inline"
   ]
  },
  {
   "cell_type": "code",
   "execution_count": 2,
   "metadata": {
    "collapsed": false
   },
   "outputs": [
    {
     "name": "stderr",
     "output_type": "stream",
     "text": [
      "Using gpu device 0: GeForce GTX 670 (CNMeM is disabled)\n"
     ]
    }
   ],
   "source": [
    "import lasagne\n",
    "from lasagne.layers import InputLayer, DenseLayer, DropoutLayer\n",
    "from lasagne.layers.dnn import Conv2DDNNLayer as ConvLayer\n",
    "from lasagne.layers.dnn import MaxPool2DDNNLayer as PoolLayer\n",
    "from lasagne.layers import LocalResponseNormalization2DLayer as NormLayer\n",
    "from lasagne.utils import floatX"
   ]
  },
  {
   "cell_type": "code",
   "execution_count": 3,
   "metadata": {
    "collapsed": false
   },
   "outputs": [],
   "source": [
    "import theano.tensor as T"
   ]
  },
  {
   "cell_type": "code",
   "execution_count": 4,
   "metadata": {
    "collapsed": false
   },
   "outputs": [],
   "source": [
    "input_var = T.tensor4('inputs')\n",
    "target_var = T.ivector('targets')"
   ]
  },
  {
   "cell_type": "code",
   "execution_count": 5,
   "metadata": {
    "collapsed": false
   },
   "outputs": [],
   "source": [
    "net = {}\n",
    "net['input'] = InputLayer((None, 3, 200, 200),input_var=input_var)\n",
    "net['conv1'] = ConvLayer(net['input'], num_filters=32, filter_size=5, stride=1,\n",
    "                        nonlinearity = lasagne.nonlinearities.rectify)\n",
    "#net['norm1'] = NormLayer(net['conv1'], alpha=0.0001) # caffe has alpha = alpha * pool_size\n",
    "net['pool1'] = PoolLayer(net['conv1'], pool_size=5, stride=5)\n",
    "net['conv2'] = ConvLayer(net['pool1'], num_filters=16, filter_size=10,\n",
    "                        nonlinearity = lasagne.nonlinearities.rectify)\n",
    "net['pool2'] = PoolLayer(net['conv2'], pool_size=10, stride=10)\n",
    "#net['conv3'] = ConvLayer(net['pool2'], num_filters=128, filter_size=3, pad=1)\n",
    "#net['conv4'] = ConvLayer(net['conv3'], num_filters=128, filter_size=3, pad=1)\n",
    "#net['conv5'] = ConvLayer(net['conv4'], num_filters=128, filter_size=3, pad=1)\n",
    "#net['pool5'] = PoolLayer(net['conv5'], pool_size=3, stride=3, ignore_border=False)\n",
    "net['fc6'] = DenseLayer(net['pool2'], num_units=512,\n",
    "                        nonlinearity = lasagne.nonlinearities.rectify)\n",
    "net['drop6'] = DropoutLayer(net['fc6'], p=0.5)\n",
    "net['fc7'] = DenseLayer(net['drop6'], num_units=256,\n",
    "                        nonlinearity = lasagne.nonlinearities.rectify)\n",
    "net['drop7'] = DropoutLayer(net['fc7'], p=0.5)\n",
    "net['fc8'] = DenseLayer(net['drop7'], num_units=2, nonlinearity=lasagne.nonlinearities.softmax)\n",
    "output_layer = net['fc8']"
   ]
  },
  {
   "cell_type": "code",
   "execution_count": 6,
   "metadata": {
    "collapsed": true
   },
   "outputs": [],
   "source": [
    "import matplotlib.image as mpimg"
   ]
  },
  {
   "cell_type": "code",
   "execution_count": 7,
   "metadata": {
    "collapsed": false
   },
   "outputs": [],
   "source": [
    "labels =  pd.read_csv('./b37d3960-6909-472b-9ce1-c33b07dbdb66.csv', index_col='id')"
   ]
  },
  {
   "cell_type": "code",
   "execution_count": 8,
   "metadata": {
    "collapsed": false
   },
   "outputs": [],
   "source": [
    "labels = labels.sort_index()"
   ]
  },
  {
   "cell_type": "code",
   "execution_count": 9,
   "metadata": {
    "collapsed": true
   },
   "outputs": [],
   "source": [
    "data = np.zeros((3969, 3, 200, 200), dtype='float32')"
   ]
  },
  {
   "cell_type": "code",
   "execution_count": 10,
   "metadata": {
    "collapsed": false
   },
   "outputs": [
    {
     "data": {
      "text/plain": [
       "Int64Index([   1,    2,    3,    4,    5,    6,    8,    9,   12,   14,\n",
       "            ...\n",
       "            4947, 4949, 4950, 4951, 4952, 4953, 4957, 4958, 4959, 4960],\n",
       "           dtype='int64', name=u'id', length=3969)"
      ]
     },
     "execution_count": 10,
     "metadata": {},
     "output_type": "execute_result"
    }
   ],
   "source": [
    "labels.index"
   ]
  },
  {
   "cell_type": "code",
   "execution_count": 11,
   "metadata": {
    "collapsed": false
   },
   "outputs": [],
   "source": [
    "k = 0\n",
    "for i in labels.index:\n",
    "    with open('./bee_images/train/'+str(i)+'.jpg', 'r') as f:\n",
    "        img = mpimg.imread(f, format='jpg')\n",
    "        img2 = np.zeros((3,200,200))\n",
    "        for j in range(3):\n",
    "            img2[j,:,:] = img[:,:,j] / np.float(256)\n",
    "        data[k] = img2.copy()\n",
    "    k += 1"
   ]
  },
  {
   "cell_type": "code",
   "execution_count": 12,
   "metadata": {
    "collapsed": false
   },
   "outputs": [],
   "source": [
    "X_train, X_val = data[:3000], data[3000:]"
   ]
  },
  {
   "cell_type": "code",
   "execution_count": 13,
   "metadata": {
    "collapsed": false
   },
   "outputs": [],
   "source": [
    "y_train, y_val = labels.genus.values[:3000], labels.genus.values[3000:]"
   ]
  },
  {
   "cell_type": "code",
   "execution_count": 12,
   "metadata": {
    "collapsed": true
   },
   "outputs": [],
   "source": [
    "def iterate_minibatches(inputs, targets, batchsize, shuffle=False):\n",
    "    assert len(inputs) == len(targets)\n",
    "    if shuffle:\n",
    "        indices = np.arange(len(inputs))\n",
    "        np.random.shuffle(indices)\n",
    "    for start_idx in range(0, len(inputs) - batchsize + 1, batchsize):\n",
    "        if shuffle:\n",
    "            excerpt = indices[start_idx:start_idx + batchsize]\n",
    "        else:\n",
    "            excerpt = slice(start_idx, start_idx + batchsize)\n",
    "        yield inputs[excerpt], targets[excerpt]"
   ]
  },
  {
   "cell_type": "code",
   "execution_count": 13,
   "metadata": {
    "collapsed": true
   },
   "outputs": [],
   "source": [
    "import theano"
   ]
  },
  {
   "cell_type": "code",
   "execution_count": 14,
   "metadata": {
    "collapsed": false
   },
   "outputs": [],
   "source": [
    "prediction = lasagne.layers.get_output(output_layer)\n",
    "loss = lasagne.objectives.categorical_crossentropy(prediction, target_var)\n",
    "loss = loss.mean()\n",
    "# We could add some weight decay as well here, see lasagne.regularization.\n",
    "\n",
    "# Create update expressions for training, i.e., how to modify the\n",
    "# parameters at each training step. Here, we'll use Stochastic Gradient\n",
    "# Descent (SGD) with Nesterov momentum, but Lasagne offers plenty more.\n",
    "params = lasagne.layers.get_all_params(output_layer, trainable=True)\n",
    "updates = lasagne.updates.nesterov_momentum(\n",
    "        loss, params, learning_rate=0.01, momentum=0.9)\n",
    "\n",
    "# Create a loss expression for validation/testing. The crucial difference\n",
    "# here is that we do a deterministic forward pass through the network,\n",
    "# disabling dropout layers.\n",
    "test_prediction = lasagne.layers.get_output(output_layer, deterministic=True)\n",
    "test_loss = lasagne.objectives.categorical_crossentropy(test_prediction,\n",
    "                                                        target_var)\n",
    "test_loss = test_loss.mean()\n",
    "# As a bonus, also create an expression for the classification accuracy:\n",
    "test_acc = T.mean(T.eq(T.argmax(test_prediction, axis=1), target_var),\n",
    "                  dtype=theano.config.floatX)\n",
    "\n",
    "\n",
    "# Compile a function performing a training step on a mini-batch (by giving\n",
    "# the updates dictionary) and returning the corresponding training loss:\n",
    "train_fn = theano.function([input_var, target_var], loss, updates=updates)\n",
    "\n",
    "# Compile a second function computing the validation loss and accuracy:\n",
    "val_fn = theano.function([input_var, target_var], [test_loss, test_acc])\n",
    "\n",
    "test_fn = theano.function([input_var], test_prediction)"
   ]
  },
  {
   "cell_type": "code",
   "execution_count": 17,
   "metadata": {
    "collapsed": true
   },
   "outputs": [],
   "source": [
    "y_train = y_train.astype('int32')\n",
    "y_val = y_val.astype('int32')"
   ]
  },
  {
   "cell_type": "code",
   "execution_count": 20,
   "metadata": {
    "collapsed": true
   },
   "outputs": [],
   "source": [
    "import time"
   ]
  },
  {
   "cell_type": "code",
   "execution_count": 25,
   "metadata": {
    "collapsed": false,
    "scrolled": true
   },
   "outputs": [
    {
     "name": "stdout",
     "output_type": "stream",
     "text": [
      "Starting training...\n",
      "Epoch 1 of 1000 took 8.478s\n",
      "  training loss:\t\t0.529907\n",
      "  validation loss:\t\t0.531534\n",
      "  validation accuracy:\t\t77.78 %\n",
      "Epoch 2 of 1000 took 8.425s\n",
      "  training loss:\t\t0.508156\n",
      "  validation loss:\t\t0.523695\n",
      "  validation accuracy:\t\t77.78 %\n",
      "Epoch 3 of 1000 took 8.422s\n",
      "  training loss:\t\t0.506539\n",
      "  validation loss:\t\t0.520701\n",
      "  validation accuracy:\t\t77.78 %\n",
      "Epoch 4 of 1000 took 8.384s\n",
      "  training loss:\t\t0.493099\n",
      "  validation loss:\t\t0.518684\n",
      "  validation accuracy:\t\t77.78 %\n",
      "Epoch 5 of 1000 took 8.341s\n",
      "  training loss:\t\t0.487756\n",
      "  validation loss:\t\t0.508429\n",
      "  validation accuracy:\t\t77.78 %\n",
      "Epoch 6 of 1000 took 8.320s\n",
      "  training loss:\t\t0.484282\n",
      "  validation loss:\t\t0.488114\n",
      "  validation accuracy:\t\t77.78 %\n",
      "Epoch 7 of 1000 took 8.351s\n",
      "  training loss:\t\t0.477854\n",
      "  validation loss:\t\t0.478472\n",
      "  validation accuracy:\t\t77.78 %\n",
      "Epoch 8 of 1000 took 8.401s\n",
      "  training loss:\t\t0.460586\n",
      "  validation loss:\t\t0.536517\n",
      "  validation accuracy:\t\t77.78 %\n",
      "Epoch 9 of 1000 took 8.409s\n",
      "  training loss:\t\t0.456629\n",
      "  validation loss:\t\t0.446537\n",
      "  validation accuracy:\t\t77.67 %\n",
      "Epoch 10 of 1000 took 8.374s\n",
      "  training loss:\t\t0.437274\n",
      "  validation loss:\t\t0.440917\n",
      "  validation accuracy:\t\t77.56 %\n",
      "Epoch 11 of 1000 took 8.370s\n",
      "  training loss:\t\t0.430614\n",
      "  validation loss:\t\t0.430509\n",
      "  validation accuracy:\t\t78.11 %\n",
      "Epoch 12 of 1000 took 8.364s\n",
      "  training loss:\t\t0.418367\n",
      "  validation loss:\t\t0.410414\n",
      "  validation accuracy:\t\t79.33 %\n",
      "Epoch 13 of 1000 took 8.364s\n",
      "  training loss:\t\t0.403814\n",
      "  validation loss:\t\t0.390261\n",
      "  validation accuracy:\t\t80.44 %\n",
      "Epoch 14 of 1000 took 8.362s\n",
      "  training loss:\t\t0.396987\n",
      "  validation loss:\t\t0.390332\n",
      "  validation accuracy:\t\t81.89 %\n",
      "Epoch 15 of 1000 took 8.357s\n",
      "  training loss:\t\t0.379836\n",
      "  validation loss:\t\t0.373701\n",
      "  validation accuracy:\t\t83.00 %\n",
      "Epoch 16 of 1000 took 8.352s\n",
      "  training loss:\t\t0.368082\n",
      "  validation loss:\t\t0.376236\n",
      "  validation accuracy:\t\t83.11 %\n",
      "Epoch 17 of 1000 took 8.356s\n",
      "  training loss:\t\t0.365367\n",
      "  validation loss:\t\t0.362550\n",
      "  validation accuracy:\t\t83.33 %\n",
      "Epoch 18 of 1000 took 8.357s\n",
      "  training loss:\t\t0.345148\n",
      "  validation loss:\t\t0.353100\n",
      "  validation accuracy:\t\t83.44 %\n",
      "Epoch 19 of 1000 took 8.358s\n",
      "  training loss:\t\t0.335666\n",
      "  validation loss:\t\t0.356029\n",
      "  validation accuracy:\t\t83.89 %\n",
      "Epoch 20 of 1000 took 8.356s\n",
      "  training loss:\t\t0.324419\n",
      "  validation loss:\t\t0.350055\n",
      "  validation accuracy:\t\t84.00 %\n",
      "Epoch 21 of 1000 took 8.360s\n",
      "  training loss:\t\t0.323123\n",
      "  validation loss:\t\t0.328171\n",
      "  validation accuracy:\t\t85.56 %\n",
      "Epoch 22 of 1000 took 8.362s\n",
      "  training loss:\t\t0.310597\n",
      "  validation loss:\t\t0.332901\n",
      "  validation accuracy:\t\t84.89 %\n",
      "Epoch 23 of 1000 took 8.352s\n",
      "  training loss:\t\t0.295286\n",
      "  validation loss:\t\t0.349193\n",
      "  validation accuracy:\t\t83.22 %\n",
      "Epoch 24 of 1000 took 8.377s\n",
      "  training loss:\t\t0.287565\n",
      "  validation loss:\t\t0.324373\n",
      "  validation accuracy:\t\t85.00 %\n",
      "Epoch 25 of 1000 took 8.376s\n",
      "  training loss:\t\t0.271350\n",
      "  validation loss:\t\t0.349729\n",
      "  validation accuracy:\t\t85.78 %\n",
      "Epoch 26 of 1000 took 8.354s\n",
      "  training loss:\t\t0.269658\n",
      "  validation loss:\t\t0.352432\n",
      "  validation accuracy:\t\t84.78 %\n",
      "Epoch 27 of 1000 took 8.361s\n",
      "  training loss:\t\t0.255565\n",
      "  validation loss:\t\t0.339232\n",
      "  validation accuracy:\t\t85.22 %\n",
      "Epoch 28 of 1000 took 8.402s\n",
      "  training loss:\t\t0.260222\n",
      "  validation loss:\t\t0.355182\n",
      "  validation accuracy:\t\t85.56 %\n",
      "Epoch 29 of 1000 took 8.361s\n",
      "  training loss:\t\t0.239551\n",
      "  validation loss:\t\t0.332326\n",
      "  validation accuracy:\t\t85.33 %\n",
      "Epoch 30 of 1000 took 8.396s\n",
      "  training loss:\t\t0.226447\n",
      "  validation loss:\t\t0.325417\n",
      "  validation accuracy:\t\t85.00 %\n",
      "Epoch 31 of 1000 took 8.363s\n",
      "  training loss:\t\t0.222499\n",
      "  validation loss:\t\t0.353632\n",
      "  validation accuracy:\t\t84.67 %\n",
      "Epoch 32 of 1000 took 8.367s\n",
      "  training loss:\t\t0.222628\n",
      "  validation loss:\t\t0.345528\n",
      "  validation accuracy:\t\t85.22 %\n",
      "Epoch 33 of 1000 took 8.357s\n",
      "  training loss:\t\t0.224406\n",
      "  validation loss:\t\t0.332827\n",
      "  validation accuracy:\t\t85.67 %\n",
      "Epoch 34 of 1000 took 8.370s\n",
      "  training loss:\t\t0.196020\n",
      "  validation loss:\t\t0.344703\n",
      "  validation accuracy:\t\t86.11 %\n",
      "Epoch 35 of 1000 took 8.362s\n",
      "  training loss:\t\t0.184932\n",
      "  validation loss:\t\t0.371123\n",
      "  validation accuracy:\t\t85.78 %\n"
     ]
    },
    {
     "ename": "KeyboardInterrupt",
     "evalue": "",
     "output_type": "error",
     "traceback": [
      "\u001b[1;31m---------------------------------------------------------------------------\u001b[0m",
      "\u001b[1;31mKeyboardInterrupt\u001b[0m                         Traceback (most recent call last)",
      "\u001b[1;32m<ipython-input-25-a663b2c954d0>\u001b[0m in \u001b[0;36m<module>\u001b[1;34m()\u001b[0m\n\u001b[0;32m     20\u001b[0m     \u001b[1;32mfor\u001b[0m \u001b[0mbatch\u001b[0m \u001b[1;32min\u001b[0m \u001b[0miterate_minibatches\u001b[0m\u001b[1;33m(\u001b[0m\u001b[0mX_val\u001b[0m\u001b[1;33m,\u001b[0m \u001b[0my_val\u001b[0m\u001b[1;33m,\u001b[0m \u001b[1;36m100\u001b[0m\u001b[1;33m,\u001b[0m \u001b[0mshuffle\u001b[0m\u001b[1;33m=\u001b[0m\u001b[0mFalse\u001b[0m\u001b[1;33m)\u001b[0m\u001b[1;33m:\u001b[0m\u001b[1;33m\u001b[0m\u001b[0m\n\u001b[0;32m     21\u001b[0m         \u001b[0minputs\u001b[0m\u001b[1;33m,\u001b[0m \u001b[0mtargets\u001b[0m \u001b[1;33m=\u001b[0m \u001b[0mbatch\u001b[0m\u001b[1;33m\u001b[0m\u001b[0m\n\u001b[1;32m---> 22\u001b[1;33m         \u001b[0merr\u001b[0m\u001b[1;33m,\u001b[0m \u001b[0macc\u001b[0m \u001b[1;33m=\u001b[0m \u001b[0mval_fn\u001b[0m\u001b[1;33m(\u001b[0m\u001b[0minputs\u001b[0m\u001b[1;33m,\u001b[0m \u001b[0mtargets\u001b[0m\u001b[1;33m)\u001b[0m\u001b[1;33m\u001b[0m\u001b[0m\n\u001b[0m\u001b[0;32m     23\u001b[0m         \u001b[0mval_err\u001b[0m \u001b[1;33m+=\u001b[0m \u001b[0merr\u001b[0m\u001b[1;33m\u001b[0m\u001b[0m\n\u001b[0;32m     24\u001b[0m         \u001b[0mval_acc\u001b[0m \u001b[1;33m+=\u001b[0m \u001b[0macc\u001b[0m\u001b[1;33m\u001b[0m\u001b[0m\n",
      "\u001b[1;32m/home/libfun/.virtualenvs/main/local/lib/python2.7/site-packages/theano/compile/function_module.pyc\u001b[0m in \u001b[0;36m__call__\u001b[1;34m(self, *args, **kwargs)\u001b[0m\n\u001b[0;32m    857\u001b[0m         \u001b[0mt0_fn\u001b[0m \u001b[1;33m=\u001b[0m \u001b[0mtime\u001b[0m\u001b[1;33m.\u001b[0m\u001b[0mtime\u001b[0m\u001b[1;33m(\u001b[0m\u001b[1;33m)\u001b[0m\u001b[1;33m\u001b[0m\u001b[0m\n\u001b[0;32m    858\u001b[0m         \u001b[1;32mtry\u001b[0m\u001b[1;33m:\u001b[0m\u001b[1;33m\u001b[0m\u001b[0m\n\u001b[1;32m--> 859\u001b[1;33m             \u001b[0moutputs\u001b[0m \u001b[1;33m=\u001b[0m \u001b[0mself\u001b[0m\u001b[1;33m.\u001b[0m\u001b[0mfn\u001b[0m\u001b[1;33m(\u001b[0m\u001b[1;33m)\u001b[0m\u001b[1;33m\u001b[0m\u001b[0m\n\u001b[0m\u001b[0;32m    860\u001b[0m         \u001b[1;32mexcept\u001b[0m \u001b[0mException\u001b[0m\u001b[1;33m:\u001b[0m\u001b[1;33m\u001b[0m\u001b[0m\n\u001b[0;32m    861\u001b[0m             \u001b[1;32mif\u001b[0m \u001b[0mhasattr\u001b[0m\u001b[1;33m(\u001b[0m\u001b[0mself\u001b[0m\u001b[1;33m.\u001b[0m\u001b[0mfn\u001b[0m\u001b[1;33m,\u001b[0m \u001b[1;34m'position_of_error'\u001b[0m\u001b[1;33m)\u001b[0m\u001b[1;33m:\u001b[0m\u001b[1;33m\u001b[0m\u001b[0m\n",
      "\u001b[1;32m/home/libfun/.virtualenvs/main/local/lib/python2.7/site-packages/theano/gof/op.pyc\u001b[0m in \u001b[0;36mrval\u001b[1;34m(p, i, o, n)\u001b[0m\n\u001b[0;32m    862\u001b[0m         \u001b[1;32mif\u001b[0m \u001b[0mparams\u001b[0m \u001b[1;32mis\u001b[0m \u001b[0mgraph\u001b[0m\u001b[1;33m.\u001b[0m\u001b[0mNoParams\u001b[0m\u001b[1;33m:\u001b[0m\u001b[1;33m\u001b[0m\u001b[0m\n\u001b[0;32m    863\u001b[0m             \u001b[1;31m# default arguments are stored in the closure of `rval`\u001b[0m\u001b[1;33m\u001b[0m\u001b[1;33m\u001b[0m\u001b[0m\n\u001b[1;32m--> 864\u001b[1;33m             \u001b[1;32mdef\u001b[0m \u001b[0mrval\u001b[0m\u001b[1;33m(\u001b[0m\u001b[0mp\u001b[0m\u001b[1;33m=\u001b[0m\u001b[0mp\u001b[0m\u001b[1;33m,\u001b[0m \u001b[0mi\u001b[0m\u001b[1;33m=\u001b[0m\u001b[0mnode_input_storage\u001b[0m\u001b[1;33m,\u001b[0m \u001b[0mo\u001b[0m\u001b[1;33m=\u001b[0m\u001b[0mnode_output_storage\u001b[0m\u001b[1;33m,\u001b[0m \u001b[0mn\u001b[0m\u001b[1;33m=\u001b[0m\u001b[0mnode\u001b[0m\u001b[1;33m)\u001b[0m\u001b[1;33m:\u001b[0m\u001b[1;33m\u001b[0m\u001b[0m\n\u001b[0m\u001b[0;32m    865\u001b[0m                 \u001b[0mr\u001b[0m \u001b[1;33m=\u001b[0m \u001b[0mp\u001b[0m\u001b[1;33m(\u001b[0m\u001b[0mn\u001b[0m\u001b[1;33m,\u001b[0m \u001b[1;33m[\u001b[0m\u001b[0mx\u001b[0m\u001b[1;33m[\u001b[0m\u001b[1;36m0\u001b[0m\u001b[1;33m]\u001b[0m \u001b[1;32mfor\u001b[0m \u001b[0mx\u001b[0m \u001b[1;32min\u001b[0m \u001b[0mi\u001b[0m\u001b[1;33m]\u001b[0m\u001b[1;33m,\u001b[0m \u001b[0mo\u001b[0m\u001b[1;33m)\u001b[0m\u001b[1;33m\u001b[0m\u001b[0m\n\u001b[0;32m    866\u001b[0m                 \u001b[1;32mfor\u001b[0m \u001b[0mo\u001b[0m \u001b[1;32min\u001b[0m \u001b[0mnode\u001b[0m\u001b[1;33m.\u001b[0m\u001b[0moutputs\u001b[0m\u001b[1;33m:\u001b[0m\u001b[1;33m\u001b[0m\u001b[0m\n",
      "\u001b[1;31mKeyboardInterrupt\u001b[0m: "
     ]
    }
   ],
   "source": [
    "num_epochs = 1000\n",
    "\n",
    "# Finally, launch the training loop.\n",
    "print(\"Starting training...\")\n",
    "# We iterate over epochs:\n",
    "for epoch in range(num_epochs):\n",
    "    # In each epoch, we do a full pass over the training data:\n",
    "    train_err = 0\n",
    "    train_batches = 0\n",
    "    start_time = time.time()\n",
    "    for batch in iterate_minibatches(X_train, y_train, 100, shuffle=True):\n",
    "        inputs, targets = batch\n",
    "        train_err += train_fn(inputs, targets)\n",
    "        train_batches += 1\n",
    "\n",
    "    # And a full pass over the validation data:\n",
    "    val_err = 0\n",
    "    val_acc = 0\n",
    "    val_batches = 0\n",
    "    for batch in iterate_minibatches(X_val, y_val, 100, shuffle=False):\n",
    "        inputs, targets = batch\n",
    "        err, acc = val_fn(inputs, targets)\n",
    "        val_err += err\n",
    "        val_acc += acc\n",
    "        val_batches += 1\n",
    "\n",
    "    # Then we print the results for this epoch:\n",
    "    print(\"Epoch {} of {} took {:.3f}s\".format(\n",
    "        epoch + 1, num_epochs, time.time() - start_time))\n",
    "    print(\"  training loss:\\t\\t{:.6f}\".format(train_err / train_batches))\n",
    "    print(\"  validation loss:\\t\\t{:.6f}\".format(val_err / val_batches))\n",
    "    print(\"  validation accuracy:\\t\\t{:.2f} %\".format(\n",
    "        val_acc / val_batches * 100))"
   ]
  },
  {
   "cell_type": "code",
   "execution_count": 15,
   "metadata": {
    "collapsed": true
   },
   "outputs": [],
   "source": [
    "X_train = data\n",
    "y_train = labels.genus.values\n",
    "y_train = y_train.astype('int32')"
   ]
  },
  {
   "cell_type": "code",
   "execution_count": 16,
   "metadata": {
    "collapsed": false
   },
   "outputs": [],
   "source": [
    "tst = pd.read_csv('./SubmissionFormat.csv')"
   ]
  },
  {
   "cell_type": "code",
   "execution_count": 17,
   "metadata": {
    "collapsed": true
   },
   "outputs": [],
   "source": [
    "test_data = np.zeros((992, 3, 200, 200), dtype='float32')"
   ]
  },
  {
   "cell_type": "code",
   "execution_count": 18,
   "metadata": {
    "collapsed": false
   },
   "outputs": [],
   "source": [
    "k = 0\n",
    "for i in tst.id.values:\n",
    "    with open('./bee_images/test/'+str(i)+'.jpg', 'r') as f:\n",
    "        img = mpimg.imread(f, format='jpg')\n",
    "        img2 = np.zeros((3,200,200))\n",
    "        for j in range(3):\n",
    "            img2[j,:,:] = img[:,:,j] / np.float(256)\n",
    "        test_data[k] = img2.copy()\n",
    "    k += 1"
   ]
  },
  {
   "cell_type": "code",
   "execution_count": 21,
   "metadata": {
    "collapsed": false
   },
   "outputs": [
    {
     "name": "stdout",
     "output_type": "stream",
     "text": [
      "Starting training...\n",
      "Epoch 1 of 30 took 9.987s\n",
      "  training loss:\t\t0.547457\n",
      "Epoch 2 of 30 took 9.911s\n",
      "  training loss:\t\t0.511470\n",
      "Epoch 3 of 30 took 10.037s\n",
      "  training loss:\t\t0.507766\n",
      "Epoch 4 of 30 took 10.012s\n",
      "  training loss:\t\t0.502669\n",
      "Epoch 5 of 30 took 10.037s\n",
      "  training loss:\t\t0.498184\n",
      "Epoch 6 of 30 took 9.952s\n",
      "  training loss:\t\t0.486899\n",
      "Epoch 7 of 30 took 9.913s\n",
      "  training loss:\t\t0.473765\n",
      "Epoch 8 of 30 took 9.904s\n",
      "  training loss:\t\t0.457293\n",
      "Epoch 9 of 30 took 9.902s\n",
      "  training loss:\t\t0.438585\n",
      "Epoch 10 of 30 took 9.917s\n",
      "  training loss:\t\t0.433532\n",
      "Epoch 11 of 30 took 9.923s\n",
      "  training loss:\t\t0.411836\n",
      "Epoch 12 of 30 took 9.906s\n",
      "  training loss:\t\t0.405422\n",
      "Epoch 13 of 30 took 9.927s\n",
      "  training loss:\t\t0.389874\n",
      "Epoch 14 of 30 took 9.914s\n",
      "  training loss:\t\t0.385190\n",
      "Epoch 15 of 30 took 9.912s\n",
      "  training loss:\t\t0.375876\n",
      "Epoch 16 of 30 took 9.926s\n",
      "  training loss:\t\t0.361219\n",
      "Epoch 17 of 30 took 9.911s\n",
      "  training loss:\t\t0.351093\n",
      "Epoch 18 of 30 took 9.918s\n",
      "  training loss:\t\t0.335968\n",
      "Epoch 19 of 30 took 9.928s\n",
      "  training loss:\t\t0.320796\n",
      "Epoch 20 of 30 took 9.911s\n",
      "  training loss:\t\t0.317022\n",
      "Epoch 21 of 30 took 10.008s\n",
      "  training loss:\t\t0.305535\n",
      "Epoch 22 of 30 took 9.911s\n",
      "  training loss:\t\t0.301848\n",
      "Epoch 23 of 30 took 9.917s\n",
      "  training loss:\t\t0.287001\n",
      "Epoch 24 of 30 took 9.933s\n",
      "  training loss:\t\t0.270770\n",
      "Epoch 25 of 30 took 9.900s\n",
      "  training loss:\t\t0.271237\n",
      "Epoch 26 of 30 took 9.922s\n",
      "  training loss:\t\t0.252546\n",
      "Epoch 27 of 30 took 9.919s\n",
      "  training loss:\t\t0.240236\n",
      "Epoch 28 of 30 took 9.939s\n",
      "  training loss:\t\t0.228287\n",
      "Epoch 29 of 30 took 9.919s\n",
      "  training loss:\t\t0.221466\n",
      "Epoch 30 of 30 took 9.922s\n",
      "  training loss:\t\t0.219438\n"
     ]
    }
   ],
   "source": [
    "num_epochs = 30\n",
    "\n",
    "# Finally, launch the training loop.\n",
    "print(\"Starting training...\")\n",
    "# We iterate over epochs:\n",
    "for epoch in range(num_epochs):\n",
    "    # In each epoch, we do a full pass over the training data:\n",
    "    train_err = 0\n",
    "    train_batches = 0\n",
    "    start_time = time.time()\n",
    "    for batch in iterate_minibatches(X_train, y_train, 100, shuffle=True):\n",
    "        inputs, targets = batch\n",
    "        train_err += train_fn(inputs, targets)\n",
    "        train_batches += 1\n",
    "\n",
    "    # Then we print the results for this epoch:\n",
    "    print(\"Epoch {} of {} took {:.3f}s\".format(\n",
    "        epoch + 1, num_epochs, time.time() - start_time))\n",
    "    print(\"  training loss:\\t\\t{:.6f}\".format(train_err / train_batches))"
   ]
  },
  {
   "cell_type": "code",
   "execution_count": 23,
   "metadata": {
    "collapsed": true
   },
   "outputs": [],
   "source": [
    "def iterate_testbatches(inputs, batchsize, shuffle=False):\n",
    "    assert len(inputs)\n",
    "    for start_idx in range(0, len(inputs) - batchsize + 1, batchsize):\n",
    "        if shuffle:\n",
    "            excerpt = indices[start_idx:start_idx + batchsize]\n",
    "        else:\n",
    "            excerpt = slice(start_idx, start_idx + batchsize)\n",
    "        yield inputs[excerpt]"
   ]
  },
  {
   "cell_type": "code",
   "execution_count": 36,
   "metadata": {
    "collapsed": false
   },
   "outputs": [],
   "source": [
    "ans = []\n",
    "for t in test_data:\n",
    "    vals = test_fn(t.reshape((1,3,200,200)))\n",
    "    ans.append(vals[:,1])"
   ]
  },
  {
   "cell_type": "code",
   "execution_count": 39,
   "metadata": {
    "collapsed": false,
    "scrolled": true
   },
   "outputs": [],
   "source": [
    "res = np.array(ans).reshape(992)"
   ]
  },
  {
   "cell_type": "code",
   "execution_count": 40,
   "metadata": {
    "collapsed": false
   },
   "outputs": [],
   "source": [
    "tst.genus = res.copy()"
   ]
  },
  {
   "cell_type": "code",
   "execution_count": 42,
   "metadata": {
    "collapsed": false
   },
   "outputs": [],
   "source": [
    "tst.to_csv('./first.csv', index = False)"
   ]
  },
  {
   "cell_type": "code",
   "execution_count": null,
   "metadata": {
    "collapsed": true
   },
   "outputs": [],
   "source": []
  }
 ],
 "metadata": {
  "kernelspec": {
   "display_name": "Python 2",
   "language": "python",
   "name": "python2"
  },
  "language_info": {
   "codemirror_mode": {
    "name": "ipython",
    "version": 2
   },
   "file_extension": ".py",
   "mimetype": "text/x-python",
   "name": "python",
   "nbconvert_exporter": "python",
   "pygments_lexer": "ipython2",
   "version": "2.7.6"
  }
 },
 "nbformat": 4,
 "nbformat_minor": 0
}
