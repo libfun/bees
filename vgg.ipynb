{
 "cells": [
  {
   "cell_type": "code",
   "execution_count": 1,
   "metadata": {
    "collapsed": true
   },
   "outputs": [],
   "source": [
    "import numpy as np\n",
    "import pandas as pd\n",
    "import matplotlib.pyplot as plt\n",
    "%matplotlib inline"
   ]
  },
  {
   "cell_type": "code",
   "execution_count": 2,
   "metadata": {
    "collapsed": false
   },
   "outputs": [
    {
     "name": "stderr",
     "output_type": "stream",
     "text": [
      "Using gpu device 0: GeForce GTX 670 (CNMeM is disabled)\n"
     ]
    }
   ],
   "source": [
    "import lasagne\n",
    "from lasagne.layers import InputLayer, DenseLayer, DropoutLayer\n",
    "from lasagne.layers.dnn import Conv2DDNNLayer as ConvLayer\n",
    "from lasagne.layers.dnn import MaxPool2DDNNLayer as PoolLayer\n",
    "from lasagne.layers import LocalResponseNormalization2DLayer as NormLayer\n",
    "from lasagne.utils import floatX"
   ]
  },
  {
   "cell_type": "code",
   "execution_count": 3,
   "metadata": {
    "collapsed": false
   },
   "outputs": [],
   "source": [
    "import theano.tensor as T"
   ]
  },
  {
   "cell_type": "code",
   "execution_count": 4,
   "metadata": {
    "collapsed": false
   },
   "outputs": [],
   "source": [
    "input_var = T.tensor4('inputs')\n",
    "target_var = T.ivector('targets')"
   ]
  },
  {
   "cell_type": "code",
   "execution_count": 5,
   "metadata": {
    "collapsed": false
   },
   "outputs": [],
   "source": [
    "net = {}\n",
    "net['input'] = InputLayer((None, 3, 200, 200),input_var=input_var)\n",
    "net['conv1'] = ConvLayer(net['input'], num_filters=64, filter_size=5, stride=1,\n",
    "                        nonlinearity = lasagne.nonlinearities.rectify,\n",
    "                        W = lasagne.init.GlorotUniform(gain = 'relu'))\n",
    "net['drop1'] = DropoutLayer(net['conv1'], p=0.1)\n",
    "#net['norm1'] = NormLayer(net['conv1'], alpha=0.0001) # caffe has alpha = alpha * pool_size\n",
    "net['pool1'] = PoolLayer(net['drop1'], pool_size=5, stride=5)\n",
    "net['conv2'] = ConvLayer(net['pool1'], num_filters=64, filter_size=5,\n",
    "                        nonlinearity = lasagne.nonlinearities.rectify,\n",
    "                        W = lasagne.init.GlorotUniform(gain = 'relu'))\n",
    "net['drop2'] = DropoutLayer(net['conv2'], p=0.1)\n",
    "net['conv3'] = ConvLayer(net['drop2'], num_filters=64, filter_size=5,\n",
    "                        nonlinearity = lasagne.nonlinearities.rectify,\n",
    "                        W = lasagne.init.GlorotUniform(gain = 'relu'))\n",
    "net['drop3'] = DropoutLayer(net['conv3'], p=0.1)\n",
    "net['pool2'] = PoolLayer(net['drop3'], pool_size=5, stride=5)\n",
    "#net['conv3'] = ConvLayer(net['pool2'], num_filters=128, filter_size=3, pad=1)\n",
    "#net['conv4'] = ConvLayer(net['conv3'], num_filters=128, filter_size=3, pad=1)\n",
    "#net['conv5'] = ConvLayer(net['conv4'], num_filters=128, filter_size=3, pad=1)\n",
    "#net['pool5'] = PoolLayer(net['conv5'], pool_size=3, stride=3, ignore_border=False)\n",
    "net['fc6'] = DenseLayer(net['pool2'], num_units=512,\n",
    "                        nonlinearity = lasagne.nonlinearities.rectify,\n",
    "                        W = lasagne.init.GlorotUniform(gain = 'relu'))\n",
    "net['drop6'] = DropoutLayer(net['fc6'], p=0.5)\n",
    "net['fc7'] = DenseLayer(net['drop6'], num_units=256,\n",
    "                        nonlinearity = lasagne.nonlinearities.rectify,\n",
    "                        W = lasagne.init.GlorotUniform(gain = 'relu'))\n",
    "net['drop7'] = DropoutLayer(net['fc7'], p=0.5)\n",
    "net['fc8'] = DenseLayer(net['drop7'], num_units=128,\n",
    "                        nonlinearity = lasagne.nonlinearities.rectify,\n",
    "                        W = lasagne.init.GlorotUniform(gain = 'relu'))\n",
    "net['drop8'] = DropoutLayer(net['fc8'], p=0.5)\n",
    "net['fc9'] = DenseLayer(net['drop8'], num_units=2, nonlinearity=lasagne.nonlinearities.softmax)\n",
    "output_layer = net['fc9']"
   ]
  },
  {
   "cell_type": "code",
   "execution_count": 6,
   "metadata": {
    "collapsed": true
   },
   "outputs": [],
   "source": [
    "import matplotlib.image as mpimg"
   ]
  },
  {
   "cell_type": "code",
   "execution_count": 7,
   "metadata": {
    "collapsed": false
   },
   "outputs": [],
   "source": [
    "labels =  pd.read_csv('./b37d3960-6909-472b-9ce1-c33b07dbdb66.csv', index_col='id')"
   ]
  },
  {
   "cell_type": "code",
   "execution_count": 8,
   "metadata": {
    "collapsed": false
   },
   "outputs": [],
   "source": [
    "labels = labels.sort_index()"
   ]
  },
  {
   "cell_type": "code",
   "execution_count": 9,
   "metadata": {
    "collapsed": true
   },
   "outputs": [],
   "source": [
    "data = np.zeros((3969, 3, 200, 200), dtype='float32')"
   ]
  },
  {
   "cell_type": "code",
   "execution_count": 10,
   "metadata": {
    "collapsed": false
   },
   "outputs": [
    {
     "data": {
      "text/plain": [
       "Int64Index([   1,    2,    3,    4,    5,    6,    8,    9,   12,   14,\n",
       "            ...\n",
       "            4947, 4949, 4950, 4951, 4952, 4953, 4957, 4958, 4959, 4960],\n",
       "           dtype='int64', name=u'id', length=3969)"
      ]
     },
     "execution_count": 10,
     "metadata": {},
     "output_type": "execute_result"
    }
   ],
   "source": [
    "labels.index"
   ]
  },
  {
   "cell_type": "code",
   "execution_count": 11,
   "metadata": {
    "collapsed": false
   },
   "outputs": [],
   "source": [
    "k = 0\n",
    "for i in labels.index:\n",
    "    with open('./bee_images/train/'+str(i)+'.jpg', 'r') as f:\n",
    "        img = mpimg.imread(f, format='jpg')\n",
    "        img2 = np.zeros((3,200,200))\n",
    "        for j in range(3):\n",
    "            img2[j,:,:] = img[:,:,j] / np.float(256)\n",
    "        data[k] = img2.copy()\n",
    "    k += 1"
   ]
  },
  {
   "cell_type": "code",
   "execution_count": 12,
   "metadata": {
    "collapsed": true
   },
   "outputs": [],
   "source": [
    "def add_rev(data):\n",
    "    dnew = np.zeros(data.shape, dtype='float32')\n",
    "    k = 0\n",
    "    for im in data:\n",
    "        dnew[k] = im[:,:,::-1].copy()\n",
    "        k += 1\n",
    "    #print im[:,:,::-1]\n",
    "    return dnew\n",
    "\n",
    "def add_ud(data):\n",
    "    dnew = np.zeros(data.shape, dtype='float32')\n",
    "    k = 0\n",
    "    for im in data:\n",
    "        dnew[k] = im[:,::-1,:].copy()\n",
    "        k += 1\n",
    "    return dnew\n",
    "\n",
    "def add_rud(data):\n",
    "    dnew = np.zeros(data.shape, dtype='float32')\n",
    "    k = 0\n",
    "    for im in data:\n",
    "        dnew[k] = im[:,::-1,::-1].copy()\n",
    "        k += 1\n",
    "    return dnew"
   ]
  },
  {
   "cell_type": "code",
   "execution_count": 13,
   "metadata": {
    "collapsed": false
   },
   "outputs": [],
   "source": [
    "X_train, X_val = data[:3000], data[3000:]"
   ]
  },
  {
   "cell_type": "code",
   "execution_count": 14,
   "metadata": {
    "collapsed": false
   },
   "outputs": [],
   "source": [
    "X_train = np.concatenate((X_train, add_rev(X_train)))"
   ]
  },
  {
   "cell_type": "code",
   "execution_count": 15,
   "metadata": {
    "collapsed": false
   },
   "outputs": [],
   "source": [
    "y_train, y_val = labels.genus.values[:3000].astype('int32'), labels.genus.values[3000:].astype('int32')"
   ]
  },
  {
   "cell_type": "code",
   "execution_count": 16,
   "metadata": {
    "collapsed": true
   },
   "outputs": [],
   "source": [
    "y_train = np.concatenate((y_train, y_train))"
   ]
  },
  {
   "cell_type": "code",
   "execution_count": 13,
   "metadata": {
    "collapsed": true
   },
   "outputs": [],
   "source": [
    "def iterate_minibatches(inputs, targets, batchsize, shuffle=False):\n",
    "    assert len(inputs) == len(targets)\n",
    "    if shuffle:\n",
    "        indices = np.arange(len(inputs))\n",
    "        np.random.shuffle(indices)\n",
    "    for start_idx in range(0, len(inputs) - batchsize + 1, batchsize):\n",
    "        if shuffle:\n",
    "            excerpt = indices[start_idx:start_idx + batchsize]\n",
    "        else:\n",
    "            excerpt = slice(start_idx, start_idx + batchsize)\n",
    "        yield inputs[excerpt], targets[excerpt]"
   ]
  },
  {
   "cell_type": "code",
   "execution_count": 14,
   "metadata": {
    "collapsed": true
   },
   "outputs": [],
   "source": [
    "import theano"
   ]
  },
  {
   "cell_type": "code",
   "execution_count": 15,
   "metadata": {
    "collapsed": false
   },
   "outputs": [],
   "source": [
    "prediction = lasagne.layers.get_output(output_layer)\n",
    "loss = lasagne.objectives.categorical_crossentropy(prediction, target_var)\n",
    "loss = loss.mean()\n",
    "# We could add some weight decay as well here, see lasagne.regularization.\n",
    "\n",
    "# Create update expressions for training, i.e., how to modify the\n",
    "# parameters at each training step. Here, we'll use Stochastic Gradient\n",
    "# Descent (SGD) with Nesterov momentum, but Lasagne offers plenty more.\n",
    "params = lasagne.layers.get_all_params(output_layer, trainable=True)\n",
    "updates = lasagne.updates.nesterov_momentum(\n",
    "        loss, params, learning_rate=0.002, momentum=0.9)\n",
    "\n",
    "# Create a loss expression for validation/testing. The crucial difference\n",
    "# here is that we do a deterministic forward pass through the network,\n",
    "# disabling dropout layers.\n",
    "test_prediction = lasagne.layers.get_output(output_layer, deterministic=True)\n",
    "test_loss = lasagne.objectives.categorical_crossentropy(test_prediction,\n",
    "                                                        target_var)\n",
    "test_loss = test_loss.mean()\n",
    "# As a bonus, also create an expression for the classification accuracy:\n",
    "test_acc = T.mean(T.eq(T.argmax(test_prediction, axis=1), target_var),\n",
    "                  dtype=theano.config.floatX)\n",
    "\n",
    "\n",
    "# Compile a function performing a training step on a mini-batch (by giving\n",
    "# the updates dictionary) and returning the corresponding training loss:\n",
    "train_fn = theano.function([input_var, target_var], loss, updates=updates)\n",
    "\n",
    "# Compile a second function computing the validation loss and accuracy:\n",
    "val_fn = theano.function([input_var, target_var], [test_loss, test_acc])\n",
    "\n",
    "test_fn = theano.function([input_var], test_prediction)"
   ]
  },
  {
   "cell_type": "code",
   "execution_count": 16,
   "metadata": {
    "collapsed": true
   },
   "outputs": [],
   "source": [
    "import time"
   ]
  },
  {
   "cell_type": "code",
   "execution_count": 21,
   "metadata": {
    "collapsed": true
   },
   "outputs": [],
   "source": [
    "from sklearn.metrics import roc_auc_score"
   ]
  },
  {
   "cell_type": "code",
   "execution_count": 22,
   "metadata": {
    "collapsed": true
   },
   "outputs": [
    {
     "name": "stdout",
     "output_type": "stream",
     "text": [
      "Starting training...\n",
      "Epoch 1 of 1000 took 43.656s\n",
      "  training loss:\t\t0.538815\n",
      "  validation loss:\t\t0.545507\n",
      "  validation accuracy:\t\t77.50 %\n",
      "  validation roc auc:\t\t0.616273\n",
      "  validation r roc auc:\t\t0.610422\n",
      "Epoch 2 of 1000 took 43.683s\n",
      "  training loss:\t\t0.513935\n",
      "  validation loss:\t\t0.530061\n",
      "  validation accuracy:\t\t77.50 %\n",
      "  validation roc auc:\t\t0.703111\n",
      "  validation r roc auc:\t\t0.697071\n",
      "Epoch 3 of 1000 took 43.802s\n",
      "  training loss:\t\t0.501733\n",
      "  validation loss:\t\t0.514470\n",
      "  validation accuracy:\t\t77.50 %\n",
      "  validation roc auc:\t\t0.774857\n",
      "  validation r roc auc:\t\t0.778247\n",
      "Epoch 4 of 1000 took 43.651s\n",
      "  training loss:\t\t0.479123\n",
      "  validation loss:\t\t0.474025\n",
      "  validation accuracy:\t\t77.50 %\n",
      "  validation roc auc:\t\t0.802508\n",
      "  validation r roc auc:\t\t0.801060\n",
      "Epoch 5 of 1000 took 43.686s\n",
      "  training loss:\t\t0.455532\n",
      "  validation loss:\t\t0.464330\n",
      "  validation accuracy:\t\t77.50 %\n",
      "  validation roc auc:\t\t0.815518\n",
      "  validation r roc auc:\t\t0.815952\n",
      "Epoch 6 of 1000 took 43.708s\n",
      "  training loss:\t\t0.429412\n",
      "  validation loss:\t\t0.426982\n",
      "  validation accuracy:\t\t77.50 %\n",
      "  validation roc auc:\t\t0.846242\n",
      "  validation r roc auc:\t\t0.845796\n",
      "Epoch 7 of 1000 took 43.582s\n",
      "  training loss:\t\t0.416757\n",
      "  validation loss:\t\t0.401092\n",
      "  validation accuracy:\t\t77.81 %\n",
      "  validation roc auc:\t\t0.849332\n",
      "  validation r roc auc:\t\t0.848819\n",
      "Epoch 8 of 1000 took 43.667s\n",
      "  training loss:\t\t0.402056\n",
      "  validation loss:\t\t0.406778\n",
      "  validation accuracy:\t\t77.92 %\n",
      "  validation roc auc:\t\t0.851598\n",
      "  validation r roc auc:\t\t0.851299\n",
      "Epoch 9 of 1000 took 43.633s\n",
      "  training loss:\t\t0.392638\n",
      "  validation loss:\t\t0.380749\n",
      "  validation accuracy:\t\t80.80 %\n",
      "  validation roc auc:\t\t0.867308\n",
      "  validation r roc auc:\t\t0.866869\n",
      "Epoch 10 of 1000 took 43.652s\n",
      "  training loss:\t\t0.385412\n",
      "  validation loss:\t\t0.371802\n",
      "  validation accuracy:\t\t82.56 %\n",
      "  validation roc auc:\t\t0.872812\n",
      "  validation r roc auc:\t\t0.870698\n",
      "Epoch 11 of 1000 took 43.618s\n",
      "  training loss:\t\t0.375171\n",
      "  validation loss:\t\t0.371920\n",
      "  validation accuracy:\t\t81.32 %\n",
      "  validation roc auc:\t\t0.872690\n",
      "  validation r roc auc:\t\t0.870717\n",
      "Epoch 12 of 1000 took 43.648s\n",
      "  training loss:\t\t0.363992\n",
      "  validation loss:\t\t0.385739\n",
      "  validation accuracy:\t\t80.19 %\n",
      "  validation roc auc:\t\t0.851782\n",
      "  validation r roc auc:\t\t0.855666\n",
      "Epoch 13 of 1000 took 43.654s\n",
      "  training loss:\t\t0.364360\n",
      "  validation loss:\t\t0.356317\n",
      "  validation accuracy:\t\t82.46 %\n",
      "  validation roc auc:\t\t0.881913\n",
      "  validation r roc auc:\t\t0.879347\n",
      "Epoch 14 of 1000 took 43.645s\n",
      "  training loss:\t\t0.355338\n",
      "  validation loss:\t\t0.348308\n",
      "  validation accuracy:\t\t83.38 %\n",
      "  validation roc auc:\t\t0.884906\n",
      "  validation r roc auc:\t\t0.881131\n",
      "Epoch 15 of 1000 took 43.653s\n",
      "  training loss:\t\t0.347587\n",
      "  validation loss:\t\t0.354937\n",
      "  validation accuracy:\t\t82.77 %\n",
      "  validation roc auc:\t\t0.885052\n",
      "  validation r roc auc:\t\t0.882298\n",
      "Epoch 16 of 1000 took 43.625s\n",
      "  training loss:\t\t0.342194\n",
      "  validation loss:\t\t0.352906\n",
      "  validation accuracy:\t\t83.90 %\n",
      "  validation roc auc:\t\t0.893817\n",
      "  validation r roc auc:\t\t0.891331\n",
      "Epoch 17 of 1000 took 43.654s\n",
      "  training loss:\t\t0.335511\n",
      "  validation loss:\t\t0.334264\n",
      "  validation accuracy:\t\t84.42 %\n",
      "  validation roc auc:\t\t0.894031\n",
      "  validation r roc auc:\t\t0.891203\n",
      "Epoch 18 of 1000 took 43.625s\n",
      "  training loss:\t\t0.331490\n",
      "  validation loss:\t\t0.334100\n",
      "  validation accuracy:\t\t84.11 %\n",
      "  validation roc auc:\t\t0.898814\n",
      "  validation r roc auc:\t\t0.896303\n",
      "Epoch 19 of 1000 took 43.599s\n",
      "  training loss:\t\t0.326657\n",
      "  validation loss:\t\t0.334515\n",
      "  validation accuracy:\t\t83.90 %\n",
      "  validation roc auc:\t\t0.893683\n",
      "  validation r roc auc:\t\t0.893463\n",
      "Epoch 20 of 1000 took 43.703s\n",
      "  training loss:\t\t0.320235\n",
      "  validation loss:\t\t0.342825\n",
      "  validation accuracy:\t\t82.04 %\n",
      "  validation roc auc:\t\t0.901294\n",
      "  validation r roc auc:\t\t0.898234\n",
      "Epoch 21 of 1000 took 43.642s\n",
      "  training loss:\t\t0.316616\n",
      "  validation loss:\t\t0.337059\n",
      "  validation accuracy:\t\t83.90 %\n",
      "  validation roc auc:\t\t0.907897\n",
      "  validation r roc auc:\t\t0.902356\n",
      "Epoch 22 of 1000 took 43.661s\n",
      "  training loss:\t\t0.303546\n",
      "  validation loss:\t\t0.376379\n",
      "  validation accuracy:\t\t79.98 %\n",
      "  validation roc auc:\t\t0.899754\n",
      "  validation r roc auc:\t\t0.900775\n",
      "Epoch 23 of 1000 took 43.616s\n",
      "  training loss:\t\t0.307256\n",
      "  validation loss:\t\t0.330617\n",
      "  validation accuracy:\t\t84.52 %\n",
      "  validation roc auc:\t\t0.917230\n",
      "  validation r roc auc:\t\t0.914334\n",
      "Epoch 24 of 1000 took 43.872s\n",
      "  training loss:\t\t0.295394\n",
      "  validation loss:\t\t0.325791\n",
      "  validation accuracy:\t\t84.11 %\n",
      "  validation roc auc:\t\t0.914444\n",
      "  validation r roc auc:\t\t0.906986\n",
      "Epoch 25 of 1000 took 43.661s\n",
      "  training loss:\t\t0.289637\n",
      "  validation loss:\t\t0.316491\n",
      "  validation accuracy:\t\t84.21 %\n",
      "  validation roc auc:\t\t0.916570\n",
      "  validation r roc auc:\t\t0.911079\n",
      "Epoch 26 of 1000 took 43.635s\n",
      "  training loss:\t\t0.280821\n",
      "  validation loss:\t\t0.364720\n",
      "  validation accuracy:\t\t83.08 %\n",
      "  validation roc auc:\t\t0.919050\n",
      "  validation r roc auc:\t\t0.915202\n",
      "Epoch 27 of 1000 took 43.613s\n",
      "  training loss:\t\t0.279465\n",
      "  validation loss:\t\t0.316350\n",
      "  validation accuracy:\t\t84.21 %\n",
      "  validation roc auc:\t\t0.917669\n",
      "  validation r roc auc:\t\t0.909619\n",
      "Epoch 28 of 1000 took 43.667s\n",
      "  training loss:\t\t0.272231\n",
      "  validation loss:\t\t0.309668\n",
      "  validation accuracy:\t\t85.96 %\n",
      "  validation roc auc:\t\t0.923716\n",
      "  validation r roc auc:\t\t0.915745\n",
      "Epoch 29 of 1000 took 43.622s\n",
      "  training loss:\t\t0.276350\n",
      "  validation loss:\t\t0.319766\n",
      "  validation accuracy:\t\t84.93 %\n",
      "  validation roc auc:\t\t0.920455\n",
      "  validation r roc auc:\t\t0.913412\n",
      "Epoch 30 of 1000 took 43.742s\n",
      "  training loss:\t\t0.262726\n",
      "  validation loss:\t\t0.324785\n",
      "  validation accuracy:\t\t84.83 %\n",
      "  validation roc auc:\t\t0.919392\n",
      "  validation r roc auc:\t\t0.910541\n",
      "Epoch 31 of 1000 took 43.650s\n",
      "  training loss:\t\t0.253903\n",
      "  validation loss:\t\t0.292932\n",
      "  validation accuracy:\t\t87.10 %\n",
      "  validation roc auc:\t\t0.924633\n",
      "  validation r roc auc:\t\t0.920650\n",
      "Epoch 32 of 1000 took 43.649s\n",
      "  training loss:\t\t0.259736\n",
      "  validation loss:\t\t0.315807\n",
      "  validation accuracy:\t\t85.04 %\n",
      "  validation roc auc:\t\t0.908159\n",
      "  validation r roc auc:\t\t0.902784\n",
      "Epoch 33 of 1000 took 43.632s\n",
      "  training loss:\t\t0.246257\n",
      "  validation loss:\t\t0.309014\n",
      "  validation accuracy:\t\t86.79 %\n",
      "  validation roc auc:\t\t0.926624\n",
      "  validation r roc auc:\t\t0.918592\n",
      "Epoch 34 of 1000 took 43.637s\n",
      "  training loss:\t\t0.243597\n",
      "  validation loss:\t\t0.288457\n",
      "  validation accuracy:\t\t86.89 %\n",
      "  validation roc auc:\t\t0.928102\n",
      "  validation r roc auc:\t\t0.920357\n",
      "Epoch 35 of 1000 took 43.795s\n",
      "  training loss:\t\t0.236267\n",
      "  validation loss:\t\t0.322615\n",
      "  validation accuracy:\t\t85.04 %\n",
      "  validation roc auc:\t\t0.917657\n",
      "  validation r roc auc:\t\t0.909967\n",
      "Epoch 36 of 1000 took 43.623s\n",
      "  training loss:\t\t0.237024\n",
      "  validation loss:\t\t0.318123\n",
      "  validation accuracy:\t\t84.62 %\n",
      "  validation roc auc:\t\t0.914976\n",
      "  validation r roc auc:\t\t0.909882\n",
      "Epoch 37 of 1000 took 43.593s\n",
      "  training loss:\t\t0.231122\n",
      "  validation loss:\t\t0.343067\n",
      "  validation accuracy:\t\t84.42 %\n",
      "  validation roc auc:\t\t0.925702\n",
      "  validation r roc auc:\t\t0.918207\n",
      "Epoch 38 of 1000 took 43.615s\n",
      "  training loss:\t\t0.220977\n",
      "  validation loss:\t\t0.275459\n",
      "  validation accuracy:\t\t88.34 %\n",
      "  validation roc auc:\t\t0.934351\n",
      "  validation r roc auc:\t\t0.925121\n",
      "Epoch 39 of 1000 took 43.848s\n",
      "  training loss:\t\t0.210390\n",
      "  validation loss:\t\t0.324813\n",
      "  validation accuracy:\t\t85.55 %\n",
      "  validation roc auc:\t\t0.928927\n",
      "  validation r roc auc:\t\t0.922141\n",
      "Epoch 40 of 1000 took 43.658s\n",
      "  training loss:\t\t0.206777\n",
      "  validation loss:\t\t0.360955\n",
      "  validation accuracy:\t\t82.97 %\n",
      "  validation roc auc:\t\t0.925952\n",
      "  validation r roc auc:\t\t0.920387\n",
      "Epoch 41 of 1000 took 43.655s\n",
      "  training loss:\t\t0.197467\n",
      "  validation loss:\t\t0.298626\n",
      "  validation accuracy:\t\t86.58 %\n",
      "  validation roc auc:\t\t0.932891\n",
      "  validation r roc auc:\t\t0.926581\n",
      "Epoch 42 of 1000 took 43.653s\n",
      "  training loss:\t\t0.194926\n",
      "  validation loss:\t\t0.293589\n",
      "  validation accuracy:\t\t87.31 %\n",
      "  validation roc auc:\t\t0.927070\n",
      "  validation r roc auc:\t\t0.915727\n",
      "Epoch 43 of 1000 took 43.709s\n",
      "  training loss:\t\t0.191710\n",
      "  validation loss:\t\t0.306004\n",
      "  validation accuracy:\t\t85.55 %\n",
      "  validation roc auc:\t\t0.931174\n",
      "  validation r roc auc:\t\t0.921548\n",
      "Epoch 44 of 1000 took 43.817s\n",
      "  training loss:\t\t0.187589\n",
      "  validation loss:\t\t0.302243\n",
      "  validation accuracy:\t\t86.89 %\n",
      "  validation roc auc:\t\t0.933819\n",
      "  validation r roc auc:\t\t0.924498\n",
      "Epoch 45 of 1000 took 43.637s\n",
      "  training loss:\t\t0.178114\n",
      "  validation loss:\t\t0.292054\n",
      "  validation accuracy:\t\t87.00 %\n",
      "  validation roc auc:\t\t0.933330\n",
      "  validation r roc auc:\t\t0.924407\n",
      "Epoch 46 of 1000 took 43.586s\n",
      "  training loss:\t\t0.167381\n",
      "  validation loss:\t\t0.357692\n",
      "  validation accuracy:\t\t84.31 %\n",
      "  validation roc auc:\t\t0.924266\n",
      "  validation r roc auc:\t\t0.913375\n",
      "Epoch 47 of 1000 took 43.633s\n",
      "  training loss:\t\t0.165235\n",
      "  validation loss:\t\t0.339804\n",
      "  validation accuracy:\t\t84.42 %\n",
      "  validation roc auc:\t\t0.928988\n",
      "  validation r roc auc:\t\t0.921469\n",
      "Epoch 48 of 1000 took 43.556s\n",
      "  training loss:\t\t0.162431\n",
      "  validation loss:\t\t0.302422\n",
      "  validation accuracy:\t\t88.44 %\n",
      "  validation roc auc:\t\t0.931999\n",
      "  validation r roc auc:\t\t0.921316\n",
      "Epoch 49 of 1000 took 43.638s\n",
      "  training loss:\t\t0.146916\n",
      "  validation loss:\t\t0.352863\n",
      "  validation accuracy:\t\t83.90 %\n",
      "  validation roc auc:\t\t0.925262\n",
      "  validation r roc auc:\t\t0.918256\n",
      "Epoch 50 of 1000 took 43.634s\n",
      "  training loss:\t\t0.138929\n",
      "  validation loss:\t\t0.331300\n",
      "  validation accuracy:\t\t87.10 %\n",
      "  validation roc auc:\t\t0.927174\n",
      "  validation r roc auc:\t\t0.917407\n",
      "Epoch 51 of 1000 took 43.634s\n",
      "  training loss:\t\t0.149724\n",
      "  validation loss:\t\t0.334241\n",
      "  validation accuracy:\t\t85.86 %\n",
      "  validation roc auc:\t\t0.931376\n",
      "  validation r roc auc:\t\t0.919716\n",
      "Epoch 52 of 1000 took 43.801s\n",
      "  training loss:\t\t0.138660\n",
      "  validation loss:\t\t0.341669\n",
      "  validation accuracy:\t\t85.45 %\n",
      "  validation roc auc:\t\t0.931303\n",
      "  validation r roc auc:\t\t0.921072\n",
      "Epoch 53 of 1000 took 43.598s\n",
      "  training loss:\t\t0.133473\n",
      "  validation loss:\t\t0.362791\n",
      "  validation accuracy:\t\t84.93 %\n",
      "  validation roc auc:\t\t0.926709\n",
      "  validation r roc auc:\t\t0.919038\n",
      "Epoch 54 of 1000 took 43.598s\n",
      "  training loss:\t\t0.116091\n",
      "  validation loss:\t\t0.343438\n",
      "  validation accuracy:\t\t85.96 %\n",
      "  validation roc auc:\t\t0.927366\n",
      "  validation r roc auc:\t\t0.916802\n",
      "Epoch 55 of 1000 took 43.653s\n",
      "  training loss:\t\t0.126746\n",
      "  validation loss:\t\t0.342630\n",
      "  validation accuracy:\t\t86.89 %\n",
      "  validation roc auc:\t\t0.928334\n",
      "  validation r roc auc:\t\t0.921927\n"
     ]
    },
    {
     "ename": "KeyboardInterrupt",
     "evalue": "",
     "output_type": "error",
     "traceback": [
      "\u001b[1;31m---------------------------------------------------------------------------\u001b[0m",
      "\u001b[1;31mKeyboardInterrupt\u001b[0m                         Traceback (most recent call last)",
      "\u001b[1;32m<ipython-input-22-22bbb1c1baca>\u001b[0m in \u001b[0;36m<module>\u001b[1;34m()\u001b[0m\n\u001b[0;32m     12\u001b[0m     \u001b[1;32mfor\u001b[0m \u001b[0mbatch\u001b[0m \u001b[1;32min\u001b[0m \u001b[0miterate_minibatches\u001b[0m\u001b[1;33m(\u001b[0m\u001b[0mX_train\u001b[0m\u001b[1;33m,\u001b[0m \u001b[0my_train\u001b[0m\u001b[1;33m,\u001b[0m \u001b[0mbatchsize\u001b[0m\u001b[1;33m,\u001b[0m \u001b[0mshuffle\u001b[0m\u001b[1;33m=\u001b[0m\u001b[0mTrue\u001b[0m\u001b[1;33m)\u001b[0m\u001b[1;33m:\u001b[0m\u001b[1;33m\u001b[0m\u001b[0m\n\u001b[0;32m     13\u001b[0m         \u001b[0minputs\u001b[0m\u001b[1;33m,\u001b[0m \u001b[0mtargets\u001b[0m \u001b[1;33m=\u001b[0m \u001b[0mbatch\u001b[0m\u001b[1;33m\u001b[0m\u001b[0m\n\u001b[1;32m---> 14\u001b[1;33m         \u001b[0mtrain_err\u001b[0m \u001b[1;33m+=\u001b[0m \u001b[0mtrain_fn\u001b[0m\u001b[1;33m(\u001b[0m\u001b[0minputs\u001b[0m\u001b[1;33m,\u001b[0m \u001b[0mtargets\u001b[0m\u001b[1;33m)\u001b[0m\u001b[1;33m\u001b[0m\u001b[0m\n\u001b[0m\u001b[0;32m     15\u001b[0m         \u001b[0mtrain_batches\u001b[0m \u001b[1;33m+=\u001b[0m \u001b[1;36m1\u001b[0m\u001b[1;33m\u001b[0m\u001b[0m\n\u001b[0;32m     16\u001b[0m \u001b[1;33m\u001b[0m\u001b[0m\n",
      "\u001b[1;32m/home/libfun/.virtualenvs/main/local/lib/python2.7/site-packages/theano/compile/function_module.pyc\u001b[0m in \u001b[0;36m__call__\u001b[1;34m(self, *args, **kwargs)\u001b[0m\n\u001b[0;32m    857\u001b[0m         \u001b[0mt0_fn\u001b[0m \u001b[1;33m=\u001b[0m \u001b[0mtime\u001b[0m\u001b[1;33m.\u001b[0m\u001b[0mtime\u001b[0m\u001b[1;33m(\u001b[0m\u001b[1;33m)\u001b[0m\u001b[1;33m\u001b[0m\u001b[0m\n\u001b[0;32m    858\u001b[0m         \u001b[1;32mtry\u001b[0m\u001b[1;33m:\u001b[0m\u001b[1;33m\u001b[0m\u001b[0m\n\u001b[1;32m--> 859\u001b[1;33m             \u001b[0moutputs\u001b[0m \u001b[1;33m=\u001b[0m \u001b[0mself\u001b[0m\u001b[1;33m.\u001b[0m\u001b[0mfn\u001b[0m\u001b[1;33m(\u001b[0m\u001b[1;33m)\u001b[0m\u001b[1;33m\u001b[0m\u001b[0m\n\u001b[0m\u001b[0;32m    860\u001b[0m         \u001b[1;32mexcept\u001b[0m \u001b[0mException\u001b[0m\u001b[1;33m:\u001b[0m\u001b[1;33m\u001b[0m\u001b[0m\n\u001b[0;32m    861\u001b[0m             \u001b[1;32mif\u001b[0m \u001b[0mhasattr\u001b[0m\u001b[1;33m(\u001b[0m\u001b[0mself\u001b[0m\u001b[1;33m.\u001b[0m\u001b[0mfn\u001b[0m\u001b[1;33m,\u001b[0m \u001b[1;34m'position_of_error'\u001b[0m\u001b[1;33m)\u001b[0m\u001b[1;33m:\u001b[0m\u001b[1;33m\u001b[0m\u001b[0m\n",
      "\u001b[1;31mKeyboardInterrupt\u001b[0m: "
     ]
    }
   ],
   "source": [
    "num_epochs = 1000\n",
    "batchsize = 30\n",
    "\n",
    "# Finally, launch the training loop.\n",
    "print(\"Starting training...\")\n",
    "# We iterate over epochs:\n",
    "for epoch in range(num_epochs):\n",
    "    # In each epoch, we do a full pass over the training data:\n",
    "    train_err = 0\n",
    "    train_batches = 0\n",
    "    start_time = time.time()\n",
    "    for batch in iterate_minibatches(X_train, y_train, batchsize, shuffle=True):\n",
    "        inputs, targets = batch\n",
    "        train_err += train_fn(inputs, targets)\n",
    "        train_batches += 1\n",
    "\n",
    "    # And a full pass over the validation data:\n",
    "    val_err = 0\n",
    "    val_acc = 0\n",
    "    val_batches = 0\n",
    "    val_predl = []\n",
    "    val_predr = []\n",
    "    for batch in iterate_minibatches(X_val, y_val, 1, shuffle=False):\n",
    "        inputs, targets = batch\n",
    "        err, acc = val_fn(inputs, targets)\n",
    "        vals = test_fn(inputs)[:,1]\n",
    "        vals2 = test_fn(inputs[:,:,::-1].reshape((1,3,200,200)))[:,1]\n",
    "        val_predl.append(vals)\n",
    "        val_predr.append((vals + vals2)/2.0)\n",
    "        val_err += err\n",
    "        val_acc += acc\n",
    "        val_batches += 1\n",
    "\n",
    "    # Then we print the results for this epoch:\n",
    "    print(\"Epoch {} of {} took {:.3f}s\".format(\n",
    "        epoch + 1, num_epochs, time.time() - start_time))\n",
    "    print(\"  training loss:\\t\\t{:.6f}\".format(train_err / train_batches))\n",
    "    print(\"  validation loss:\\t\\t{:.6f}\".format(val_err / val_batches))\n",
    "    print(\"  validation accuracy:\\t\\t{:.2f} %\".format(\n",
    "        val_acc / val_batches * 100))\n",
    "    print(\"  validation roc auc:\\t\\t{:.6f}\".format(roc_auc_score(y_val, val_predl)))\n",
    "    print(\"  validation r roc auc:\\t\\t{:.6f}\".format(roc_auc_score(y_val, val_predr)))"
   ]
  },
  {
   "cell_type": "code",
   "execution_count": 17,
   "metadata": {
    "collapsed": true
   },
   "outputs": [],
   "source": [
    "X_train = data\n",
    "y_train = labels.genus.values.astype('int32')"
   ]
  },
  {
   "cell_type": "code",
   "execution_count": 18,
   "metadata": {
    "collapsed": true
   },
   "outputs": [],
   "source": [
    "X_train = np.concatenate((X_train, add_rev(X_train)))"
   ]
  },
  {
   "cell_type": "code",
   "execution_count": 19,
   "metadata": {
    "collapsed": true
   },
   "outputs": [],
   "source": [
    "y_train = np.concatenate((y_train, y_train))"
   ]
  },
  {
   "cell_type": "code",
   "execution_count": 20,
   "metadata": {
    "collapsed": false
   },
   "outputs": [],
   "source": [
    "tst = pd.read_csv('./SubmissionFormat.csv')"
   ]
  },
  {
   "cell_type": "code",
   "execution_count": 21,
   "metadata": {
    "collapsed": true
   },
   "outputs": [],
   "source": [
    "test_data = np.zeros((992, 3, 200, 200), dtype='float32')"
   ]
  },
  {
   "cell_type": "code",
   "execution_count": 22,
   "metadata": {
    "collapsed": false
   },
   "outputs": [],
   "source": [
    "k = 0\n",
    "for i in tst.id.values:\n",
    "    with open('./bee_images/test/'+str(i)+'.jpg', 'r') as f:\n",
    "        img = mpimg.imread(f, format='jpg')\n",
    "        img2 = np.zeros((3,200,200))\n",
    "        for j in range(3):\n",
    "            img2[j,:,:] = img[:,:,j] / np.float(256)\n",
    "        test_data[k] = img2.copy()\n",
    "    k += 1"
   ]
  },
  {
   "cell_type": "code",
   "execution_count": 23,
   "metadata": {
    "collapsed": false,
    "scrolled": true
   },
   "outputs": [
    {
     "name": "stdout",
     "output_type": "stream",
     "text": [
      "Starting training...\n",
      "Epoch 1 of 40 took 48.697s\n",
      "  training loss:\t\t0.544873\n",
      "Epoch 2 of 40 took 47.364s\n",
      "  training loss:\t\t0.520491\n",
      "Epoch 3 of 40 took 47.226s\n",
      "  training loss:\t\t0.508478\n",
      "Epoch 4 of 40 took 47.280s\n",
      "  training loss:\t\t0.478957\n",
      "Epoch 5 of 40 took 47.319s\n",
      "  training loss:\t\t0.446721\n",
      "Epoch 6 of 40 took 47.339s\n",
      "  training loss:\t\t0.411814\n",
      "Epoch 7 of 40 took 47.276s\n",
      "  training loss:\t\t0.400601\n",
      "Epoch 8 of 40 took 47.342s\n",
      "  training loss:\t\t0.385118\n",
      "Epoch 9 of 40 took 47.259s\n",
      "  training loss:\t\t0.378498\n",
      "Epoch 10 of 40 took 47.247s\n",
      "  training loss:\t\t0.372862\n",
      "Epoch 11 of 40 took 47.350s\n",
      "  training loss:\t\t0.362814\n",
      "Epoch 12 of 40 took 47.247s\n",
      "  training loss:\t\t0.354730\n",
      "Epoch 13 of 40 took 47.361s\n",
      "  training loss:\t\t0.348111\n",
      "Epoch 14 of 40 took 47.279s\n",
      "  training loss:\t\t0.342826\n",
      "Epoch 15 of 40 took 47.223s\n",
      "  training loss:\t\t0.336305\n",
      "Epoch 16 of 40 took 47.184s\n",
      "  training loss:\t\t0.338756\n",
      "Epoch 17 of 40 took 47.272s\n",
      "  training loss:\t\t0.320138\n",
      "Epoch 18 of 40 took 47.249s\n",
      "  training loss:\t\t0.316802\n",
      "Epoch 19 of 40 took 47.297s\n",
      "  training loss:\t\t0.313506\n",
      "Epoch 20 of 40 took 47.225s\n",
      "  training loss:\t\t0.308930\n",
      "Epoch 21 of 40 took 47.271s\n",
      "  training loss:\t\t0.308996\n",
      "Epoch 22 of 40 took 47.232s\n",
      "  training loss:\t\t0.297266\n",
      "Epoch 23 of 40 took 47.268s\n",
      "  training loss:\t\t0.288446\n",
      "Epoch 24 of 40 took 47.307s\n",
      "  training loss:\t\t0.288242\n",
      "Epoch 25 of 40 took 47.337s\n",
      "  training loss:\t\t0.277918\n",
      "Epoch 26 of 40 took 47.237s\n",
      "  training loss:\t\t0.282594\n",
      "Epoch 27 of 40 took 47.260s\n",
      "  training loss:\t\t0.272322\n",
      "Epoch 28 of 40 took 47.206s\n",
      "  training loss:\t\t0.266570\n",
      "Epoch 29 of 40 took 47.294s\n",
      "  training loss:\t\t0.265911\n",
      "Epoch 30 of 40 took 47.265s\n",
      "  training loss:\t\t0.261222\n",
      "Epoch 31 of 40 took 47.341s\n",
      "  training loss:\t\t0.250408\n",
      "Epoch 32 of 40 took 47.285s\n",
      "  training loss:\t\t0.254086\n",
      "Epoch 33 of 40 took 47.266s\n",
      "  training loss:\t\t0.244877\n",
      "Epoch 34 of 40 took 47.277s\n",
      "  training loss:\t\t0.244903\n",
      "Epoch 35 of 40 took 47.286s\n",
      "  training loss:\t\t0.237106\n",
      "Epoch 36 of 40 took 47.346s\n",
      "  training loss:\t\t0.227623\n",
      "Epoch 37 of 40 took 47.293s\n",
      "  training loss:\t\t0.223784\n",
      "Epoch 38 of 40 took 47.305s\n",
      "  training loss:\t\t0.223447\n",
      "Epoch 39 of 40 took 47.320s\n",
      "  training loss:\t\t0.221236\n",
      "Epoch 40 of 40 took 47.329s\n",
      "  training loss:\t\t0.213273\n"
     ]
    }
   ],
   "source": [
    "num_epochs = 40\n",
    "\n",
    "# Finally, launch the training loop.\n",
    "print(\"Starting training...\")\n",
    "# We iterate over epochs:\n",
    "for epoch in range(num_epochs):\n",
    "    # In each epoch, we do a full pass over the training data:\n",
    "    train_err = 0\n",
    "    train_batches = 0\n",
    "    start_time = time.time()\n",
    "    for batch in iterate_minibatches(X_train, y_train, 30, shuffle=True):\n",
    "        inputs, targets = batch\n",
    "        train_err += train_fn(inputs, targets)\n",
    "        train_batches += 1\n",
    "\n",
    "    # Then we print the results for this epoch:\n",
    "    print(\"Epoch {} of {} took {:.3f}s\".format(\n",
    "        epoch + 1, num_epochs, time.time() - start_time))\n",
    "    print(\"  training loss:\\t\\t{:.6f}\".format(train_err / train_batches))"
   ]
  },
  {
   "cell_type": "code",
   "execution_count": 24,
   "metadata": {
    "collapsed": true
   },
   "outputs": [],
   "source": [
    "def iterate_testbatches(inputs, batchsize, shuffle=False):\n",
    "    assert len(inputs)\n",
    "    for start_idx in range(0, len(inputs) - batchsize + 1, batchsize):\n",
    "        if shuffle:\n",
    "            excerpt = indices[start_idx:start_idx + batchsize]\n",
    "        else:\n",
    "            excerpt = slice(start_idx, start_idx + batchsize)\n",
    "        yield inputs[excerpt]"
   ]
  },
  {
   "cell_type": "code",
   "execution_count": 24,
   "metadata": {
    "collapsed": false
   },
   "outputs": [],
   "source": [
    "ans = []\n",
    "ansl = []\n",
    "for t in test_data:\n",
    "    vals = test_fn(t.reshape((1,3,200,200)))\n",
    "    vals2 = test_fn(t[:,:,::-1].reshape((1,3,200,200)))\n",
    "    ans.append((vals[:,1] + vals2[:,1])/2.0)\n",
    "    ansl.append(vals[:,1])"
   ]
  },
  {
   "cell_type": "code",
   "execution_count": 25,
   "metadata": {
    "collapsed": false,
    "scrolled": true
   },
   "outputs": [],
   "source": [
    "res = np.array(ans).reshape(992)\n",
    "resl = np.array(ansl).reshape(992)"
   ]
  },
  {
   "cell_type": "code",
   "execution_count": 26,
   "metadata": {
    "collapsed": false
   },
   "outputs": [],
   "source": [
    "tst.genus = res.copy()"
   ]
  },
  {
   "cell_type": "code",
   "execution_count": 27,
   "metadata": {
    "collapsed": false
   },
   "outputs": [],
   "source": [
    "tst.to_csv('./sixth.csv', index = False)"
   ]
  },
  {
   "cell_type": "code",
   "execution_count": 28,
   "metadata": {
    "collapsed": true
   },
   "outputs": [],
   "source": [
    "tst.genus = resl.copy()"
   ]
  },
  {
   "cell_type": "code",
   "execution_count": 29,
   "metadata": {
    "collapsed": true
   },
   "outputs": [],
   "source": [
    "tst.to_csv('./sixth-l.csv', index = False)"
   ]
  },
  {
   "cell_type": "code",
   "execution_count": 30,
   "metadata": {
    "collapsed": true
   },
   "outputs": [],
   "source": [
    "import nolearn"
   ]
  },
  {
   "cell_type": "code",
   "execution_count": 39,
   "metadata": {
    "collapsed": true
   },
   "outputs": [],
   "source": [
    "from nolearn.lasagne.visualize import plot_conv_activity, plot_conv_weights, plot_occlusion"
   ]
  },
  {
   "cell_type": "code",
   "execution_count": null,
   "metadata": {
    "collapsed": false
   },
   "outputs": [],
   "source": [
    "plot_conv_weights(net['conv1'])"
   ]
  },
  {
   "cell_type": "code",
   "execution_count": null,
   "metadata": {
    "collapsed": false,
    "scrolled": false
   },
   "outputs": [],
   "source": [
    "plot_conv_activity(net['conv1'], X_train[0].reshape((1,3,200,200)), figsize = (30, 40))\n",
    "plt.savefig('bee0.png')"
   ]
  },
  {
   "cell_type": "code",
   "execution_count": null,
   "metadata": {
    "collapsed": false
   },
   "outputs": [],
   "source": [
    "plot_conv_activity(net['conv1'], X_train[3969].reshape((1,3,200,200)), figsize = (30, 40))\n",
    "plt.savefig('bee3969.png')"
   ]
  },
  {
   "cell_type": "code",
   "execution_count": null,
   "metadata": {
    "collapsed": true
   },
   "outputs": [],
   "source": []
  }
 ],
 "metadata": {
  "kernelspec": {
   "display_name": "Python 2",
   "language": "python",
   "name": "python2"
  },
  "language_info": {
   "codemirror_mode": {
    "name": "ipython",
    "version": 2
   },
   "file_extension": ".py",
   "mimetype": "text/x-python",
   "name": "python",
   "nbconvert_exporter": "python",
   "pygments_lexer": "ipython2",
   "version": "2.7.6"
  }
 },
 "nbformat": 4,
 "nbformat_minor": 0
}
