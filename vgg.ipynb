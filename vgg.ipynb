{
 "cells": [
  {
   "cell_type": "code",
   "execution_count": 1,
   "metadata": {
    "collapsed": true
   },
   "outputs": [],
   "source": [
    "import numpy as np\n",
    "import pandas as pd\n",
    "import matplotlib.pyplot as plt\n",
    "%matplotlib inline"
   ]
  },
  {
   "cell_type": "code",
   "execution_count": 2,
   "metadata": {
    "collapsed": false
   },
   "outputs": [
    {
     "name": "stderr",
     "output_type": "stream",
     "text": [
      "Using gpu device 0: GeForce GTX 670 (CNMeM is disabled)\n"
     ]
    }
   ],
   "source": [
    "import lasagne\n",
    "from lasagne.layers import InputLayer, DenseLayer, DropoutLayer\n",
    "from lasagne.layers.dnn import Conv2DDNNLayer as ConvLayer\n",
    "from lasagne.layers.dnn import MaxPool2DDNNLayer as PoolLayer\n",
    "from lasagne.layers import LocalResponseNormalization2DLayer as NormLayer\n",
    "from lasagne.utils import floatX"
   ]
  },
  {
   "cell_type": "code",
   "execution_count": 3,
   "metadata": {
    "collapsed": false
   },
   "outputs": [],
   "source": [
    "import theano.tensor as T"
   ]
  },
  {
   "cell_type": "code",
   "execution_count": 4,
   "metadata": {
    "collapsed": false
   },
   "outputs": [],
   "source": [
    "input_var = T.tensor4('inputs')\n",
    "target_var = T.ivector('targets')"
   ]
  },
  {
   "cell_type": "code",
   "execution_count": 5,
   "metadata": {
    "collapsed": false
   },
   "outputs": [],
   "source": [
    "net = {}\n",
    "net['input'] = InputLayer((None, 3, 200, 200),input_var=input_var)\n",
    "net['conv1'] = ConvLayer(net['input'], num_filters=32, filter_size=5, stride=1,\n",
    "                        nonlinearity = lasagne.nonlinearities.rectify)\n",
    "#net['norm1'] = NormLayer(net['conv1'], alpha=0.0001) # caffe has alpha = alpha * pool_size\n",
    "net['pool1'] = PoolLayer(net['conv1'], pool_size=5, stride=5)\n",
    "net['conv2'] = ConvLayer(net['pool1'], num_filters=32, filter_size=5,\n",
    "                        nonlinearity = lasagne.nonlinearities.rectify)\n",
    "net['pool2'] = PoolLayer(net['conv2'], pool_size=5, stride=5)\n",
    "#net['conv3'] = ConvLayer(net['pool2'], num_filters=128, filter_size=3, pad=1)\n",
    "#net['conv4'] = ConvLayer(net['conv3'], num_filters=128, filter_size=3, pad=1)\n",
    "#net['conv5'] = ConvLayer(net['conv4'], num_filters=128, filter_size=3, pad=1)\n",
    "#net['pool5'] = PoolLayer(net['conv5'], pool_size=3, stride=3, ignore_border=False)\n",
    "net['fc6'] = DenseLayer(net['pool2'], num_units=512,\n",
    "                        nonlinearity = lasagne.nonlinearities.rectify)\n",
    "net['drop6'] = DropoutLayer(net['fc6'], p=0.5)\n",
    "net['fc7'] = DenseLayer(net['drop6'], num_units=128,\n",
    "                        nonlinearity = lasagne.nonlinearities.rectify)\n",
    "net['drop7'] = DropoutLayer(net['fc7'], p=0.5)\n",
    "net['fc8'] = DenseLayer(net['drop7'], num_units=32,\n",
    "                        nonlinearity = lasagne.nonlinearities.rectify)\n",
    "net['drop8'] = DropoutLayer(net['fc8'], p=0.5)\n",
    "net['fc9'] = DenseLayer(net['drop8'], num_units=2, nonlinearity=lasagne.nonlinearities.softmax)\n",
    "output_layer = net['fc9']"
   ]
  },
  {
   "cell_type": "code",
   "execution_count": 6,
   "metadata": {
    "collapsed": true
   },
   "outputs": [],
   "source": [
    "import matplotlib.image as mpimg"
   ]
  },
  {
   "cell_type": "code",
   "execution_count": 7,
   "metadata": {
    "collapsed": false
   },
   "outputs": [],
   "source": [
    "labels =  pd.read_csv('./b37d3960-6909-472b-9ce1-c33b07dbdb66.csv', index_col='id')"
   ]
  },
  {
   "cell_type": "code",
   "execution_count": 8,
   "metadata": {
    "collapsed": false
   },
   "outputs": [],
   "source": [
    "labels = labels.sort_index()"
   ]
  },
  {
   "cell_type": "code",
   "execution_count": 9,
   "metadata": {
    "collapsed": true
   },
   "outputs": [],
   "source": [
    "data = np.zeros((3969, 3, 200, 200), dtype='float32')"
   ]
  },
  {
   "cell_type": "code",
   "execution_count": 10,
   "metadata": {
    "collapsed": false
   },
   "outputs": [
    {
     "data": {
      "text/plain": [
       "Int64Index([   1,    2,    3,    4,    5,    6,    8,    9,   12,   14,\n",
       "            ...\n",
       "            4947, 4949, 4950, 4951, 4952, 4953, 4957, 4958, 4959, 4960],\n",
       "           dtype='int64', name=u'id', length=3969)"
      ]
     },
     "execution_count": 10,
     "metadata": {},
     "output_type": "execute_result"
    }
   ],
   "source": [
    "labels.index"
   ]
  },
  {
   "cell_type": "code",
   "execution_count": 11,
   "metadata": {
    "collapsed": false
   },
   "outputs": [],
   "source": [
    "k = 0\n",
    "for i in labels.index:\n",
    "    with open('./bee_images/train/'+str(i)+'.jpg', 'r') as f:\n",
    "        img = mpimg.imread(f, format='jpg')\n",
    "        img2 = np.zeros((3,200,200))\n",
    "        for j in range(3):\n",
    "            img2[j,:,:] = img[:,:,j] / np.float(256)\n",
    "        data[k] = img2.copy()\n",
    "    k += 1"
   ]
  },
  {
   "cell_type": "code",
   "execution_count": 12,
   "metadata": {
    "collapsed": true
   },
   "outputs": [],
   "source": [
    "def add_rev(data):\n",
    "    dnew = np.zeros(data.shape, dtype='float32')\n",
    "    k = 0\n",
    "    for im in data:\n",
    "        dnew[k] = im[:,:,::-1]\n",
    "    return dnew\n",
    "\n",
    "def add_ud(data):\n",
    "    dnew = np.zeros(data.shape, dtype='float32')\n",
    "    k = 0\n",
    "    for im in data:\n",
    "        dnew[k] = im[:,::-1,:]\n",
    "    return dnew\n",
    "\n",
    "def add_rud(data):\n",
    "    dnew = np.zeros(data.shape, dtype='float32')\n",
    "    k = 0\n",
    "    for im in data:\n",
    "        dnew[k] = im[:,::-1,::-1]\n",
    "    return dnew"
   ]
  },
  {
   "cell_type": "code",
   "execution_count": 13,
   "metadata": {
    "collapsed": false
   },
   "outputs": [],
   "source": [
    "X_train, X_val = data[:3000], data[3000:]"
   ]
  },
  {
   "cell_type": "code",
   "execution_count": 14,
   "metadata": {
    "collapsed": true
   },
   "outputs": [],
   "source": [
    "X_train = np.concatenate((X_train, add_rev(X_train)))"
   ]
  },
  {
   "cell_type": "code",
   "execution_count": 14,
   "metadata": {
    "collapsed": false
   },
   "outputs": [],
   "source": [
    "y_train, y_val = labels.genus.values[:3000].astype('int32'), labels.genus.values[3000:].astype('int32')"
   ]
  },
  {
   "cell_type": "code",
   "execution_count": 16,
   "metadata": {
    "collapsed": true
   },
   "outputs": [],
   "source": [
    "y_train = np.concatenate((y_train, y_train))"
   ]
  },
  {
   "cell_type": "code",
   "execution_count": 15,
   "metadata": {
    "collapsed": true
   },
   "outputs": [],
   "source": [
    "def iterate_minibatches(inputs, targets, batchsize, shuffle=False):\n",
    "    assert len(inputs) == len(targets)\n",
    "    if shuffle:\n",
    "        indices = np.arange(len(inputs))\n",
    "        np.random.shuffle(indices)\n",
    "    for start_idx in range(0, len(inputs) - batchsize + 1, batchsize):\n",
    "        if shuffle:\n",
    "            excerpt = indices[start_idx:start_idx + batchsize]\n",
    "        else:\n",
    "            excerpt = slice(start_idx, start_idx + batchsize)\n",
    "        yield inputs[excerpt], targets[excerpt]"
   ]
  },
  {
   "cell_type": "code",
   "execution_count": 16,
   "metadata": {
    "collapsed": true
   },
   "outputs": [],
   "source": [
    "import theano"
   ]
  },
  {
   "cell_type": "code",
   "execution_count": 17,
   "metadata": {
    "collapsed": false
   },
   "outputs": [],
   "source": [
    "prediction = lasagne.layers.get_output(output_layer)\n",
    "loss = lasagne.objectives.categorical_crossentropy(prediction, target_var)\n",
    "loss = loss.mean()\n",
    "# We could add some weight decay as well here, see lasagne.regularization.\n",
    "\n",
    "# Create update expressions for training, i.e., how to modify the\n",
    "# parameters at each training step. Here, we'll use Stochastic Gradient\n",
    "# Descent (SGD) with Nesterov momentum, but Lasagne offers plenty more.\n",
    "params = lasagne.layers.get_all_params(output_layer, trainable=True)\n",
    "updates = lasagne.updates.nesterov_momentum(\n",
    "        loss, params, learning_rate=0.002, momentum=0.9)\n",
    "\n",
    "# Create a loss expression for validation/testing. The crucial difference\n",
    "# here is that we do a deterministic forward pass through the network,\n",
    "# disabling dropout layers.\n",
    "test_prediction = lasagne.layers.get_output(output_layer, deterministic=True)\n",
    "test_loss = lasagne.objectives.categorical_crossentropy(test_prediction,\n",
    "                                                        target_var)\n",
    "test_loss = test_loss.mean()\n",
    "# As a bonus, also create an expression for the classification accuracy:\n",
    "test_acc = T.mean(T.eq(T.argmax(test_prediction, axis=1), target_var),\n",
    "                  dtype=theano.config.floatX)\n",
    "\n",
    "\n",
    "# Compile a function performing a training step on a mini-batch (by giving\n",
    "# the updates dictionary) and returning the corresponding training loss:\n",
    "train_fn = theano.function([input_var, target_var], loss, updates=updates)\n",
    "\n",
    "# Compile a second function computing the validation loss and accuracy:\n",
    "val_fn = theano.function([input_var, target_var], [test_loss, test_acc])\n",
    "\n",
    "test_fn = theano.function([input_var], test_prediction)"
   ]
  },
  {
   "cell_type": "code",
   "execution_count": 18,
   "metadata": {
    "collapsed": true
   },
   "outputs": [],
   "source": [
    "import time"
   ]
  },
  {
   "cell_type": "code",
   "execution_count": 19,
   "metadata": {
    "collapsed": false,
    "scrolled": true
   },
   "outputs": [
    {
     "name": "stdout",
     "output_type": "stream",
     "text": [
      "Starting training...\n",
      "Epoch 1 of 1000 took 8.249s\n",
      "  training loss:\t\t0.570483\n",
      "  validation loss:\t\t0.537174\n",
      "  validation accuracy:\t\t77.50 %\n",
      "Epoch 2 of 1000 took 8.139s\n",
      "  training loss:\t\t0.535173\n",
      "  validation loss:\t\t0.534002\n",
      "  validation accuracy:\t\t77.50 %\n",
      "Epoch 3 of 1000 took 8.119s\n",
      "  training loss:\t\t0.526002\n",
      "  validation loss:\t\t0.531745\n",
      "  validation accuracy:\t\t77.50 %\n",
      "Epoch 4 of 1000 took 8.110s\n",
      "  training loss:\t\t0.517999\n",
      "  validation loss:\t\t0.532646\n",
      "  validation accuracy:\t\t77.50 %\n",
      "Epoch 5 of 1000 took 8.084s\n",
      "  training loss:\t\t0.514422\n",
      "  validation loss:\t\t0.529513\n",
      "  validation accuracy:\t\t77.50 %\n",
      "Epoch 6 of 1000 took 8.301s\n",
      "  training loss:\t\t0.505990\n",
      "  validation loss:\t\t0.528603\n",
      "  validation accuracy:\t\t77.50 %\n",
      "Epoch 7 of 1000 took 8.180s\n",
      "  training loss:\t\t0.508971\n",
      "  validation loss:\t\t0.529877\n",
      "  validation accuracy:\t\t77.50 %\n",
      "Epoch 8 of 1000 took 8.156s\n",
      "  training loss:\t\t0.506556\n",
      "  validation loss:\t\t0.526723\n",
      "  validation accuracy:\t\t77.50 %\n",
      "Epoch 9 of 1000 took 8.137s\n",
      "  training loss:\t\t0.502065\n",
      "  validation loss:\t\t0.524930\n",
      "  validation accuracy:\t\t77.50 %\n",
      "Epoch 10 of 1000 took 8.086s\n",
      "  training loss:\t\t0.501549\n",
      "  validation loss:\t\t0.522732\n",
      "  validation accuracy:\t\t77.50 %\n",
      "Epoch 11 of 1000 took 8.072s\n",
      "  training loss:\t\t0.495789\n",
      "  validation loss:\t\t0.521836\n",
      "  validation accuracy:\t\t77.50 %\n",
      "Epoch 12 of 1000 took 8.069s\n",
      "  training loss:\t\t0.497464\n",
      "  validation loss:\t\t0.517032\n",
      "  validation accuracy:\t\t77.50 %\n",
      "Epoch 13 of 1000 took 8.092s\n",
      "  training loss:\t\t0.492104\n",
      "  validation loss:\t\t0.510613\n",
      "  validation accuracy:\t\t77.50 %\n",
      "Epoch 14 of 1000 took 8.277s\n",
      "  training loss:\t\t0.489761\n",
      "  validation loss:\t\t0.505650\n",
      "  validation accuracy:\t\t77.50 %\n",
      "Epoch 15 of 1000 took 8.173s\n",
      "  training loss:\t\t0.480424\n",
      "  validation loss:\t\t0.499723\n",
      "  validation accuracy:\t\t77.50 %\n",
      "Epoch 16 of 1000 took 8.144s\n",
      "  training loss:\t\t0.475866\n",
      "  validation loss:\t\t0.491275\n",
      "  validation accuracy:\t\t77.50 %\n",
      "Epoch 17 of 1000 took 8.136s\n",
      "  training loss:\t\t0.468245\n",
      "  validation loss:\t\t0.475754\n",
      "  validation accuracy:\t\t77.50 %\n",
      "Epoch 18 of 1000 took 8.110s\n",
      "  training loss:\t\t0.460272\n",
      "  validation loss:\t\t0.461651\n",
      "  validation accuracy:\t\t77.50 %\n",
      "Epoch 19 of 1000 took 8.091s\n",
      "  training loss:\t\t0.457157\n",
      "  validation loss:\t\t0.451830\n",
      "  validation accuracy:\t\t77.50 %\n",
      "Epoch 20 of 1000 took 8.090s\n",
      "  training loss:\t\t0.448517\n",
      "  validation loss:\t\t0.439857\n",
      "  validation accuracy:\t\t77.50 %\n",
      "Epoch 21 of 1000 took 8.296s\n",
      "  training loss:\t\t0.437702\n",
      "  validation loss:\t\t0.427703\n",
      "  validation accuracy:\t\t77.50 %\n",
      "Epoch 22 of 1000 took 8.154s\n",
      "  training loss:\t\t0.428868\n",
      "  validation loss:\t\t0.422472\n",
      "  validation accuracy:\t\t77.61 %\n",
      "Epoch 23 of 1000 took 8.155s\n",
      "  training loss:\t\t0.425017\n",
      "  validation loss:\t\t0.437383\n",
      "  validation accuracy:\t\t77.71 %\n",
      "Epoch 24 of 1000 took 8.381s\n",
      "  training loss:\t\t0.428155\n",
      "  validation loss:\t\t0.425980\n",
      "  validation accuracy:\t\t77.71 %\n",
      "Epoch 25 of 1000 took 8.165s\n",
      "  training loss:\t\t0.417502\n",
      "  validation loss:\t\t0.419143\n",
      "  validation accuracy:\t\t78.12 %\n",
      "Epoch 26 of 1000 took 8.157s\n",
      "  training loss:\t\t0.412908\n",
      "  validation loss:\t\t0.401089\n",
      "  validation accuracy:\t\t78.43 %\n",
      "Epoch 27 of 1000 took 8.132s\n",
      "  training loss:\t\t0.412287\n",
      "  validation loss:\t\t0.397608\n",
      "  validation accuracy:\t\t78.84 %\n",
      "Epoch 28 of 1000 took 8.120s\n",
      "  training loss:\t\t0.411108\n",
      "  validation loss:\t\t0.404151\n",
      "  validation accuracy:\t\t78.43 %\n",
      "Epoch 29 of 1000 took 8.098s\n",
      "  training loss:\t\t0.401687\n",
      "  validation loss:\t\t0.387378\n",
      "  validation accuracy:\t\t79.15 %\n",
      "Epoch 30 of 1000 took 8.093s\n",
      "  training loss:\t\t0.400907\n",
      "  validation loss:\t\t0.385253\n",
      "  validation accuracy:\t\t79.36 %\n",
      "Epoch 31 of 1000 took 8.159s\n",
      "  training loss:\t\t0.398619\n",
      "  validation loss:\t\t0.394658\n",
      "  validation accuracy:\t\t79.98 %\n",
      "Epoch 32 of 1000 took 8.057s\n",
      "  training loss:\t\t0.397741\n",
      "  validation loss:\t\t0.412437\n",
      "  validation accuracy:\t\t79.46 %\n",
      "Epoch 33 of 1000 took 8.045s\n",
      "  training loss:\t\t0.392817\n",
      "  validation loss:\t\t0.385343\n",
      "  validation accuracy:\t\t79.46 %\n",
      "Epoch 34 of 1000 took 8.169s\n",
      "  training loss:\t\t0.382233\n",
      "  validation loss:\t\t0.396120\n",
      "  validation accuracy:\t\t80.60 %\n",
      "Epoch 35 of 1000 took 8.204s\n",
      "  training loss:\t\t0.377443\n",
      "  validation loss:\t\t0.379133\n",
      "  validation accuracy:\t\t81.11 %\n",
      "Epoch 36 of 1000 took 8.124s\n",
      "  training loss:\t\t0.372854\n",
      "  validation loss:\t\t0.358386\n",
      "  validation accuracy:\t\t82.15 %\n",
      "Epoch 37 of 1000 took 8.061s\n",
      "  training loss:\t\t0.377483\n",
      "  validation loss:\t\t0.354320\n",
      "  validation accuracy:\t\t83.49 %\n",
      "Epoch 38 of 1000 took 8.146s\n",
      "  training loss:\t\t0.363791\n",
      "  validation loss:\t\t0.366642\n",
      "  validation accuracy:\t\t83.69 %\n",
      "Epoch 39 of 1000 took 8.188s\n",
      "  training loss:\t\t0.365660\n",
      "  validation loss:\t\t0.365755\n",
      "  validation accuracy:\t\t82.25 %\n",
      "Epoch 40 of 1000 took 8.072s\n",
      "  training loss:\t\t0.364761\n",
      "  validation loss:\t\t0.352098\n",
      "  validation accuracy:\t\t83.49 %\n",
      "Epoch 41 of 1000 took 8.166s\n",
      "  training loss:\t\t0.357229\n",
      "  validation loss:\t\t0.347126\n",
      "  validation accuracy:\t\t84.52 %\n",
      "Epoch 42 of 1000 took 8.148s\n",
      "  training loss:\t\t0.354767\n",
      "  validation loss:\t\t0.344840\n",
      "  validation accuracy:\t\t84.11 %\n",
      "Epoch 43 of 1000 took 8.128s\n",
      "  training loss:\t\t0.344368\n",
      "  validation loss:\t\t0.328218\n",
      "  validation accuracy:\t\t85.35 %\n",
      "Epoch 44 of 1000 took 8.120s\n",
      "  training loss:\t\t0.340783\n",
      "  validation loss:\t\t0.327274\n",
      "  validation accuracy:\t\t85.24 %\n",
      "Epoch 45 of 1000 took 8.107s\n",
      "  training loss:\t\t0.333059\n",
      "  validation loss:\t\t0.332247\n",
      "  validation accuracy:\t\t84.62 %\n",
      "Epoch 46 of 1000 took 8.098s\n",
      "  training loss:\t\t0.336024\n",
      "  validation loss:\t\t0.321219\n",
      "  validation accuracy:\t\t84.83 %\n",
      "Epoch 47 of 1000 took 8.095s\n",
      "  training loss:\t\t0.334034\n",
      "  validation loss:\t\t0.324475\n",
      "  validation accuracy:\t\t85.66 %\n",
      "Epoch 48 of 1000 took 8.167s\n",
      "  training loss:\t\t0.334903\n",
      "  validation loss:\t\t0.325775\n",
      "  validation accuracy:\t\t84.00 %\n",
      "Epoch 49 of 1000 took 8.167s\n",
      "  training loss:\t\t0.320367\n",
      "  validation loss:\t\t0.333804\n",
      "  validation accuracy:\t\t84.31 %\n",
      "Epoch 50 of 1000 took 8.154s\n",
      "  training loss:\t\t0.332283\n",
      "  validation loss:\t\t0.318037\n",
      "  validation accuracy:\t\t85.14 %\n",
      "Epoch 51 of 1000 took 8.148s\n",
      "  training loss:\t\t0.318524\n",
      "  validation loss:\t\t0.312240\n",
      "  validation accuracy:\t\t85.45 %\n",
      "Epoch 52 of 1000 took 8.205s\n",
      "  training loss:\t\t0.302768\n",
      "  validation loss:\t\t0.337735\n",
      "  validation accuracy:\t\t84.73 %\n",
      "Epoch 53 of 1000 took 8.103s\n",
      "  training loss:\t\t0.304138\n",
      "  validation loss:\t\t0.320531\n",
      "  validation accuracy:\t\t84.93 %\n",
      "Epoch 54 of 1000 took 8.098s\n",
      "  training loss:\t\t0.294915\n",
      "  validation loss:\t\t0.311811\n",
      "  validation accuracy:\t\t85.45 %\n",
      "Epoch 55 of 1000 took 8.076s\n",
      "  training loss:\t\t0.295846\n",
      "  validation loss:\t\t0.306168\n",
      "  validation accuracy:\t\t85.55 %\n",
      "Epoch 56 of 1000 took 8.069s\n",
      "  training loss:\t\t0.291726\n",
      "  validation loss:\t\t0.313239\n",
      "  validation accuracy:\t\t84.93 %\n",
      "Epoch 57 of 1000 took 8.248s\n",
      "  training loss:\t\t0.289786\n",
      "  validation loss:\t\t0.300567\n",
      "  validation accuracy:\t\t86.89 %\n",
      "Epoch 58 of 1000 took 8.143s\n",
      "  training loss:\t\t0.281585\n",
      "  validation loss:\t\t0.311420\n",
      "  validation accuracy:\t\t85.14 %\n",
      "Epoch 59 of 1000 took 8.122s\n",
      "  training loss:\t\t0.282439\n",
      "  validation loss:\t\t0.307481\n",
      "  validation accuracy:\t\t86.07 %\n",
      "Epoch 60 of 1000 took 8.115s\n",
      "  training loss:\t\t0.274630\n",
      "  validation loss:\t\t0.317873\n",
      "  validation accuracy:\t\t85.14 %\n",
      "Epoch 61 of 1000 took 8.062s\n",
      "  training loss:\t\t0.262099\n",
      "  validation loss:\t\t0.331561\n",
      "  validation accuracy:\t\t84.73 %\n",
      "Epoch 62 of 1000 took 8.092s\n",
      "  training loss:\t\t0.268474\n",
      "  validation loss:\t\t0.357487\n",
      "  validation accuracy:\t\t85.96 %\n",
      "Epoch 63 of 1000 took 8.090s\n",
      "  training loss:\t\t0.257992\n",
      "  validation loss:\t\t0.317456\n",
      "  validation accuracy:\t\t86.07 %\n",
      "Epoch 64 of 1000 took 8.178s\n",
      "  training loss:\t\t0.253554\n",
      "  validation loss:\t\t0.299521\n",
      "  validation accuracy:\t\t87.00 %\n",
      "Epoch 65 of 1000 took 8.174s\n",
      "  training loss:\t\t0.249749\n",
      "  validation loss:\t\t0.307095\n",
      "  validation accuracy:\t\t86.38 %\n",
      "Epoch 66 of 1000 took 8.151s\n",
      "  training loss:\t\t0.240590\n",
      "  validation loss:\t\t0.320555\n",
      "  validation accuracy:\t\t85.45 %\n",
      "Epoch 67 of 1000 took 8.141s\n",
      "  training loss:\t\t0.231247\n",
      "  validation loss:\t\t0.328706\n",
      "  validation accuracy:\t\t85.96 %\n",
      "Epoch 68 of 1000 took 8.116s\n",
      "  training loss:\t\t0.227088\n",
      "  validation loss:\t\t0.322449\n",
      "  validation accuracy:\t\t84.62 %\n",
      "Epoch 69 of 1000 took 8.115s\n",
      "  training loss:\t\t0.228749\n",
      "  validation loss:\t\t0.328913\n",
      "  validation accuracy:\t\t85.55 %\n",
      "Epoch 70 of 1000 took 8.114s\n",
      "  training loss:\t\t0.217787\n",
      "  validation loss:\t\t0.314893\n",
      "  validation accuracy:\t\t86.89 %\n",
      "Epoch 71 of 1000 took 8.072s\n",
      "  training loss:\t\t0.209956\n",
      "  validation loss:\t\t0.371213\n",
      "  validation accuracy:\t\t85.55 %\n",
      "Epoch 72 of 1000 took 8.322s\n",
      "  training loss:\t\t0.205778\n",
      "  validation loss:\t\t0.334914\n",
      "  validation accuracy:\t\t86.48 %\n",
      "Epoch 73 of 1000 took 8.153s\n",
      "  training loss:\t\t0.202652\n",
      "  validation loss:\t\t0.359327\n",
      "  validation accuracy:\t\t85.45 %\n",
      "Epoch 74 of 1000 took 8.128s\n",
      "  training loss:\t\t0.201478\n",
      "  validation loss:\t\t0.359356\n",
      "  validation accuracy:\t\t85.86 %\n",
      "Epoch 75 of 1000 took 8.126s\n",
      "  training loss:\t\t0.187512\n",
      "  validation loss:\t\t0.312816\n",
      "  validation accuracy:\t\t86.79 %\n",
      "Epoch 76 of 1000 took 8.105s\n",
      "  training loss:\t\t0.189837\n",
      "  validation loss:\t\t0.351868\n",
      "  validation accuracy:\t\t86.27 %\n",
      "Epoch 77 of 1000 took 8.090s\n",
      "  training loss:\t\t0.166361\n",
      "  validation loss:\t\t0.370559\n",
      "  validation accuracy:\t\t86.38 %\n",
      "Epoch 78 of 1000 took 8.085s\n",
      "  training loss:\t\t0.172679\n",
      "  validation loss:\t\t0.387692\n",
      "  validation accuracy:\t\t87.00 %\n",
      "Epoch 79 of 1000 took 8.190s\n",
      "  training loss:\t\t0.151516\n",
      "  validation loss:\t\t0.336229\n",
      "  validation accuracy:\t\t86.79 %\n",
      "Epoch 80 of 1000 took 8.170s\n",
      "  training loss:\t\t0.142024\n",
      "  validation loss:\t\t0.363941\n",
      "  validation accuracy:\t\t86.69 %\n",
      "Epoch 81 of 1000 took 8.157s\n",
      "  training loss:\t\t0.138445\n",
      "  validation loss:\t\t0.384887\n",
      "  validation accuracy:\t\t87.20 %\n",
      "Epoch 82 of 1000 took 8.159s\n",
      "  training loss:\t\t0.148917\n",
      "  validation loss:\t\t0.372014\n",
      "  validation accuracy:\t\t87.31 %\n",
      "Epoch 83 of 1000 took 8.109s\n",
      "  training loss:\t\t0.133988\n",
      "  validation loss:\t\t0.358533\n",
      "  validation accuracy:\t\t86.27 %\n",
      "Epoch 84 of 1000 took 8.097s\n",
      "  training loss:\t\t0.130030\n",
      "  validation loss:\t\t0.383942\n",
      "  validation accuracy:\t\t86.79 %\n",
      "Epoch 85 of 1000 took 8.149s\n",
      "  training loss:\t\t0.119127\n",
      "  validation loss:\t\t0.406853\n",
      "  validation accuracy:\t\t86.79 %\n"
     ]
    },
    {
     "ename": "KeyboardInterrupt",
     "evalue": "",
     "output_type": "error",
     "traceback": [
      "\u001b[1;31m---------------------------------------------------------------------------\u001b[0m",
      "\u001b[1;31mKeyboardInterrupt\u001b[0m                         Traceback (most recent call last)",
      "\u001b[1;32m<ipython-input-19-860497b87d4d>\u001b[0m in \u001b[0;36m<module>\u001b[1;34m()\u001b[0m\n\u001b[0;32m     12\u001b[0m     \u001b[1;32mfor\u001b[0m \u001b[0mbatch\u001b[0m \u001b[1;32min\u001b[0m \u001b[0miterate_minibatches\u001b[0m\u001b[1;33m(\u001b[0m\u001b[0mX_train\u001b[0m\u001b[1;33m,\u001b[0m \u001b[0my_train\u001b[0m\u001b[1;33m,\u001b[0m \u001b[0mbatchsize\u001b[0m\u001b[1;33m,\u001b[0m \u001b[0mshuffle\u001b[0m\u001b[1;33m=\u001b[0m\u001b[0mTrue\u001b[0m\u001b[1;33m)\u001b[0m\u001b[1;33m:\u001b[0m\u001b[1;33m\u001b[0m\u001b[0m\n\u001b[0;32m     13\u001b[0m         \u001b[0minputs\u001b[0m\u001b[1;33m,\u001b[0m \u001b[0mtargets\u001b[0m \u001b[1;33m=\u001b[0m \u001b[0mbatch\u001b[0m\u001b[1;33m\u001b[0m\u001b[0m\n\u001b[1;32m---> 14\u001b[1;33m         \u001b[0mtrain_err\u001b[0m \u001b[1;33m+=\u001b[0m \u001b[0mtrain_fn\u001b[0m\u001b[1;33m(\u001b[0m\u001b[0minputs\u001b[0m\u001b[1;33m,\u001b[0m \u001b[0mtargets\u001b[0m\u001b[1;33m)\u001b[0m\u001b[1;33m\u001b[0m\u001b[0m\n\u001b[0m\u001b[0;32m     15\u001b[0m         \u001b[0mtrain_batches\u001b[0m \u001b[1;33m+=\u001b[0m \u001b[1;36m1\u001b[0m\u001b[1;33m\u001b[0m\u001b[0m\n\u001b[0;32m     16\u001b[0m \u001b[1;33m\u001b[0m\u001b[0m\n",
      "\u001b[1;32m/home/libfun/.virtualenvs/main/local/lib/python2.7/site-packages/theano/compile/function_module.pyc\u001b[0m in \u001b[0;36m__call__\u001b[1;34m(self, *args, **kwargs)\u001b[0m\n\u001b[0;32m    857\u001b[0m         \u001b[0mt0_fn\u001b[0m \u001b[1;33m=\u001b[0m \u001b[0mtime\u001b[0m\u001b[1;33m.\u001b[0m\u001b[0mtime\u001b[0m\u001b[1;33m(\u001b[0m\u001b[1;33m)\u001b[0m\u001b[1;33m\u001b[0m\u001b[0m\n\u001b[0;32m    858\u001b[0m         \u001b[1;32mtry\u001b[0m\u001b[1;33m:\u001b[0m\u001b[1;33m\u001b[0m\u001b[0m\n\u001b[1;32m--> 859\u001b[1;33m             \u001b[0moutputs\u001b[0m \u001b[1;33m=\u001b[0m \u001b[0mself\u001b[0m\u001b[1;33m.\u001b[0m\u001b[0mfn\u001b[0m\u001b[1;33m(\u001b[0m\u001b[1;33m)\u001b[0m\u001b[1;33m\u001b[0m\u001b[0m\n\u001b[0m\u001b[0;32m    860\u001b[0m         \u001b[1;32mexcept\u001b[0m \u001b[0mException\u001b[0m\u001b[1;33m:\u001b[0m\u001b[1;33m\u001b[0m\u001b[0m\n\u001b[0;32m    861\u001b[0m             \u001b[1;32mif\u001b[0m \u001b[0mhasattr\u001b[0m\u001b[1;33m(\u001b[0m\u001b[0mself\u001b[0m\u001b[1;33m.\u001b[0m\u001b[0mfn\u001b[0m\u001b[1;33m,\u001b[0m \u001b[1;34m'position_of_error'\u001b[0m\u001b[1;33m)\u001b[0m\u001b[1;33m:\u001b[0m\u001b[1;33m\u001b[0m\u001b[0m\n",
      "\u001b[1;31mKeyboardInterrupt\u001b[0m: "
     ]
    }
   ],
   "source": [
    "num_epochs = 1000\n",
    "batchsize = 50\n",
    "\n",
    "# Finally, launch the training loop.\n",
    "print(\"Starting training...\")\n",
    "# We iterate over epochs:\n",
    "for epoch in range(num_epochs):\n",
    "    # In each epoch, we do a full pass over the training data:\n",
    "    train_err = 0\n",
    "    train_batches = 0\n",
    "    start_time = time.time()\n",
    "    for batch in iterate_minibatches(X_train, y_train, batchsize, shuffle=True):\n",
    "        inputs, targets = batch\n",
    "        train_err += train_fn(inputs, targets)\n",
    "        train_batches += 1\n",
    "\n",
    "    # And a full pass over the validation data:\n",
    "    val_err = 0\n",
    "    val_acc = 0\n",
    "    val_batches = 0\n",
    "    for batch in iterate_minibatches(X_val, y_val, 1, shuffle=False):\n",
    "        inputs, targets = batch\n",
    "        err, acc = val_fn(inputs, targets)\n",
    "        val_err += err\n",
    "        val_acc += acc\n",
    "        val_batches += 1\n",
    "\n",
    "    # Then we print the results for this epoch:\n",
    "    print(\"Epoch {} of {} took {:.3f}s\".format(\n",
    "        epoch + 1, num_epochs, time.time() - start_time))\n",
    "    print(\"  training loss:\\t\\t{:.6f}\".format(train_err / train_batches))\n",
    "    print(\"  validation loss:\\t\\t{:.6f}\".format(val_err / val_batches))\n",
    "    print(\"  validation accuracy:\\t\\t{:.2f} %\".format(\n",
    "        val_acc / val_batches * 100))"
   ]
  },
  {
   "cell_type": "code",
   "execution_count": 15,
   "metadata": {
    "collapsed": true
   },
   "outputs": [],
   "source": [
    "X_train = data\n",
    "y_train = labels.genus.values.astype('int32')"
   ]
  },
  {
   "cell_type": "code",
   "execution_count": 16,
   "metadata": {
    "collapsed": false
   },
   "outputs": [],
   "source": [
    "tst = pd.read_csv('./SubmissionFormat.csv')"
   ]
  },
  {
   "cell_type": "code",
   "execution_count": 17,
   "metadata": {
    "collapsed": true
   },
   "outputs": [],
   "source": [
    "test_data = np.zeros((992, 3, 200, 200), dtype='float32')"
   ]
  },
  {
   "cell_type": "code",
   "execution_count": 18,
   "metadata": {
    "collapsed": false
   },
   "outputs": [],
   "source": [
    "k = 0\n",
    "for i in tst.id.values:\n",
    "    with open('./bee_images/test/'+str(i)+'.jpg', 'r') as f:\n",
    "        img = mpimg.imread(f, format='jpg')\n",
    "        img2 = np.zeros((3,200,200))\n",
    "        for j in range(3):\n",
    "            img2[j,:,:] = img[:,:,j] / np.float(256)\n",
    "        test_data[k] = img2.copy()\n",
    "    k += 1"
   ]
  },
  {
   "cell_type": "code",
   "execution_count": 21,
   "metadata": {
    "collapsed": false
   },
   "outputs": [
    {
     "name": "stdout",
     "output_type": "stream",
     "text": [
      "Starting training...\n",
      "Epoch 1 of 30 took 9.987s\n",
      "  training loss:\t\t0.547457\n",
      "Epoch 2 of 30 took 9.911s\n",
      "  training loss:\t\t0.511470\n",
      "Epoch 3 of 30 took 10.037s\n",
      "  training loss:\t\t0.507766\n",
      "Epoch 4 of 30 took 10.012s\n",
      "  training loss:\t\t0.502669\n",
      "Epoch 5 of 30 took 10.037s\n",
      "  training loss:\t\t0.498184\n",
      "Epoch 6 of 30 took 9.952s\n",
      "  training loss:\t\t0.486899\n",
      "Epoch 7 of 30 took 9.913s\n",
      "  training loss:\t\t0.473765\n",
      "Epoch 8 of 30 took 9.904s\n",
      "  training loss:\t\t0.457293\n",
      "Epoch 9 of 30 took 9.902s\n",
      "  training loss:\t\t0.438585\n",
      "Epoch 10 of 30 took 9.917s\n",
      "  training loss:\t\t0.433532\n",
      "Epoch 11 of 30 took 9.923s\n",
      "  training loss:\t\t0.411836\n",
      "Epoch 12 of 30 took 9.906s\n",
      "  training loss:\t\t0.405422\n",
      "Epoch 13 of 30 took 9.927s\n",
      "  training loss:\t\t0.389874\n",
      "Epoch 14 of 30 took 9.914s\n",
      "  training loss:\t\t0.385190\n",
      "Epoch 15 of 30 took 9.912s\n",
      "  training loss:\t\t0.375876\n",
      "Epoch 16 of 30 took 9.926s\n",
      "  training loss:\t\t0.361219\n",
      "Epoch 17 of 30 took 9.911s\n",
      "  training loss:\t\t0.351093\n",
      "Epoch 18 of 30 took 9.918s\n",
      "  training loss:\t\t0.335968\n",
      "Epoch 19 of 30 took 9.928s\n",
      "  training loss:\t\t0.320796\n",
      "Epoch 20 of 30 took 9.911s\n",
      "  training loss:\t\t0.317022\n",
      "Epoch 21 of 30 took 10.008s\n",
      "  training loss:\t\t0.305535\n",
      "Epoch 22 of 30 took 9.911s\n",
      "  training loss:\t\t0.301848\n",
      "Epoch 23 of 30 took 9.917s\n",
      "  training loss:\t\t0.287001\n",
      "Epoch 24 of 30 took 9.933s\n",
      "  training loss:\t\t0.270770\n",
      "Epoch 25 of 30 took 9.900s\n",
      "  training loss:\t\t0.271237\n",
      "Epoch 26 of 30 took 9.922s\n",
      "  training loss:\t\t0.252546\n",
      "Epoch 27 of 30 took 9.919s\n",
      "  training loss:\t\t0.240236\n",
      "Epoch 28 of 30 took 9.939s\n",
      "  training loss:\t\t0.228287\n",
      "Epoch 29 of 30 took 9.919s\n",
      "  training loss:\t\t0.221466\n",
      "Epoch 30 of 30 took 9.922s\n",
      "  training loss:\t\t0.219438\n"
     ]
    }
   ],
   "source": [
    "num_epochs = 30\n",
    "\n",
    "# Finally, launch the training loop.\n",
    "print(\"Starting training...\")\n",
    "# We iterate over epochs:\n",
    "for epoch in range(num_epochs):\n",
    "    # In each epoch, we do a full pass over the training data:\n",
    "    train_err = 0\n",
    "    train_batches = 0\n",
    "    start_time = time.time()\n",
    "    for batch in iterate_minibatches(X_train, y_train, 100, shuffle=True):\n",
    "        inputs, targets = batch\n",
    "        train_err += train_fn(inputs, targets)\n",
    "        train_batches += 1\n",
    "\n",
    "    # Then we print the results for this epoch:\n",
    "    print(\"Epoch {} of {} took {:.3f}s\".format(\n",
    "        epoch + 1, num_epochs, time.time() - start_time))\n",
    "    print(\"  training loss:\\t\\t{:.6f}\".format(train_err / train_batches))"
   ]
  },
  {
   "cell_type": "code",
   "execution_count": 23,
   "metadata": {
    "collapsed": true
   },
   "outputs": [],
   "source": [
    "def iterate_testbatches(inputs, batchsize, shuffle=False):\n",
    "    assert len(inputs)\n",
    "    for start_idx in range(0, len(inputs) - batchsize + 1, batchsize):\n",
    "        if shuffle:\n",
    "            excerpt = indices[start_idx:start_idx + batchsize]\n",
    "        else:\n",
    "            excerpt = slice(start_idx, start_idx + batchsize)\n",
    "        yield inputs[excerpt]"
   ]
  },
  {
   "cell_type": "code",
   "execution_count": 36,
   "metadata": {
    "collapsed": false
   },
   "outputs": [],
   "source": [
    "ans = []\n",
    "for t in test_data:\n",
    "    vals = test_fn(t.reshape((1,3,200,200)))\n",
    "    ans.append(vals[:,1])"
   ]
  },
  {
   "cell_type": "code",
   "execution_count": 39,
   "metadata": {
    "collapsed": false,
    "scrolled": true
   },
   "outputs": [],
   "source": [
    "res = np.array(ans).reshape(992)"
   ]
  },
  {
   "cell_type": "code",
   "execution_count": 40,
   "metadata": {
    "collapsed": false
   },
   "outputs": [],
   "source": [
    "tst.genus = res.copy()"
   ]
  },
  {
   "cell_type": "code",
   "execution_count": 42,
   "metadata": {
    "collapsed": false
   },
   "outputs": [],
   "source": [
    "tst.to_csv('./first.csv', index = False)"
   ]
  },
  {
   "cell_type": "code",
   "execution_count": null,
   "metadata": {
    "collapsed": true
   },
   "outputs": [],
   "source": []
  }
 ],
 "metadata": {
  "kernelspec": {
   "display_name": "Python 2",
   "language": "python",
   "name": "python2"
  },
  "language_info": {
   "codemirror_mode": {
    "name": "ipython",
    "version": 2
   },
   "file_extension": ".py",
   "mimetype": "text/x-python",
   "name": "python",
   "nbconvert_exporter": "python",
   "pygments_lexer": "ipython2",
   "version": "2.7.6"
  }
 },
 "nbformat": 4,
 "nbformat_minor": 0
}
